{
 "cells": [
  {
   "cell_type": "code",
   "execution_count": 3,
   "metadata": {},
   "outputs": [
    {
     "data": {
      "text/plain": [
       "'\\n#url=[\\'http://www1.mbrace.or.jp/od2/K/201804/18/07.html\\',\"http://www1.mbrace.or.jp/od2/K/201804/18/08.html\"]\\nHTML_res=requests.get(\\'http://www1.mbrace.or.jp/od2/K/201804/18/07.html\\')\\n#HTML_res.status_code  HTMLが取得できているかの確認\\nHTML_doc=HTML_res.content#pip install chardet 要\\u3000文字化け防止\\nHTML=BeautifulSoup(HTML_doc,\\'lxml\\')#pip install lxmlでインストール要\\nresult_data_text=[]\\nfor HTML in HTML.find_all(\\'pre\\'):\\n    result_data_text.append(HTML.get_text())\\nresult_data_text[0]=\\'\\n\\'\\nresult_data_text[1][:621]\\nprint(result_data_text[1][:621])\\n\\n#for i in range(13):\\n#    print(result_data_text[i])\\n'"
      ]
     },
     "execution_count": 3,
     "metadata": {},
     "output_type": "execute_result"
    }
   ],
   "source": [
    "import requests\n",
    "from bs4 import BeautifulSoup\n",
    "import time\n",
    "\"\"\"\n",
    "#url=['http://www1.mbrace.or.jp/od2/K/201804/18/07.html',\"http://www1.mbrace.or.jp/od2/K/201804/18/08.html\"]\n",
    "HTML_res=requests.get('http://www1.mbrace.or.jp/od2/K/201804/18/07.html')\n",
    "#HTML_res.status_code  HTMLが取得できているかの確認\n",
    "HTML_doc=HTML_res.content#pip install chardet 要　文字化け防止\n",
    "HTML=BeautifulSoup(HTML_doc,'lxml')#pip install lxmlでインストール要\n",
    "result_data_text=[]\n",
    "for HTML in HTML.find_all('pre'):\n",
    "    result_data_text.append(HTML.get_text())\n",
    "result_data_text[0]='\\n'\n",
    "result_data_text[1][:621]\n",
    "print(result_data_text[1][:621])\n",
    "\n",
    "#for i in range(13):\n",
    "#    print(result_data_text[i])\n",
    "\"\"\""
   ]
  },
  {
   "cell_type": "code",
   "execution_count": 2,
   "metadata": {},
   "outputs": [
    {
     "data": {
      "text/plain": [
       "\"\\nwith open('result_test.txt','a') as f:\\n       for i in range(len(result_data_text)):\\n           print(result_data_text[i],file=f)\""
      ]
     },
     "execution_count": 2,
     "metadata": {},
     "output_type": "execute_result"
    }
   ],
   "source": [
    "\"\"\"\n",
    "with open('result_test.txt','a') as f:\n",
    "       for i in range(len(result_data_text)):\n",
    "           print(result_data_text[i],file=f)\"\"\""
   ]
  },
  {
   "cell_type": "code",
   "execution_count": 1,
   "metadata": {},
   "outputs": [
    {
     "ename": "NameError",
     "evalue": "name 'requests' is not defined",
     "output_type": "error",
     "traceback": [
      "\u001b[1;31m---------------------------------------------------------------------------\u001b[0m",
      "\u001b[1;31mNameError\u001b[0m                                 Traceback (most recent call last)",
      "\u001b[1;32m<ipython-input-1-5ab8994a82aa>\u001b[0m in \u001b[0;36m<module>\u001b[1;34m\u001b[0m\n\u001b[0;32m     28\u001b[0m \u001b[0murl\u001b[0m\u001b[1;33m=\u001b[0m\u001b[1;33m[\u001b[0m\u001b[1;34m'http://www1.mbrace.or.jp/od2/K/201804/18/07.html'\u001b[0m\u001b[1;33m,\u001b[0m\u001b[1;34m'http://www1.mbrace.or.jp/od2/K/201804/18/34.html'\u001b[0m\u001b[1;33m]\u001b[0m\u001b[1;33m\u001b[0m\u001b[1;33m\u001b[0m\u001b[0m\n\u001b[0;32m     29\u001b[0m \u001b[1;32mfor\u001b[0m \u001b[0murl\u001b[0m \u001b[1;32min\u001b[0m \u001b[0murl\u001b[0m\u001b[1;33m:\u001b[0m\u001b[1;33m\u001b[0m\u001b[1;33m\u001b[0m\u001b[0m\n\u001b[1;32m---> 30\u001b[1;33m     \u001b[0mHTML_res\u001b[0m\u001b[1;33m=\u001b[0m\u001b[0mrequests\u001b[0m\u001b[1;33m.\u001b[0m\u001b[0mget\u001b[0m\u001b[1;33m(\u001b[0m\u001b[0murl\u001b[0m\u001b[1;33m)\u001b[0m\u001b[1;33m\u001b[0m\u001b[1;33m\u001b[0m\u001b[0m\n\u001b[0m\u001b[0;32m     31\u001b[0m     \u001b[0mprint\u001b[0m\u001b[1;33m(\u001b[0m\u001b[1;34m'すくれいぴんぐ中'\u001b[0m\u001b[1;33m,\u001b[0m\u001b[0murl\u001b[0m\u001b[1;33m)\u001b[0m\u001b[1;33m\u001b[0m\u001b[1;33m\u001b[0m\u001b[0m\n\u001b[0;32m     32\u001b[0m     \u001b[1;32mif\u001b[0m \u001b[0mHTML_res\u001b[0m\u001b[1;33m.\u001b[0m\u001b[0mstatus_code\u001b[0m\u001b[1;33m==\u001b[0m\u001b[1;36m200\u001b[0m\u001b[1;33m:\u001b[0m\u001b[1;31m#URLが存在するときのみスクレイピングを行う。\u001b[0m\u001b[1;33m\u001b[0m\u001b[1;33m\u001b[0m\u001b[0m\n",
      "\u001b[1;31mNameError\u001b[0m: name 'requests' is not defined"
     ]
    }
   ],
   "source": [
    "\"\"\"\n",
    "#url=['http://www1.mbrace.or.jp/od2/K/201804/18/07.html',\"http://www1.mbrace.or.jp/od2/K/201804/18/08.html\"]\n",
    "#for url in url:\n",
    "year=['2012','2013','2014','2015','2016','2017','2018']\n",
    "month=['04','05','06','07','08','09','10','11','12']\n",
    "day=\n",
    "\n",
    "\n",
    "    HTML_res=requests.get(url)\n",
    "    HTML_doc=HTML_res.content#pip install chardet 要　文字化け防止\n",
    "    HTML=BeautifulSoup(HTML_doc,'lxml')#pip install lxmlでインストール要\n",
    "    result_data_text=[]\n",
    "    for HTML in HTML.find_all('pre'):\n",
    "        result_data_text.append(HTML.get_text())\n",
    "    result_data_text[0]='\\n'\n",
    "    with open('result_test.txt','a') as f:\n",
    "        for i in range(len(result_data_text)):\n",
    "            if(i==1):\n",
    "                print(result_data_text[i][:621],file=f)\n",
    "            else:\n",
    "                 print(result_data_text[i][:622],file=f)\n",
    "                 print('\\n',file=f)\n",
    "\n",
    "\"\"\"\n",
    "#URLが存在しないときの機能追加版\n",
    "\n",
    "\n",
    "url=['http://www1.mbrace.or.jp/od2/K/201804/18/07.html','http://www1.mbrace.or.jp/od2/K/201804/18/34.html']\n",
    "for url in url:\n",
    "    HTML_res=requests.get(url)\n",
    "    print('すくれいぴんぐ中',url)\n",
    "    if HTML_res.status_code==200:#URLが存在するときのみスクレイピングを行う。\n",
    "        HTML_doc=HTML_res.content#pip install chardet 要　文字化け防止\n",
    "        HTML=BeautifulSoup(HTML_doc,'lxml')#pip install lxmlでインストール要\n",
    "        result_data_text=[]\n",
    "        for HTML in HTML.find_all('pre'):\n",
    "            result_data_text.append(HTML.get_text())\n",
    "        result_data_text[0]='\\n'\n",
    "        with open('result_test.txt','a') as f:\n",
    "            for i in range(len(result_data_text)):\n",
    "                if(i==1):\n",
    "                    print(result_data_text[i][:910],file=f)\n",
    "                else:\n",
    "                     print(result_data_text[i][:910],file=f)\n",
    "                     print('\\n',file=f)\n",
    "        time.sleep(5)    \n",
    "         \n",
    "        \n",
    "    else:\n",
    "         pass\n",
    "\n"
   ]
  },
  {
   "cell_type": "code",
   "execution_count": 59,
   "metadata": {},
   "outputs": [
    {
     "name": "stdout",
     "output_type": "stream",
     "text": [
      "http://www1.mbrace.or.jp/od2/K/201204/18/04.html\n"
     ]
    }
   ],
   "source": [
    "\n",
    "url_list=[]\n",
    "year=['2012','2013','2014','2015','2016','2017','2018']\n",
    "month=['04','05','06','07','08','09','10','11','12']\n",
    "day=['01','02','03','04','05','06','07','08','09','10','11','12','13','14','15','16','17','18','19','20','21','22','23','24','25','26','27','28','29','30','31']\n",
    "for year in year:\n",
    "    for month in month:\n",
    "        for day in day:\n",
    "            print('すくれいぴんぐ中',)\n",
    "            url=\"http://www1.mbrace.or.jp/od2/K/{0}{1}/18/{2}.html\".format(year,month,day)\n",
    "            url_list.append(url)\n"
   ]
  },
  {
   "cell_type": "code",
   "execution_count": null,
   "metadata": {},
   "outputs": [],
   "source": []
  }
 ],
 "metadata": {
  "kernelspec": {
   "display_name": "Python 3",
   "language": "python",
   "name": "python3"
  },
  "language_info": {
   "codemirror_mode": {
    "name": "ipython",
    "version": 3
   },
   "file_extension": ".py",
   "mimetype": "text/x-python",
   "name": "python",
   "nbconvert_exporter": "python",
   "pygments_lexer": "ipython3",
   "version": "3.7.4"
  }
 },
 "nbformat": 4,
 "nbformat_minor": 2
}
