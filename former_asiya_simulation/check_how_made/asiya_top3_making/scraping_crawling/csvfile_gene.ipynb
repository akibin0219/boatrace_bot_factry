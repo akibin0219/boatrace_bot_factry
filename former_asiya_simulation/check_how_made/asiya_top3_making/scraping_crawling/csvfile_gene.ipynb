{
 "cells": [
  {
   "cell_type": "code",
   "execution_count": 3,
   "metadata": {
    "scrolled": true
   },
   "outputs": [],
   "source": [
    "folder=['2012','2013','2014','2015','2016','2017','2018','2019','2020']\n",
    "for year in folder:\n",
    "    file_path_write=\"asiya_result_txt/{0}_result_asiya.txt\".format(str(year))\n",
    "    with open(file_path_write,'w',encoding=\"utf-8_sig\") as f:\n",
    "        pass"
   ]
  },
  {
   "cell_type": "code",
   "execution_count": null,
   "metadata": {},
   "outputs": [],
   "source": []
  }
 ],
 "metadata": {
  "kernelspec": {
   "display_name": "Python 3",
   "language": "python",
   "name": "python3"
  },
  "language_info": {
   "codemirror_mode": {
    "name": "ipython",
    "version": 3
   },
   "file_extension": ".py",
   "mimetype": "text/x-python",
   "name": "python",
   "nbconvert_exporter": "python",
   "pygments_lexer": "ipython3",
   "version": "3.7.4"
  }
 },
 "nbformat": 4,
 "nbformat_minor": 2
}
