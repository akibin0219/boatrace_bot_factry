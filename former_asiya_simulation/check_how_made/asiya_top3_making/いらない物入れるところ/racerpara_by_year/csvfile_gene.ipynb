{
 "cells": [
  {
   "cell_type": "code",
   "execution_count": 1,
   "metadata": {},
   "outputs": [],
   "source": [
    "folder=[19,18,17,16,15,14,13,12]\n",
    "file_path=[0,1]\n",
    "for year in folder:\n",
    "    for path in file_path:\n",
    "        file_path_write_cep=\"{0}/{1}_{2}.csv\".format(str(year),str(year),str(path))\n",
    "        with open(file_path_write_cep,'w',encoding=\"utf-8_sig\") as f:\n",
    "            pass\n",
    "    file_path_write=\"{0}/{1}.csv\".format(str(year),str(year))\n",
    "    with open(file_path_write,'w',encoding=\"utf-8_sig\") as f:\n",
    "        pass"
   ]
  },
  {
   "cell_type": "code",
   "execution_count": null,
   "metadata": {},
   "outputs": [],
   "source": []
  }
 ],
 "metadata": {
  "kernelspec": {
   "display_name": "Python 3",
   "language": "python",
   "name": "python3"
  },
  "language_info": {
   "codemirror_mode": {
    "name": "ipython",
    "version": 3
   },
   "file_extension": ".py",
   "mimetype": "text/x-python",
   "name": "python",
   "nbconvert_exporter": "python",
   "pygments_lexer": "ipython3",
   "version": "3.7.4"
  }
 },
 "nbformat": 4,
 "nbformat_minor": 2
}
