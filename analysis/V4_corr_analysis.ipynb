{
 "cells": [
  {
   "cell_type": "markdown",
   "id": "significant-blood",
   "metadata": {},
   "source": [
    "# スコアシートの総当たり閾値検索に加えて，相関係数も算出する\n",
    "## なぜ？\n",
    "## ＝閾値をクリアした同一comのモデルの中で，最終的に使うモデルを一つに絞るため"
   ]
  },
  {
   "cell_type": "code",
   "execution_count": 1,
   "id": "illegal-milan",
   "metadata": {},
   "outputs": [],
   "source": [
    "import pandas as pd\n",
    "import numpy as np\n",
    "from sklearn.metrics import accuracy_score\n",
    "from sklearn.model_selection import cross_val_score\n",
    "from matplotlib import pyplot as plt\n",
    "\n",
    "import seaborn\n",
    "from pandas import DataFrame\n",
    "from tqdm import tqdm\n",
    "from imblearn.under_sampling import RandomUnderSampler #アンダーサンプリング用\n",
    "from sklearn.model_selection import train_test_split\n",
    "import pickle\n",
    "# 機械学習用\n",
    "from sklearn.cluster import KMeans #クラスタリング用\n",
    "from sklearn.ensemble import RandomForestClassifier#ランダムフォレスト\n",
    "from copy import deepcopy as cp\n",
    "from sklearn.linear_model import LogisticRegression\n",
    "import time\n",
    "import datetime\n",
    "from dateutil.relativedelta import relativedelta\n",
    "import os #ディレクトリ作成用\n",
    "import xgboost as xgb\n",
    "import sys\n",
    "#自作のモジュールのインポート\n",
    "sys.path.append(\"..\")\n",
    "import module.master as master\n",
    "import module.modeling_scores as modeling\n"
   ]
  },
  {
   "cell_type": "markdown",
   "id": "instrumental-commonwealth",
   "metadata": {},
   "source": [
    "### 方針\n",
    "### ＝４つの区間をすべて使う，閾値の検索は無しとして決めのパラメータだけで絞り，その後各変数とfinal_gainとの相関係数を算出して，最終的に標準化した偏差値と組み合わせる"
   ]
  },
  {
   "cell_type": "code",
   "execution_count": 13,
   "id": "wrapped-divorce",
   "metadata": {},
   "outputs": [],
   "source": [
    "# 芦屋だけでひとまず機能を完成させる\n",
    "#きめのパラメータ\n",
    "place_name='asiya'\n",
    "plus_m_th=3\n",
    "num_hit_th=10\n",
    "versions=['V4_1','V4_2','V4_3']\n",
    "modes=['asiya_model_score_','asiya_model_score_period_']#モードは直近三カ月と，昨年同月の二種類\n",
    "mode_types=['recent','period']#モードは直近三カ月と，昨年同月の二種類,modesと一緒にzipで回す\n",
    "\n",
    "#for version in versions:\n",
    "version='V4_2'\n",
    "version_df=pd.DataFrame()#区間ごとのスコアシートの結合先（バージョンごとのまとめ）\n",
    "for mode,mode_type in zip(modes,mode_types):\n",
    "    for i in range(4):\n",
    "        now_ym=datetime.datetime(year=2020, month=1+(i*3),day=1).strftime('%Y%m%d')\n",
    "        dir_path='../../bot_database/{place_name}/model_score_{place_name}/v4_score/{version}/{mode}st{now_ym}_finalM3_{version}.csv'.format(place_name=place_name,mode=mode,now_ym=now_ym,version=version)\n",
    "        model_score_df=pd.read_csv(dir_path, encoding='utf_8_sig')\n",
    "        model_score_df=model_score_df.drop([\"Unnamed: 0\"],axis=1)\n",
    "         #決めのパラメータでいったん切り落とし\n",
    "        model_score_df=model_score_df[model_score_df['plus_month_num_test']>=plus_m_th].copy()#収益がプラスだった月の数で切り捨てる\n",
    "        model_score_df=model_score_df[model_score_df['num_hit_test']>=num_hit_th].copy()#的中した予測の数で切り捨てる，大体一カ月に一件くらいをイメージ\n",
    "        version_df= pd.concat([version_df, model_score_df], axis=0)#きめのパラメータで切り落としたので結合\n",
    "#相関係数の算出（範囲は-1～1）\n",
    "version_corr_df=version_df.corr()"
   ]
  },
  {
   "cell_type": "code",
   "execution_count": 14,
   "id": "stainless-support",
   "metadata": {},
   "outputs": [
    {
     "data": {
      "text/plain": [
       "target_com               0.237996\n",
       "depth                   -0.001983\n",
       "target_per              -0.016965\n",
       "threshold               -0.035868\n",
       "total_get_test          -0.050708\n",
       "total_use_test           0.025726\n",
       "num_com_test            -0.053928\n",
       "num_pred_test            0.025726\n",
       "gain_test               -0.090430\n",
       "gain_std_test            0.188157\n",
       "num_hit_test            -0.168868\n",
       "buy_hit_per_test        -0.231643\n",
       "buy_hit_per_std_test    -0.168131\n",
       "plus_month_num_test      0.004838\n",
       "diff_mea_med_test       -0.128476\n",
       "total_get_final          0.728426\n",
       "total_use_final         -0.047977\n",
       "num_com_final            0.044912\n",
       "num_pred_final          -0.047977\n",
       "gain_final               1.000000\n",
       "gain_std_final           0.714854\n",
       "num_hit_final            0.161411\n",
       "buy_hit_per_final        0.263522\n",
       "buy_hit_per_std_final    0.071783\n",
       "plus_month_num_final     0.745362\n",
       "diff_mea_med_final       0.230377\n",
       "Name: gain_final, dtype: float64"
      ]
     },
     "execution_count": 14,
     "metadata": {},
     "output_type": "execute_result"
    }
   ],
   "source": [
    "version_corr_df['gain_final']"
   ]
  },
  {
   "cell_type": "code",
   "execution_count": 4,
   "id": "identical-complement",
   "metadata": {},
   "outputs": [],
   "source": [
    "model_score_df.to_csv(\"ex.csv\")"
   ]
  },
  {
   "cell_type": "code",
   "execution_count": null,
   "id": "fuzzy-beads",
   "metadata": {},
   "outputs": [],
   "source": []
  },
  {
   "cell_type": "code",
   "execution_count": null,
   "id": "subject-threshold",
   "metadata": {},
   "outputs": [],
   "source": []
  },
  {
   "cell_type": "code",
   "execution_count": null,
   "id": "respective-information",
   "metadata": {},
   "outputs": [],
   "source": []
  },
  {
   "cell_type": "code",
   "execution_count": null,
   "id": "identified-yeast",
   "metadata": {},
   "outputs": [],
   "source": []
  },
  {
   "cell_type": "code",
   "execution_count": null,
   "id": "rapid-bargain",
   "metadata": {},
   "outputs": [],
   "source": []
  },
  {
   "cell_type": "code",
   "execution_count": null,
   "id": "decimal-graph",
   "metadata": {},
   "outputs": [],
   "source": []
  },
  {
   "cell_type": "code",
   "execution_count": null,
   "id": "intimate-avatar",
   "metadata": {},
   "outputs": [],
   "source": []
  },
  {
   "cell_type": "code",
   "execution_count": null,
   "id": "pending-journalism",
   "metadata": {},
   "outputs": [],
   "source": []
  },
  {
   "cell_type": "code",
   "execution_count": null,
   "id": "interpreted-carpet",
   "metadata": {},
   "outputs": [],
   "source": []
  },
  {
   "cell_type": "code",
   "execution_count": null,
   "id": "velvet-memorabilia",
   "metadata": {},
   "outputs": [],
   "source": []
  },
  {
   "cell_type": "code",
   "execution_count": null,
   "id": "amateur-sampling",
   "metadata": {},
   "outputs": [],
   "source": []
  },
  {
   "cell_type": "code",
   "execution_count": null,
   "id": "chicken-corps",
   "metadata": {},
   "outputs": [],
   "source": []
  },
  {
   "cell_type": "code",
   "execution_count": null,
   "id": "destroyed-count",
   "metadata": {},
   "outputs": [],
   "source": []
  }
 ],
 "metadata": {
  "kernelspec": {
   "display_name": "Python 3",
   "language": "python",
   "name": "python3"
  },
  "language_info": {
   "codemirror_mode": {
    "name": "ipython",
    "version": 3
   },
   "file_extension": ".py",
   "mimetype": "text/x-python",
   "name": "python",
   "nbconvert_exporter": "python",
   "pygments_lexer": "ipython3",
   "version": "3.8.7"
  },
  "varInspector": {
   "cols": {
    "lenName": 16,
    "lenType": 16,
    "lenVar": 40
   },
   "kernels_config": {
    "python": {
     "delete_cmd_postfix": "",
     "delete_cmd_prefix": "del ",
     "library": "var_list.py",
     "varRefreshCmd": "print(var_dic_list())"
    },
    "r": {
     "delete_cmd_postfix": ") ",
     "delete_cmd_prefix": "rm(",
     "library": "var_list.r",
     "varRefreshCmd": "cat(var_dic_list()) "
    }
   },
   "types_to_exclude": [
    "module",
    "function",
    "builtin_function_or_method",
    "instance",
    "_Feature"
   ],
   "window_display": false
  }
 },
 "nbformat": 4,
 "nbformat_minor": 5
}
