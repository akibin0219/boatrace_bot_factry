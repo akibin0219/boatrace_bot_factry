{
 "cells": [
  {
   "cell_type": "markdown",
   "id": "strategic-paste",
   "metadata": {},
   "source": [
    "# モデル選定に関する収益ノートブック"
   ]
  },
  {
   "cell_type": "markdown",
   "id": "organic-dover",
   "metadata": {},
   "source": [
    "## パラメータで選択したモデルたちがどんなものなのか実際に確認する"
   ]
  },
  {
   "cell_type": "code",
   "execution_count": 24,
   "id": "australian-section",
   "metadata": {},
   "outputs": [],
   "source": [
    "import pandas as pd\n",
    "import numpy as np\n",
    "from sklearn.metrics import accuracy_score\n",
    "from sklearn.model_selection import cross_val_score\n",
    "from matplotlib import pyplot as plt\n",
    "\n",
    "import seaborn\n",
    "from pandas import DataFrame\n",
    "from tqdm import tqdm\n",
    "from imblearn.under_sampling import RandomUnderSampler #アンダーサンプリング用\n",
    "from sklearn.model_selection import train_test_split\n",
    "import pickle\n",
    "# 機械学習用\n",
    "from sklearn.cluster import KMeans #クラスタリング用\n",
    "from sklearn.ensemble import RandomForestClassifier#ランダムフォレスト\n",
    "from copy import deepcopy as cp\n",
    "from sklearn.linear_model import LogisticRegression\n",
    "import time\n",
    "import datetime\n",
    "from dateutil.relativedelta import relativedelta\n",
    "import os #ディレクトリ作成用\n",
    "import xgboost as xgb\n",
    "import sys\n",
    "from sklearn.preprocessing import StandardScaler#モデルの評価用に標準化する関数\n",
    "import scipy.stats#モデルの評価用に標準化する関数\n",
    "\n",
    "\n",
    "#自作のモジュールのインポート\n",
    "sys.path.append(\"..\")\n",
    "import module.master as master\n",
    "import module.modeling_scores as modeling\n"
   ]
  },
  {
   "cell_type": "markdown",
   "id": "handy-committee",
   "metadata": {},
   "source": [
    "# 関数"
   ]
  },
  {
   "cell_type": "code",
   "execution_count": 32,
   "id": "auburn-model",
   "metadata": {
    "code_folding": []
   },
   "outputs": [],
   "source": [
    "def add_std_score(good_model_df,feature_weights):#偏差値と相関係数をもとにしたスコアを与える\n",
    "    add_score_df=pd.DataFrame()\n",
    "    for com in sorted(good_model_df['target_com'].value_counts().index):\n",
    "        target_com_df=good_model_df[good_model_df['target_com']==com]\n",
    "        for f_name,weight in feature_weights.items():\n",
    "            target_com_df.loc[:,'{}_score'.format(f_name)]=scipy.stats.zscore(target_com_df['{}'.format(f_name)].values)\n",
    "            target_com_df.loc[:,'{}_score'.format(f_name)]=target_com_df['{}_score'.format(f_name)]*weight\n",
    "        target_com_df=target_com_df.fillna(0)\n",
    "        target_com_df['score']=0\n",
    "        for f_name in feature_weights.index:\n",
    "            target_com_df['score']=target_com_df['score']+target_com_df['{}_score'.format(f_name)]\n",
    "        #display(target_com_df)\n",
    "        add_score_df=pd.concat([add_score_df, target_com_df], axis=0)#きめのパラメータで切り落としたので結合\n",
    "    \n",
    "    return add_score_df\n",
    "\n",
    "\n",
    "def select_use_model(model_std_score_df):#相関係数と標準偏差によって与えられたscoreをもとに最終的に使用するモデルを選定する関数\n",
    "    use_model_df=pd.DataFrame()\n",
    "    for com in sorted(model_std_score_df['target_com'].value_counts().index):\n",
    "        target_com_df=model_std_score_df[model_std_score_df['target_com']==com].copy()\n",
    "        com_selected_row=target_com_df.sort_values('score', ascending=False).iloc[:1]\n",
    "        #use_model_df=pd.concat([use_model_df, com_selected_row], axis=0)#きめのパラメータで切り落としたので結合\n",
    "        use_model_df=use_model_df.append(com_selected_row,ignore_index=True)\n",
    "    return use_model_df\n",
    "\n",
    "\n",
    "def twin_plt(x,y1,y2,x_n,y1_n,y2_n):#2本軸でのグラフの描写\n",
    "    fig = plt.figure(figsize=(19,8))\n",
    "    plt.tick_params(colors='black')\n",
    "    plt.rcParams[\"font.size\"] = 18\n",
    "    \n",
    "    ax1 = fig.add_subplot()\n",
    "    fig.set_facecolor(color='white')\n",
    "    ax1.plot(x, y1,label=y1_n)\n",
    "    ax1.tick_params()\n",
    "    plt.ylim(80, 200)\n",
    "    ax2 = ax1.twinx()\n",
    "    #print(y2)\n",
    "    ax2.plot(x, y2,label=y2_n,color='red')\n",
    "    ax1.axhline(100,ls = \"-.\",color='green')\n",
    "    #ax2.tick_params(colors='white')\n",
    "    ax2.tick_params()\n",
    "\n",
    "    h1, l1 = ax1.get_legend_handles_labels()\n",
    "    h2, l2 = ax2.get_legend_handles_labels()\n",
    "    ax1.legend(h1+h2, l1+l2, loc='lower center')\n",
    "\n",
    "    #ax1.set_xlabel(x_n,color='white')\n",
    "    #ax1.set_ylabel(y1_n,color='white')\n",
    "    #ax2.set_ylabel(y2_n,color='white')\n",
    "    ax1.set_xlabel(x_n)\n",
    "    ax1.set_ylabel(y1_n)\n",
    "    ax2.set_ylabel(y2_n)\n",
    "    plt.show()\n",
    "    return None"
   ]
  },
  {
   "cell_type": "markdown",
   "id": "australian-reggae",
   "metadata": {},
   "source": [
    "## きめのパラメータでモデルを大ざっぱに切り落としたのちに，相関係数とスケーリングした標準偏差をもとに最終的に使用するモデルを決定する(芦屋のみ)"
   ]
  },
  {
   "cell_type": "code",
   "execution_count": 35,
   "id": "amateur-nudist",
   "metadata": {},
   "outputs": [
    {
     "name": "stdout",
     "output_type": "stream",
     "text": [
      "20200101 =============================================\n",
      "../../bot_database/asiya/model_score_asiya/v4_score/V4_2/asiya_model_score_st20201001_finalM3_V4_2.csv\n",
      "now_date: 20200101\n",
      "corr_date: 20201001\n",
      "total_get_test         -0.132220\n",
      "total_use_test          0.140490\n",
      "num_com_test            0.014234\n",
      "num_pred_test           0.140490\n",
      "gain_test              -0.314641\n",
      "gain_std_test           0.017181\n",
      "num_hit_test            0.075768\n",
      "buy_hit_per_test       -0.082782\n",
      "buy_hit_per_std_test    0.045092\n",
      "plus_month_num_test    -0.246939\n",
      "diff_mea_med_test      -0.040575\n",
      "Name: gain_final, dtype: float64\n",
      "20200401 =============================================\n",
      "../../bot_database/asiya/model_score_asiya/v4_score/V4_2/asiya_model_score_st20200101_finalM3_V4_2.csv\n",
      "now_date: 20200401\n",
      "corr_date: 20200101\n",
      "total_get_test         -0.321099\n",
      "total_use_test         -0.427365\n",
      "num_com_test            0.263478\n",
      "num_pred_test          -0.427365\n",
      "gain_test               0.199029\n",
      "gain_std_test           0.193816\n",
      "num_hit_test           -0.044145\n",
      "buy_hit_per_test        0.397996\n",
      "buy_hit_per_std_test    0.456119\n",
      "plus_month_num_test     0.136644\n",
      "diff_mea_med_test      -0.626330\n",
      "Name: gain_final, dtype: float64\n",
      "20200701 =============================================\n",
      "../../bot_database/asiya/model_score_asiya/v4_score/V4_2/asiya_model_score_st20200401_finalM3_V4_2.csv\n"
     ]
    },
    {
     "name": "stderr",
     "output_type": "stream",
     "text": [
      "c:\\users\\takuma\\nabepy\\env\\lib\\site-packages\\pandas\\core\\indexing.py:1597: SettingWithCopyWarning: \n",
      "A value is trying to be set on a copy of a slice from a DataFrame.\n",
      "Try using .loc[row_indexer,col_indexer] = value instead\n",
      "\n",
      "See the caveats in the documentation: https://pandas.pydata.org/pandas-docs/stable/user_guide/indexing.html#returning-a-view-versus-a-copy\n",
      "  self.obj[key] = value\n",
      "c:\\users\\takuma\\nabepy\\env\\lib\\site-packages\\pandas\\core\\indexing.py:1676: SettingWithCopyWarning: \n",
      "A value is trying to be set on a copy of a slice from a DataFrame.\n",
      "Try using .loc[row_indexer,col_indexer] = value instead\n",
      "\n",
      "See the caveats in the documentation: https://pandas.pydata.org/pandas-docs/stable/user_guide/indexing.html#returning-a-view-versus-a-copy\n",
      "  self._setitem_single_column(ilocs[0], value, pi)\n",
      "c:\\users\\takuma\\nabepy\\env\\lib\\site-packages\\pandas\\core\\indexing.py:1597: SettingWithCopyWarning: \n",
      "A value is trying to be set on a copy of a slice from a DataFrame.\n",
      "Try using .loc[row_indexer,col_indexer] = value instead\n",
      "\n",
      "See the caveats in the documentation: https://pandas.pydata.org/pandas-docs/stable/user_guide/indexing.html#returning-a-view-versus-a-copy\n",
      "  self.obj[key] = value\n",
      "c:\\users\\takuma\\nabepy\\env\\lib\\site-packages\\pandas\\core\\indexing.py:1676: SettingWithCopyWarning: \n",
      "A value is trying to be set on a copy of a slice from a DataFrame.\n",
      "Try using .loc[row_indexer,col_indexer] = value instead\n",
      "\n",
      "See the caveats in the documentation: https://pandas.pydata.org/pandas-docs/stable/user_guide/indexing.html#returning-a-view-versus-a-copy\n",
      "  self._setitem_single_column(ilocs[0], value, pi)\n",
      "c:\\users\\takuma\\nabepy\\env\\lib\\site-packages\\pandas\\core\\indexing.py:1597: SettingWithCopyWarning: \n",
      "A value is trying to be set on a copy of a slice from a DataFrame.\n",
      "Try using .loc[row_indexer,col_indexer] = value instead\n",
      "\n",
      "See the caveats in the documentation: https://pandas.pydata.org/pandas-docs/stable/user_guide/indexing.html#returning-a-view-versus-a-copy\n",
      "  self.obj[key] = value\n",
      "c:\\users\\takuma\\nabepy\\env\\lib\\site-packages\\pandas\\core\\indexing.py:1676: SettingWithCopyWarning: \n",
      "A value is trying to be set on a copy of a slice from a DataFrame.\n",
      "Try using .loc[row_indexer,col_indexer] = value instead\n",
      "\n",
      "See the caveats in the documentation: https://pandas.pydata.org/pandas-docs/stable/user_guide/indexing.html#returning-a-view-versus-a-copy\n",
      "  self._setitem_single_column(ilocs[0], value, pi)\n",
      "c:\\users\\takuma\\nabepy\\env\\lib\\site-packages\\pandas\\core\\indexing.py:1597: SettingWithCopyWarning: \n",
      "A value is trying to be set on a copy of a slice from a DataFrame.\n",
      "Try using .loc[row_indexer,col_indexer] = value instead\n",
      "\n",
      "See the caveats in the documentation: https://pandas.pydata.org/pandas-docs/stable/user_guide/indexing.html#returning-a-view-versus-a-copy\n",
      "  self.obj[key] = value\n",
      "c:\\users\\takuma\\nabepy\\env\\lib\\site-packages\\pandas\\core\\indexing.py:1676: SettingWithCopyWarning: \n",
      "A value is trying to be set on a copy of a slice from a DataFrame.\n",
      "Try using .loc[row_indexer,col_indexer] = value instead\n",
      "\n",
      "See the caveats in the documentation: https://pandas.pydata.org/pandas-docs/stable/user_guide/indexing.html#returning-a-view-versus-a-copy\n",
      "  self._setitem_single_column(ilocs[0], value, pi)\n",
      "c:\\users\\takuma\\nabepy\\env\\lib\\site-packages\\pandas\\core\\indexing.py:1597: SettingWithCopyWarning: \n",
      "A value is trying to be set on a copy of a slice from a DataFrame.\n",
      "Try using .loc[row_indexer,col_indexer] = value instead\n",
      "\n",
      "See the caveats in the documentation: https://pandas.pydata.org/pandas-docs/stable/user_guide/indexing.html#returning-a-view-versus-a-copy\n",
      "  self.obj[key] = value\n",
      "c:\\users\\takuma\\nabepy\\env\\lib\\site-packages\\pandas\\core\\indexing.py:1676: SettingWithCopyWarning: \n",
      "A value is trying to be set on a copy of a slice from a DataFrame.\n",
      "Try using .loc[row_indexer,col_indexer] = value instead\n",
      "\n",
      "See the caveats in the documentation: https://pandas.pydata.org/pandas-docs/stable/user_guide/indexing.html#returning-a-view-versus-a-copy\n",
      "  self._setitem_single_column(ilocs[0], value, pi)\n"
     ]
    },
    {
     "name": "stdout",
     "output_type": "stream",
     "text": [
      "now_date: 20200701\n",
      "corr_date: 20200401\n",
      "total_get_test         -0.068772\n",
      "total_use_test         -0.082893\n",
      "num_com_test           -0.076374\n",
      "num_pred_test          -0.082893\n",
      "gain_test               0.063430\n",
      "gain_std_test          -0.200671\n",
      "num_hit_test           -0.009274\n",
      "buy_hit_per_test        0.165700\n",
      "buy_hit_per_std_test   -0.235000\n",
      "plus_month_num_test     0.218820\n",
      "diff_mea_med_test      -0.051208\n",
      "Name: gain_final, dtype: float64\n",
      "20201001 =============================================\n",
      "../../bot_database/asiya/model_score_asiya/v4_score/V4_2/asiya_model_score_st20200701_finalM3_V4_2.csv\n",
      "now_date: 20201001\n",
      "corr_date: 20200701\n",
      "total_get_test         -0.091904\n",
      "total_use_test         -0.362272\n",
      "num_com_test           -0.306860\n",
      "num_pred_test          -0.362272\n",
      "gain_test               0.323995\n",
      "gain_std_test           0.206253\n",
      "num_hit_test           -0.213314\n",
      "buy_hit_per_test        0.224183\n",
      "buy_hit_per_std_test    0.423165\n",
      "plus_month_num_test     0.276343\n",
      "diff_mea_med_test      -0.294447\n",
      "Name: gain_final, dtype: float64\n"
     ]
    },
    {
     "name": "stderr",
     "output_type": "stream",
     "text": [
      "c:\\users\\takuma\\nabepy\\env\\lib\\site-packages\\pandas\\core\\indexing.py:1597: SettingWithCopyWarning: \n",
      "A value is trying to be set on a copy of a slice from a DataFrame.\n",
      "Try using .loc[row_indexer,col_indexer] = value instead\n",
      "\n",
      "See the caveats in the documentation: https://pandas.pydata.org/pandas-docs/stable/user_guide/indexing.html#returning-a-view-versus-a-copy\n",
      "  self.obj[key] = value\n",
      "c:\\users\\takuma\\nabepy\\env\\lib\\site-packages\\pandas\\core\\indexing.py:1676: SettingWithCopyWarning: \n",
      "A value is trying to be set on a copy of a slice from a DataFrame.\n",
      "Try using .loc[row_indexer,col_indexer] = value instead\n",
      "\n",
      "See the caveats in the documentation: https://pandas.pydata.org/pandas-docs/stable/user_guide/indexing.html#returning-a-view-versus-a-copy\n",
      "  self._setitem_single_column(ilocs[0], value, pi)\n",
      "c:\\users\\takuma\\nabepy\\env\\lib\\site-packages\\pandas\\core\\indexing.py:1597: SettingWithCopyWarning: \n",
      "A value is trying to be set on a copy of a slice from a DataFrame.\n",
      "Try using .loc[row_indexer,col_indexer] = value instead\n",
      "\n",
      "See the caveats in the documentation: https://pandas.pydata.org/pandas-docs/stable/user_guide/indexing.html#returning-a-view-versus-a-copy\n",
      "  self.obj[key] = value\n",
      "c:\\users\\takuma\\nabepy\\env\\lib\\site-packages\\pandas\\core\\indexing.py:1676: SettingWithCopyWarning: \n",
      "A value is trying to be set on a copy of a slice from a DataFrame.\n",
      "Try using .loc[row_indexer,col_indexer] = value instead\n",
      "\n",
      "See the caveats in the documentation: https://pandas.pydata.org/pandas-docs/stable/user_guide/indexing.html#returning-a-view-versus-a-copy\n",
      "  self._setitem_single_column(ilocs[0], value, pi)\n",
      "c:\\users\\takuma\\nabepy\\env\\lib\\site-packages\\pandas\\core\\indexing.py:1597: SettingWithCopyWarning: \n",
      "A value is trying to be set on a copy of a slice from a DataFrame.\n",
      "Try using .loc[row_indexer,col_indexer] = value instead\n",
      "\n",
      "See the caveats in the documentation: https://pandas.pydata.org/pandas-docs/stable/user_guide/indexing.html#returning-a-view-versus-a-copy\n",
      "  self.obj[key] = value\n",
      "c:\\users\\takuma\\nabepy\\env\\lib\\site-packages\\pandas\\core\\indexing.py:1676: SettingWithCopyWarning: \n",
      "A value is trying to be set on a copy of a slice from a DataFrame.\n",
      "Try using .loc[row_indexer,col_indexer] = value instead\n",
      "\n",
      "See the caveats in the documentation: https://pandas.pydata.org/pandas-docs/stable/user_guide/indexing.html#returning-a-view-versus-a-copy\n",
      "  self._setitem_single_column(ilocs[0], value, pi)\n",
      "c:\\users\\takuma\\nabepy\\env\\lib\\site-packages\\pandas\\core\\indexing.py:1597: SettingWithCopyWarning: \n",
      "A value is trying to be set on a copy of a slice from a DataFrame.\n",
      "Try using .loc[row_indexer,col_indexer] = value instead\n",
      "\n",
      "See the caveats in the documentation: https://pandas.pydata.org/pandas-docs/stable/user_guide/indexing.html#returning-a-view-versus-a-copy\n",
      "  self.obj[key] = value\n",
      "c:\\users\\takuma\\nabepy\\env\\lib\\site-packages\\pandas\\core\\indexing.py:1676: SettingWithCopyWarning: \n",
      "A value is trying to be set on a copy of a slice from a DataFrame.\n",
      "Try using .loc[row_indexer,col_indexer] = value instead\n",
      "\n",
      "See the caveats in the documentation: https://pandas.pydata.org/pandas-docs/stable/user_guide/indexing.html#returning-a-view-versus-a-copy\n",
      "  self._setitem_single_column(ilocs[0], value, pi)\n",
      "c:\\users\\takuma\\nabepy\\env\\lib\\site-packages\\pandas\\core\\indexing.py:1597: SettingWithCopyWarning: \n",
      "A value is trying to be set on a copy of a slice from a DataFrame.\n",
      "Try using .loc[row_indexer,col_indexer] = value instead\n",
      "\n",
      "See the caveats in the documentation: https://pandas.pydata.org/pandas-docs/stable/user_guide/indexing.html#returning-a-view-versus-a-copy\n",
      "  self.obj[key] = value\n",
      "c:\\users\\takuma\\nabepy\\env\\lib\\site-packages\\pandas\\core\\indexing.py:1676: SettingWithCopyWarning: \n",
      "A value is trying to be set on a copy of a slice from a DataFrame.\n",
      "Try using .loc[row_indexer,col_indexer] = value instead\n",
      "\n",
      "See the caveats in the documentation: https://pandas.pydata.org/pandas-docs/stable/user_guide/indexing.html#returning-a-view-versus-a-copy\n",
      "  self._setitem_single_column(ilocs[0], value, pi)\n",
      "c:\\users\\takuma\\nabepy\\env\\lib\\site-packages\\pandas\\core\\indexing.py:1597: SettingWithCopyWarning: \n",
      "A value is trying to be set on a copy of a slice from a DataFrame.\n",
      "Try using .loc[row_indexer,col_indexer] = value instead\n",
      "\n",
      "See the caveats in the documentation: https://pandas.pydata.org/pandas-docs/stable/user_guide/indexing.html#returning-a-view-versus-a-copy\n",
      "  self.obj[key] = value\n",
      "c:\\users\\takuma\\nabepy\\env\\lib\\site-packages\\pandas\\core\\indexing.py:1676: SettingWithCopyWarning: \n",
      "A value is trying to be set on a copy of a slice from a DataFrame.\n",
      "Try using .loc[row_indexer,col_indexer] = value instead\n",
      "\n",
      "See the caveats in the documentation: https://pandas.pydata.org/pandas-docs/stable/user_guide/indexing.html#returning-a-view-versus-a-copy\n",
      "  self._setitem_single_column(ilocs[0], value, pi)\n",
      "c:\\users\\takuma\\nabepy\\env\\lib\\site-packages\\pandas\\core\\indexing.py:1597: SettingWithCopyWarning: \n",
      "A value is trying to be set on a copy of a slice from a DataFrame.\n",
      "Try using .loc[row_indexer,col_indexer] = value instead\n",
      "\n",
      "See the caveats in the documentation: https://pandas.pydata.org/pandas-docs/stable/user_guide/indexing.html#returning-a-view-versus-a-copy\n",
      "  self.obj[key] = value\n",
      "c:\\users\\takuma\\nabepy\\env\\lib\\site-packages\\pandas\\core\\indexing.py:1676: SettingWithCopyWarning: \n",
      "A value is trying to be set on a copy of a slice from a DataFrame.\n",
      "Try using .loc[row_indexer,col_indexer] = value instead\n",
      "\n",
      "See the caveats in the documentation: https://pandas.pydata.org/pandas-docs/stable/user_guide/indexing.html#returning-a-view-versus-a-copy\n",
      "  self._setitem_single_column(ilocs[0], value, pi)\n",
      "c:\\users\\takuma\\nabepy\\env\\lib\\site-packages\\pandas\\core\\indexing.py:1597: SettingWithCopyWarning: \n",
      "A value is trying to be set on a copy of a slice from a DataFrame.\n",
      "Try using .loc[row_indexer,col_indexer] = value instead\n",
      "\n",
      "See the caveats in the documentation: https://pandas.pydata.org/pandas-docs/stable/user_guide/indexing.html#returning-a-view-versus-a-copy\n",
      "  self.obj[key] = value\n",
      "c:\\users\\takuma\\nabepy\\env\\lib\\site-packages\\pandas\\core\\indexing.py:1676: SettingWithCopyWarning: \n",
      "A value is trying to be set on a copy of a slice from a DataFrame.\n",
      "Try using .loc[row_indexer,col_indexer] = value instead\n",
      "\n",
      "See the caveats in the documentation: https://pandas.pydata.org/pandas-docs/stable/user_guide/indexing.html#returning-a-view-versus-a-copy\n",
      "  self._setitem_single_column(ilocs[0], value, pi)\n",
      "c:\\users\\takuma\\nabepy\\env\\lib\\site-packages\\pandas\\core\\indexing.py:1597: SettingWithCopyWarning: \n",
      "A value is trying to be set on a copy of a slice from a DataFrame.\n",
      "Try using .loc[row_indexer,col_indexer] = value instead\n",
      "\n",
      "See the caveats in the documentation: https://pandas.pydata.org/pandas-docs/stable/user_guide/indexing.html#returning-a-view-versus-a-copy\n",
      "  self.obj[key] = value\n",
      "c:\\users\\takuma\\nabepy\\env\\lib\\site-packages\\pandas\\core\\indexing.py:1676: SettingWithCopyWarning: \n",
      "A value is trying to be set on a copy of a slice from a DataFrame.\n",
      "Try using .loc[row_indexer,col_indexer] = value instead\n",
      "\n",
      "See the caveats in the documentation: https://pandas.pydata.org/pandas-docs/stable/user_guide/indexing.html#returning-a-view-versus-a-copy\n",
      "  self._setitem_single_column(ilocs[0], value, pi)\n",
      "c:\\users\\takuma\\nabepy\\env\\lib\\site-packages\\pandas\\core\\indexing.py:1597: SettingWithCopyWarning: \n",
      "A value is trying to be set on a copy of a slice from a DataFrame.\n",
      "Try using .loc[row_indexer,col_indexer] = value instead\n",
      "\n",
      "See the caveats in the documentation: https://pandas.pydata.org/pandas-docs/stable/user_guide/indexing.html#returning-a-view-versus-a-copy\n",
      "  self.obj[key] = value\n",
      "c:\\users\\takuma\\nabepy\\env\\lib\\site-packages\\pandas\\core\\indexing.py:1676: SettingWithCopyWarning: \n",
      "A value is trying to be set on a copy of a slice from a DataFrame.\n",
      "Try using .loc[row_indexer,col_indexer] = value instead\n",
      "\n",
      "See the caveats in the documentation: https://pandas.pydata.org/pandas-docs/stable/user_guide/indexing.html#returning-a-view-versus-a-copy\n",
      "  self._setitem_single_column(ilocs[0], value, pi)\n",
      "c:\\users\\takuma\\nabepy\\env\\lib\\site-packages\\pandas\\core\\indexing.py:1597: SettingWithCopyWarning: \n",
      "A value is trying to be set on a copy of a slice from a DataFrame.\n",
      "Try using .loc[row_indexer,col_indexer] = value instead\n",
      "\n",
      "See the caveats in the documentation: https://pandas.pydata.org/pandas-docs/stable/user_guide/indexing.html#returning-a-view-versus-a-copy\n",
      "  self.obj[key] = value\n",
      "c:\\users\\takuma\\nabepy\\env\\lib\\site-packages\\pandas\\core\\indexing.py:1676: SettingWithCopyWarning: \n",
      "A value is trying to be set on a copy of a slice from a DataFrame.\n",
      "Try using .loc[row_indexer,col_indexer] = value instead\n",
      "\n",
      "See the caveats in the documentation: https://pandas.pydata.org/pandas-docs/stable/user_guide/indexing.html#returning-a-view-versus-a-copy\n",
      "  self._setitem_single_column(ilocs[0], value, pi)\n",
      "c:\\users\\takuma\\nabepy\\env\\lib\\site-packages\\pandas\\core\\indexing.py:1597: SettingWithCopyWarning: \n",
      "A value is trying to be set on a copy of a slice from a DataFrame.\n",
      "Try using .loc[row_indexer,col_indexer] = value instead\n",
      "\n",
      "See the caveats in the documentation: https://pandas.pydata.org/pandas-docs/stable/user_guide/indexing.html#returning-a-view-versus-a-copy\n",
      "  self.obj[key] = value\n",
      "c:\\users\\takuma\\nabepy\\env\\lib\\site-packages\\pandas\\core\\indexing.py:1676: SettingWithCopyWarning: \n",
      "A value is trying to be set on a copy of a slice from a DataFrame.\n",
      "Try using .loc[row_indexer,col_indexer] = value instead\n",
      "\n",
      "See the caveats in the documentation: https://pandas.pydata.org/pandas-docs/stable/user_guide/indexing.html#returning-a-view-versus-a-copy\n",
      "  self._setitem_single_column(ilocs[0], value, pi)\n"
     ]
    }
   ],
   "source": [
    "# 芦屋だけでひとまず機能を完成させる\n",
    "#きめのパラメータ\n",
    "place_name='asiya'\n",
    "plus_m_th=2\n",
    "num_hit_th=5\n",
    "version='V4_2'\n",
    "mode='asiya_model_score_'\n",
    "mode_type='recent'\n",
    "csv_path='../../bot_database/{place_name}/model_score_{place_name}/v4_score/{version}/{version}_{mode_type}_TRhit_pM{plus_month}_total_analysis.csv'.format(place_name=place_name,mode_type=mode_type,version=version,plus_month=plus_m_th,num_hit=num_hit_th)\n",
    "totol_analysis_df=pd.read_csv(csv_path, encoding='utf_8_sig')\n",
    "totol_analysis_df=totol_analysis_df.drop([\"Unnamed: 0\"],axis=1)\n",
    "\n",
    "#閾値の取得\n",
    "th_s=totol_analysis_df[totol_analysis_df['num_plus_com_mean']>2].sort_values('minus_model_per_mean').iloc[0]#plusだったcom数の平均が２より大きい\n",
    "#th_s=totol_analysis_df[totol_analysis_df['num_plus_com_mean']>3].sort_values('minus_model_per_mean').iloc[0]\n",
    "\n",
    "dates=[datetime.datetime(year=2020, month=1+(i*3),day=1).strftime('%Y%m%d') for i in range(4)]#今回のテストで使用する日付たち\n",
    "\n",
    "#th_s=totol_analysis_df[(totol_analysis_df['num_plus_com_mean']>3) & (totol_analysis_df['num_hit_th']>=10)].sort_values('minus_model_per_mean').iloc[0]\n",
    "select_model_df=pd.DataFrame()\n",
    "#閾値にあてはまった　モデルたちがどんな奴らなのかを確認する\n",
    "for i in range(4):\n",
    "    now_ym=datetime.datetime(year=2020, month=1+(i*3),day=1).strftime('%Y%m%d')\n",
    "    dir_path='../../bot_database/{place_name}/model_score_{place_name}/v4_score/{version}/{mode}st{now_ym}_finalM3_{version}.csv'.format(place_name=place_name,mode=mode,now_ym=now_ym,version=version)\n",
    "    model_score_df=pd.read_csv(dir_path, encoding='utf_8_sig')\n",
    "    model_score_df=model_score_df.drop([\"Unnamed: 0\"],axis=1)\n",
    "    #選定したパラメータで切り落とし\n",
    "\n",
    "    \n",
    "    selected_m=model_score_df[model_score_df['gain_test']>=th_s[\"gain_th\"]].copy()\n",
    "    selected_m=selected_m[selected_m['gain_std_test']<=th_s[\"gain_std_th\"]].copy()\n",
    "    selected_m=selected_m[selected_m['buy_hit_per_test']>=th_s[\"hit_per_th\"]].copy()\n",
    "    selected_m=selected_m[selected_m['buy_hit_per_std_test']<=th_s[\"hit_std_th\"]].copy()\n",
    "    selected_m=selected_m[selected_m['num_hit_test']>=th_s[\"num_hit_th\"]].copy()#的中した予測の数で切り捨てる,これも可変していく方針に変更した\n",
    "    print(now_ym,'=============================================')\n",
    "    #display(selected_m)\n",
    "    select_model_df=pd.concat([select_model_df, selected_m], axis=0)#きめのパラメータで切り落としたので結合\n",
    "    #偏差値評価を用いた実際に使用するモデルの切り抜き(方針：使用する区間の１つ前の区間(test5,final3の区間))をもとに相関係数を算出\n",
    "    use_date=dates[i-1]#一つ前の区間の日付を切り抜く\n",
    "    dir_path='../../bot_database/{place_name}/model_score_{place_name}/v4_score/{version}/{mode}st{now_ym}_finalM3_{version}.csv'.format(place_name=place_name,mode=mode,now_ym=use_date,version=version)\n",
    "    print(dir_path)\n",
    "    model_score_df=pd.read_csv(dir_path, encoding='utf_8_sig')\n",
    "    model_score_df=model_score_df.drop([\"Unnamed: 0\"],axis=1)\n",
    "     #決めのパラメータでいったん切り落とし\n",
    "    model_score_df=model_score_df[model_score_df['plus_month_num_test']>=plus_m_th].copy()#収益がプラスだった月の数で切り捨てる\n",
    "    model_score_df=model_score_df[model_score_df['num_hit_test']>=num_hit_th].copy()#的中した予測の数で切り捨てる，大体一カ月に一件くらいをイメージ\n",
    "    version_corr_df=model_score_df.corr()\n",
    "    feature_weights=version_corr_df.loc['gain_final']['total_get_test':'diff_mea_med_test']#相関係数を代用した変数ごとの重みづけ\n",
    "    print('now_date:',now_ym)\n",
    "    print('corr_date:',use_date)\n",
    "    \n",
    "    print(feature_weights)\n",
    "    model_score_df=add_std_score(select_model_df,feature_weights)\n",
    "    \n",
    "    \n",
    "    use_models=select_use_model(model_score_df)#相関係数と標準偏差によって与えられたscoreをもとに最終的に使用するモデルを選定する関数\n",
    "    use_models.to_csv('csv/use_model_df_{}.csv'.format(now_ym))\n",
    "    dir_path = \"../../bot_database/{place_name}/model_score_{place_name}/use_model/{version}/use_model_{place_name}_{now_ym}_{version}.csv\".format(place_name=place_name,version=version,now_ym=now_ym)#作成したデータの書き込み先#使用するデータの読み込み\n",
    "    use_models.to_csv(dir_path.format(now_ym))"
   ]
  },
  {
   "cell_type": "markdown",
   "id": "exotic-plenty",
   "metadata": {},
   "source": [
    "## 各シーズンごとの収益とcom数の推移(選定された全モデル)"
   ]
  },
  {
   "cell_type": "code",
   "execution_count": 36,
   "id": "together-specific",
   "metadata": {},
   "outputs": [
    {
     "name": "stderr",
     "output_type": "stream",
     "text": [
      "<ipython-input-32-6df26f47718d>:33: MatplotlibDeprecationWarning: Adding an axes using the same arguments as a previous axes currently reuses the earlier instance.  In a future version, a new instance will always be created and returned.  Meanwhile, this warning can be suppressed, and the future behavior ensured, by passing a unique label to each axes instance.\n",
      "  ax1 = fig.add_subplot()\n"
     ]
    },
    {
     "data": {
      "image/png": "[encoded data removed]",
      "text/plain": [
       "<Figure size 1368x576 with 2 Axes>"
      ]
     },
     "metadata": {},
     "output_type": "display_data"
    }
   ],
   "source": [
    "gain_arr=[0]*4\n",
    "n_com_arr=[0]*4\n",
    "date_arr=[0]*4\n",
    "for i in range(4):\n",
    "    now_ym=datetime.datetime(year=2020, month=1+(i*3),day=1).strftime('%Y%m%d')\n",
    "    dir_path='csv/use_model_df_{}.csv'.format(now_ym)\n",
    "    use_models=pd.read_csv(dir_path, encoding='utf_8_sig')\n",
    "    #display(use_models)\n",
    "    s_t_use=use_models['total_use_final'].sum()\n",
    "    s_t_get=use_models['total_get_final'].sum()\n",
    "    s_gain=(s_t_get/s_t_use)*100\n",
    "    gain_arr[i]=s_gain\n",
    "    n_com_arr[i]=len(use_models)\n",
    "    date_arr[i]=now_ym\n",
    "x_n='season'\n",
    "y1_n='gain[%]'\n",
    "y2_n='num_com'\n",
    "twin_plt(date_arr,gain_arr,n_com_arr,x_n,y1_n,y2_n)"
   ]
  },
  {
   "cell_type": "markdown",
   "id": "polished-sunglasses",
   "metadata": {},
   "source": [
    "# 多会場版（いったんモデリングが済んでいる１０会場で．）"
   ]
  },
  {
   "cell_type": "code",
   "execution_count": 23,
   "id": "ancient-vault",
   "metadata": {},
   "outputs": [],
   "source": [
    "version='V4_2'#バージョン\n",
    "#use_modelの書き込み先作成のための箱作り\n",
    "place_master=master.get_place_master()\n",
    "for place in place_master.items():\n",
    "    #print(place[0],place[1],'\\n')\n",
    "    place_name=place[1]\n",
    "    dir_path = \"../../bot_database/{place_name}/model_score_{place_name}/use_model/{version}\".format(place_name=place_name,version=version)#作成したデータの書き込み先#使用するデータの読み込み\n",
    "    if os.path.exists(dir_path)==False:\n",
    "        os.makedirs(dir_path)\n",
    "    else:\n",
    "        pass"
   ]
  },
  {
   "cell_type": "code",
   "execution_count": 21,
   "id": "finite-stanley",
   "metadata": {},
   "outputs": [
    {
     "ename": "SyntaxError",
     "evalue": "unexpected EOF while parsing (<ipython-input-21-d420bf28cc94>, line 13)",
     "output_type": "error",
     "traceback": [
      "\u001b[1;36m  File \u001b[1;32m\"<ipython-input-21-d420bf28cc94>\"\u001b[1;36m, line \u001b[1;32m13\u001b[0m\n\u001b[1;33m    for place_name in tqdm(place_names[:10]):\u001b[0m\n\u001b[1;37m                                             ^\u001b[0m\n\u001b[1;31mSyntaxError\u001b[0m\u001b[1;31m:\u001b[0m unexpected EOF while parsing\n"
     ]
    }
   ],
   "source": [
    "#相関係数と全体分析の結果をもとに最終的に使用するモデルを選定する\n",
    "place_master=master.get_place_master()\n",
    "place_names=[place_name for place_name in place_master.values()]#会場名のみを収納した配列\n",
    "#絶対に固定のパラメータたち\n",
    "plus_m_th=2\n",
    "num_hit_th=5\n",
    "version='V4_2'\n",
    "mode='model_score_'\n",
    "mode_type='recent'\n",
    "#コード本文\n",
    "for place_name in tqdm(place_names[:10]):\n",
    "    csv_path='../../bot_database/{place_name}/model_score_{place_name}/v4_score/{version}/{version}_{mode_type}_TRhit_pM{plus_month}_total_analysis.csv'.format(place_name=place_name,mode_type=mode_type,version=version,plus_month=plus_m_th,num_hit=num_hit_th)\n",
    "    totol_analysis_df=pd.read_csv(csv_path, encoding='utf_8_sig')\n",
    "    totol_analysis_df=totol_analysis_df.drop([\"Unnamed: 0\"],axis=1)\n",
    "    print('place_name:',place_name,'========================================================================================')\n",
    "    #閾値の取得\n",
    "    th_s=totol_analysis_df[totol_analysis_df['num_plus_com_mean']>2].sort_values('minus_model_per_mean').iloc[0]#plusだったcom数の平均が２より大きい\n",
    "    dates=[datetime.datetime(year=2020, month=1+(i*3),day=1).strftime('%Y%m%d') for i in range(4)]#今回のテストで使用する日付たち\n",
    "    select_model_df=pd.DataFrame()\n",
    "    \n",
    "    #閾値にあてはまった　モデルたちがどんな奴らなのかを確認する\n",
    "    for i in range(4):\n",
    "        now_ym=datetime.datetime(year=2020, month=1+(i*3),day=1).strftime('%Y%m%d')\n",
    "        print('now_date:',now_ym)\n",
    "        dir_path='../../bot_database/{place_name}/model_score_{place_name}/v4_score/{version}/{place_name}_{mode}st{now_ym}_finalM3_{version}.csv'.format(place_name=place_name,mode=mode,now_ym=now_ym,version=version)\n",
    "        model_score_df=pd.read_csv(dir_path, encoding='utf_8_sig')\n",
    "        model_score_df=model_score_df.drop([\"Unnamed: 0\"],axis=1)\n",
    "        #選定したパラメータで切り落とし\n",
    "        selected_m=model_score_df[model_score_df['gain_test']>=th_s[\"gain_th\"]].copy()\n",
    "        selected_m=selected_m[selected_m['gain_std_test']<=th_s[\"gain_std_th\"]].copy()\n",
    "        selected_m=selected_m[selected_m['buy_hit_per_test']>=th_s[\"hit_per_th\"]].copy()\n",
    "        selected_m=selected_m[selected_m['buy_hit_per_std_test']<=th_s[\"hit_std_th\"]].copy()\n",
    "        selected_m=selected_m[selected_m['num_hit_test']>=th_s[\"num_hit_th\"]].copy()#的中した予測の数で切り捨てる,これも可変していく方針に変更した\n",
    "        select_model_df=pd.concat([select_model_df, selected_m], axis=0)#きめのパラメータで切り落としたので結合\n",
    "        \n",
    "        \n",
    "        #偏差値評価を用いた実際に使用するモデルの切り抜き(方針：使用する区間の１つ前の区間(test5,final3の区間))をもとに相関係数を算出\n",
    "        use_date=dates[i-1]#一つ前の区間の日付を切り抜く\n",
    "        dir_path='../../bot_database/{place_name}/model_score_{place_name}/v4_score/{version}/{place_name}_{mode}st{now_ym}_finalM3_{version}.csv'.format(place_name=place_name,mode=mode,now_ym=use_date,version=version)\n",
    "        print(dir_path)\n",
    "        model_score_df=pd.read_csv(dir_path, encoding='utf_8_sig')\n",
    "        model_score_df=model_score_df.drop([\"Unnamed: 0\"],axis=1)\n",
    "        #決めのパラメータでいったん切り落とし\n",
    "        model_score_df=model_score_df[model_score_df['plus_month_num_test']>=plus_m_th].copy()#収益がプラスだった月の数で切り捨てる\n",
    "        model_score_df=model_score_df[model_score_df['num_hit_test']>=num_hit_th].copy()#的中した予測の数で切り捨てる，大体一カ月に一件くらいをイメージ\n",
    "        version_corr_df=model_score_df.corr()\n",
    "        feature_weights=version_corr_df.loc['gain_final']['total_get_test':'diff_mea_med_test']#相関係数を代用した変数ごとの重みづけ\n",
    "        model_std_score_df=add_std_score(select_model_df,feature_weights)\n",
    "\n",
    "\n",
    "        use_models=select_use_model(model_std_score_df)#相関係数と標準偏差によって与えられたscoreをもとに最終的に使用するモデルを選定する関数\n",
    "        dir_path = \"../../bot_database/{place_name}/model_score_{place_name}/use_model/{version}/use_model_{place_name}_{now_ym}_{version}.csv\".format(place_name=place_name,version=version,now_ym=now_ym)#作成したデータの書き込み先#使用するデータの読み込み\n",
    "        use_models.to_csv(dir_path)"
   ]
  },
  {
   "cell_type": "markdown",
   "id": "twenty-evanescence",
   "metadata": {},
   "source": [
    "# 多会場版でも同様にuse_modelたちの一年間の利益推移を確認する"
   ]
  },
  {
   "cell_type": "code",
   "execution_count": null,
   "id": "through-bread",
   "metadata": {},
   "outputs": [],
   "source": [
    "\n",
    "version='V4_2'\n",
    "for place_name in tqdm(place_names[:10]):\n",
    "    print('place_name:',place_name,'========================================================================================')\n",
    "    gain_arr=[0]*4\n",
    "    n_com_arr=[0]*4\n",
    "    date_arr=[0]*4\n",
    "    for i in range(4):\n",
    "        now_ym=datetime.datetime(year=2020, month=1+(i*3),day=1).strftime('%Y%m%d')\n",
    "        dir_path = \"../../bot_database/{place_name}/model_score_{place_name}/use_model/{version}/use_model_{place_name}_{now_ym}_{version}.csv\".format(place_name=place_name,version=version,now_ym=now_ym)#作成したデータの書き込み先#使用するデータの読み込み\n",
    "        use_models=pd.read_csv(dir_path, encoding='utf_8_sig')\n",
    "        s_t_use=use_models['total_use_final'].sum()\n",
    "        s_t_get=use_models['total_get_final'].sum()\n",
    "        s_gain=(s_t_get/s_t_use)*100\n",
    "        gain_arr[i]=s_gain\n",
    "        n_com_arr[i]=len(use_models)\n",
    "        date_arr[i]=now_ym\n",
    "    x_n='season_{place_name}'.format(place_name)\n",
    "    y1_n='gain[%]'\n",
    "    y2_n='num_com'\n",
    "    twin_plt(date_arr,gain_arr,n_com_arr,x_n,y1_n,y2_n)"
   ]
  },
  {
   "cell_type": "code",
   "execution_count": 7,
   "id": "virgin-trouble",
   "metadata": {
    "scrolled": false
   },
   "outputs": [
    {
     "data": {
      "text/plain": [
       "minus_model_per_mean                23.773826\n",
       "num_plus_com_mean                    2.250000\n",
       "num_plus_model_mean                 32.750000\n",
       "gain_th                            152.000000\n",
       "gain_std_th                        145.000000\n",
       "hit_per_th                           4.000000\n",
       "hit_std_th                           1.200000\n",
       "num_hit_th                           3.000000\n",
       "st_20200101_minus_per(model)         5.555556\n",
       "st_20200101_num_plus_com             3.000000\n",
       "st_20200101_num_plus_model(row)     17.000000\n",
       "st_20200401_minus_per(model)         0.000000\n",
       "st_20200401_num_plus_com             1.000000\n",
       "st_20200401_num_plus_model(row)      6.000000\n",
       "st_20200701_minus_per(model)         0.000000\n",
       "st_20200701_num_plus_com             2.000000\n",
       "st_20200701_num_plus_model(row)     83.000000\n",
       "st_20201001_minus_per(model)        89.539749\n",
       "st_20201001_num_plus_com             3.000000\n",
       "st_20201001_num_plus_model(row)     25.000000\n",
       "Name: 51, dtype: float64"
      ]
     },
     "execution_count": 7,
     "metadata": {},
     "output_type": "execute_result"
    }
   ],
   "source": [
    "th_s"
   ]
  },
  {
   "cell_type": "markdown",
   "id": "coral-occupation",
   "metadata": {},
   "source": [
    "## 日付を与えると区間の開始日を返してくれる関数を作る"
   ]
  },
  {
   "cell_type": "code",
   "execution_count": 43,
   "id": "processed-point",
   "metadata": {},
   "outputs": [],
   "source": [
    "def get_season_date(now_date):#日付(datetime型)を渡すと，その日付で購買予測を行う際に使用するデータの区間を返す関数\n",
    "    use_data_year=now_date.year\n",
    "    if (now_date.month>=1)and(now_date.month<4):\n",
    "        use_data_month=1\n",
    "    elif (now_date.month>=4)and(now_date.month<7):\n",
    "        use_data_month=4\n",
    "    elif (now_date.month>=7)and(now_date.month<10):\n",
    "        use_data_month=7\n",
    "    elif (now_date.month>=10):\n",
    "        use_data_month=10\n",
    "    else:\n",
    "        print('what???????')\n",
    "    use_data_date=datetime.datetime(year=use_data_year, month=use_data_month,day=1)\n",
    "    return use_data_date"
   ]
  },
  {
   "cell_type": "code",
   "execution_count": 48,
   "id": "through-immigration",
   "metadata": {},
   "outputs": [
    {
     "name": "stdout",
     "output_type": "stream",
     "text": [
      "now_ym 2020-01-01 00:00:00\n",
      "data_ym 2020-01-01 00:00:00\n",
      "html_ym 2019-12-31 00:00:00\n",
      "===========================================================\n",
      "now_ym 2020-04-01 00:00:00\n",
      "data_ym 2020-04-01 00:00:00\n",
      "html_ym 2020-03-31 00:00:00\n",
      "===========================================================\n",
      "now_ym 2020-07-01 00:00:00\n",
      "data_ym 2020-07-01 00:00:00\n",
      "html_ym 2020-06-30 00:00:00\n",
      "===========================================================\n",
      "now_ym 2020-10-01 00:00:00\n",
      "data_ym 2020-10-01 00:00:00\n",
      "html_ym 2020-09-30 00:00:00\n",
      "===========================================================\n"
     ]
    }
   ],
   "source": [
    "today=datetime.date.today()\n",
    "for i in range(4):\n",
    "    #now_ym=datetime.datetime(year=2020, month=1+(i*3),day=1).strftime('%Y%m%d')\n",
    "    now_ym=datetime.datetime(year=2020, month=1+(i*3),day=1)\n",
    "    data_ym=get_season_date(now_ym)\n",
    "    html_ym=data_ym- datetime.timedelta(days=1)\n",
    "    print('now_ym',now_ym)\n",
    "    print('data_ym',data_ym)\n",
    "    print('html_ym',html_ym)\n",
    "    print('===========================================================')"
   ]
  },
  {
   "cell_type": "code",
   "execution_count": 49,
   "id": "restricted-moses",
   "metadata": {},
   "outputs": [
    {
     "name": "stdout",
     "output_type": "stream",
     "text": [
      "now_ym 2021-10-16\n",
      "data_ym 2021-10-01 00:00:00\n",
      "html_ym 2021-09-30 00:00:00\n",
      "===========================================================\n"
     ]
    }
   ],
   "source": [
    "now_ym=datetime.date.today()\n",
    "data_ym=get_season_date(now_ym)\n",
    "html_ym=data_ym- datetime.timedelta(days=1)\n",
    "print('now_ym',now_ym)\n",
    "print('data_ym',data_ym)\n",
    "print('html_ym',html_ym)\n",
    "print('===========================================================')"
   ]
  },
  {
   "cell_type": "code",
   "execution_count": 40,
   "id": "constant-hospital",
   "metadata": {},
   "outputs": [
    {
     "name": "stdout",
     "output_type": "stream",
     "text": [
      "2021-10-16\n",
      "<class 'datetime.date'>\n"
     ]
    }
   ],
   "source": [
    "print(today)\n",
    "print(type(today))"
   ]
  },
  {
   "cell_type": "code",
   "execution_count": 6,
   "id": "listed-dutch",
   "metadata": {
    "scrolled": true
   },
   "outputs": [],
   "source": [
    "# # 芦屋だけでひとまず機能を完成させる\n",
    "# #きめのパラメータ\n",
    "# place_name='asiya'\n",
    "# plus_m_th=3\n",
    "# num_hit_th=5\n",
    "# version='V4_2'\n",
    "# mode='asiya_model_score_'\n",
    "# mode_type='recent'\n",
    "# csv_path='../../bot_database/{place_name}/model_score_{place_name}/v4_score/{version}/{version}_{mode_type}_TRhit_pM{plus_month}_total_analysis.csv'.format(place_name=place_name,mode_type=mode_type,version=version,plus_month=plus_m_th,num_hit=num_hit_th)\n",
    "# totol_analysis_df=pd.read_csv(csv_path, encoding='utf_8_sig')\n",
    "# totol_analysis_df=totol_analysis_df.drop([\"Unnamed: 0\"],axis=1)\n",
    "\n",
    "# #閾値の取得\n",
    "# #th_s=totol_analysis_df[totol_analysis_df['num_plus_com_mean']>3].sort_values('minus_model_per_mean').iloc[0]\n",
    "# th_s=totol_analysis_df[(totol_analysis_df['num_plus_com_mean']>3) & (totol_analysis_df['num_hit_th']>=10)].sort_values('minus_model_per_mean').iloc[0]\n",
    "# select_model_df=pd.DataFrame()\n",
    "# #閾値にあてはまった　モデルたちがどんな奴らなのかを確認する\n",
    "# for i in range(4):\n",
    "#     now_ym=datetime.datetime(year=2020, month=1+(i*3),day=1).strftime('%Y%m%d')\n",
    "#     dir_path='../../bot_database/{place_name}/model_score_{place_name}/v4_score/{version}/{mode}st{now_ym}_finalM3_{version}.csv'.format(place_name=place_name,mode=mode,now_ym=now_ym,version=version)\n",
    "#     model_score_df=pd.read_csv(dir_path, encoding='utf_8_sig')\n",
    "#     model_score_df=model_score_df.drop([\"Unnamed: 0\"],axis=1)\n",
    "#     #選定したパラメータで切り落とし\n",
    "\n",
    "    \n",
    "#     selected_m=model_score_df[model_score_df['gain_test']>=th_s[\"gain_th\"]].copy()\n",
    "#     selected_m=selected_m[selected_m['gain_std_test']<=th_s[\"gain_std_th\"]].copy()\n",
    "#     selected_m=selected_m[selected_m['buy_hit_per_test']>=th_s[\"hit_per_th\"]].copy()\n",
    "#     selected_m=selected_m[selected_m['buy_hit_per_std_test']<=th_s[\"hit_std_th\"]].copy()\n",
    "#     selected_m=selected_m[selected_m['num_hit_test']>=th_s[\"num_hit_th\"]].copy()#的中した予測の数で切り捨てる,これも可変していく方針に変更した\n",
    "#     print(now_ym,'=============================================')\n",
    "#     display(selected_m)\n",
    "#     select_model_df=pd.concat([select_model_df, selected_m], axis=0)#きめのパラメータで切り落としたので結合\n",
    "#     #偏差値評価を用いた実際に使用するモデルの切り抜き\n",
    "#     model_score_df=add_std_score(selected_m)\n",
    "#     use_models=select_use_model(model_score_df)\n",
    "#     use_models.to_csv('csv/use_model_df_{}.csv'.format(now_ym))\n",
    "\n",
    "# #select_model_df.to_csv('check_model2.csv', encoding='utf_8_sig')\n",
    "# #相関係数の算出（範囲は-1～1）\n",
    "# #version_corr_df=version_df.corr()"
   ]
  },
  {
   "cell_type": "markdown",
   "id": "korean-timber",
   "metadata": {},
   "source": [
    "## 偏差値評価の機能を作る\n",
    "=今までの偏差値評価部分との変更点\n",
    "評価に相関係数を用いることで，finalのgainに関係のあるもの程重みを上げて，総合的な評価を自動的に行えるようにする"
   ]
  },
  {
   "cell_type": "code",
   "execution_count": null,
   "id": "pointed-stick",
   "metadata": {},
   "outputs": [],
   "source": []
  },
  {
   "cell_type": "markdown",
   "id": "early-archive",
   "metadata": {},
   "source": [
    "### 相関係数と偏差値を使ったモデル選定"
   ]
  },
  {
   "cell_type": "code",
   "execution_count": null,
   "id": "metropolitan-venue",
   "metadata": {},
   "outputs": [],
   "source": [
    "target_com_df.to_csv('model_select.csv')"
   ]
  },
  {
   "cell_type": "code",
   "execution_count": null,
   "id": "arctic-witness",
   "metadata": {},
   "outputs": [],
   "source": [
    "feature_weights.index"
   ]
  },
  {
   "cell_type": "code",
   "execution_count": null,
   "id": "synthetic-roller",
   "metadata": {},
   "outputs": [],
   "source": [
    "select_model_df"
   ]
  },
  {
   "cell_type": "code",
   "execution_count": null,
   "id": "offensive-caution",
   "metadata": {},
   "outputs": [],
   "source": [
    "model_score_df"
   ]
  },
  {
   "cell_type": "code",
   "execution_count": null,
   "id": "advance-lawyer",
   "metadata": {},
   "outputs": [],
   "source": []
  },
  {
   "cell_type": "code",
   "execution_count": null,
   "id": "vital-slave",
   "metadata": {},
   "outputs": [],
   "source": []
  },
  {
   "cell_type": "code",
   "execution_count": null,
   "id": "labeled-playback",
   "metadata": {},
   "outputs": [],
   "source": []
  },
  {
   "cell_type": "code",
   "execution_count": null,
   "id": "transsexual-sudan",
   "metadata": {},
   "outputs": [],
   "source": []
  },
  {
   "cell_type": "code",
   "execution_count": null,
   "id": "reverse-manchester",
   "metadata": {},
   "outputs": [],
   "source": []
  },
  {
   "cell_type": "code",
   "execution_count": null,
   "id": "heavy-match",
   "metadata": {},
   "outputs": [],
   "source": []
  },
  {
   "cell_type": "code",
   "execution_count": null,
   "id": "terminal-adrian",
   "metadata": {},
   "outputs": [],
   "source": []
  },
  {
   "cell_type": "code",
   "execution_count": null,
   "id": "affected-suggestion",
   "metadata": {},
   "outputs": [],
   "source": []
  },
  {
   "cell_type": "code",
   "execution_count": null,
   "id": "negative-adoption",
   "metadata": {},
   "outputs": [],
   "source": []
  },
  {
   "cell_type": "code",
   "execution_count": null,
   "id": "underlying-auckland",
   "metadata": {},
   "outputs": [],
   "source": []
  },
  {
   "cell_type": "code",
   "execution_count": null,
   "id": "powered-sleeping",
   "metadata": {},
   "outputs": [],
   "source": []
  },
  {
   "cell_type": "code",
   "execution_count": null,
   "id": "sharp-movie",
   "metadata": {},
   "outputs": [],
   "source": []
  }
 ],
 "metadata": {
  "kernelspec": {
   "display_name": "Python 3",
   "language": "python",
   "name": "python3"
  },
  "language_info": {
   "codemirror_mode": {
    "name": "ipython",
    "version": 3
   },
   "file_extension": ".py",
   "mimetype": "text/x-python",
   "name": "python",
   "nbconvert_exporter": "python",
   "pygments_lexer": "ipython3",
   "version": "3.8.7"
  },
  "varInspector": {
   "cols": {
    "lenName": 16,
    "lenType": 16,
    "lenVar": 40
   },
   "kernels_config": {
    "python": {
     "delete_cmd_postfix": "",
     "delete_cmd_prefix": "del ",
     "library": "var_list.py",
     "varRefreshCmd": "print(var_dic_list())"
    },
    "r": {
     "delete_cmd_postfix": ") ",
     "delete_cmd_prefix": "rm(",
     "library": "var_list.r",
     "varRefreshCmd": "cat(var_dic_list()) "
    }
   },
   "types_to_exclude": [
    "module",
    "function",
    "builtin_function_or_method",
    "instance",
    "_Feature"
   ],
   "window_display": false
  }
 },
 "nbformat": 4,
 "nbformat_minor": 5
}
