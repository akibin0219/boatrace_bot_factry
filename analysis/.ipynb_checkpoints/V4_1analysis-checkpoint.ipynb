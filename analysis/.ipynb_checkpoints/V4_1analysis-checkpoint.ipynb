{
 "cells": [
  {
   "cell_type": "markdown",
   "id": "closing-chess",
   "metadata": {},
   "source": [
    "# V4系列で吐き出されたスコアシートについて分析をするスクリプト\n",
    "\n",
    "## ゴールとしては，このスクリプトで追加した条件によって，今後収益が出るかどうかを見分けられるルールを決めたい"
   ]
  },
  {
   "cell_type": "markdown",
   "id": "assumed-korean",
   "metadata": {},
   "source": [
    "### モジュールのインポート"
   ]
  },
  {
   "cell_type": "code",
   "execution_count": 1,
   "id": "civic-recording",
   "metadata": {},
   "outputs": [],
   "source": [
    "import pandas as pd\n",
    "import numpy as np\n",
    "from sklearn.metrics import accuracy_score\n",
    "from sklearn.model_selection import cross_val_score\n",
    "from matplotlib import pyplot as plt\n",
    "import seaborn\n",
    "from pandas import DataFrame\n",
    "from tqdm import tqdm\n",
    "from imblearn.under_sampling import RandomUnderSampler #アンダーサンプリング用\n",
    "from sklearn.model_selection import train_test_split\n",
    "import pickle\n",
    "# 機械学習用\n",
    "from sklearn.cluster import KMeans #クラスタリング用\n",
    "from sklearn.ensemble import RandomForestClassifier#ランダムフォレスト\n",
    "from copy import deepcopy as cp\n",
    "from sklearn.linear_model import LogisticRegression\n",
    "import time\n",
    "import datetime\n",
    "from dateutil.relativedelta import relativedelta\n",
    "import os #ディレクトリ作成用\n",
    "import xgboost as xgb\n",
    "import sys\n",
    "#自作のモジュールのインポート\n",
    "sys.path.append(\"..\")\n",
    "import module.master as master\n",
    "import module.modeling_scores as modeling"
   ]
  },
  {
   "cell_type": "markdown",
   "id": "stopped-savings",
   "metadata": {},
   "source": [
    "### 基礎集計"
   ]
  },
  {
   "cell_type": "code",
   "execution_count": 2,
   "id": "collect-electric",
   "metadata": {
    "scrolled": false
   },
   "outputs": [
    {
     "name": "stdout",
     "output_type": "stream",
     "text": [
      "testでのnum_plus_monthの数====================================================================\n",
      "st_date:2020-01-01 00:00:00\n",
      "0.0    5409\n",
      "1.0    5612\n",
      "2.0    2520\n",
      "3.0     512\n",
      "4.0      59\n",
      "Name: plus_month_num_test, dtype: int64\n",
      "st_date:2020-04-01 00:00:00\n",
      "0.0    5105\n",
      "1.0    5115\n",
      "2.0    3119\n",
      "3.0     558\n",
      "4.0     215\n",
      "Name: plus_month_num_test, dtype: int64\n",
      "st_date:2020-07-01 00:00:00\n",
      "0.0    4850\n",
      "1.0    4404\n",
      "2.0    3181\n",
      "3.0    1571\n",
      "4.0     106\n",
      "Name: plus_month_num_test, dtype: int64\n",
      "st_date:2020-10-01 00:00:00\n",
      "0.0    5063\n",
      "1.0    5348\n",
      "2.0    2682\n",
      "3.0     894\n",
      "4.0     120\n",
      "5.0       5\n",
      "Name: plus_month_num_test, dtype: int64\n"
     ]
    }
   ],
   "source": [
    "version='V4_2'#バージョン\n",
    "\n",
    "place_master=master.get_place_master()\n",
    "place_name='asiya'\n",
    "\n",
    "#ファイルの読み込み\n",
    "# for i in range(4):\n",
    "#     now_ym=datetime.datetime(year=2020, month=1+(i*3),day=1)\n",
    "#     dir_path = \"../../bot_database/{place_name}/model_score_{place_name}/v4_score/{place_name}_model_score_st{stDate}_{V}.csv\".format(place_name=place_name,V=version,stDate=now_ym.strftime('%Y%m%d'))#作成したデータの書き込み先#使用するデータの読み込み\n",
    "#     model_score_df=pd.read_csv(dir_path, encoding='utf_8_sig')\n",
    "#     model_score_df=model_score_df.drop([\"Unnamed: 0\"],axis=1)\n",
    "#     display(model_score_df)\n",
    "\n",
    "#testでのnum_plus_monthの数\n",
    "print('testでのnum_plus_monthの数====================================================================')\n",
    "for i in range(4):\n",
    "    now_ym=datetime.datetime(year=2020, month=1+(i*3),day=1)\n",
    "    dir_path = \"../../bot_database/{place_name}/model_score_{place_name}/v4_score/{place_name}_model_score_st{stDate}_{V}.csv\".format(place_name=place_name,V=version,stDate=now_ym.strftime('%Y%m%d'))#作成したデータの書き込み先#使用するデータの読み込み\n",
    "    model_score_df=pd.read_csv(dir_path, encoding='utf_8_sig')\n",
    "    model_score_df=model_score_df.drop([\"Unnamed: 0\"],axis=1)\n",
    "    print('st_date:{}'.format(now_ym))\n",
    "    print(model_score_df['plus_month_num_test'].value_counts().sort_index())\n",
    "    \n",
    "\n"
   ]
  },
  {
   "cell_type": "code",
   "execution_count": 3,
   "id": "attached-disco",
   "metadata": {},
   "outputs": [
    {
     "name": "stdout",
     "output_type": "stream",
     "text": [
      "testでのnum_plus_monthが3以上だったもののうち，での,finalのnumplus_monthの数====================================================================\n",
      "st_date:2020-01-01 00:00:00\n",
      "0.0      3\n",
      "1.0     21\n",
      "2.0    133\n",
      "3.0    222\n",
      "4.0    191\n",
      "5.0      1\n",
      "Name: plus_month_num_final, dtype: int64\n",
      "st_date:2020-04-01 00:00:00\n",
      "0.0    344\n",
      "1.0    299\n",
      "2.0    116\n",
      "3.0      8\n",
      "4.0      4\n",
      "5.0      2\n",
      "Name: plus_month_num_final, dtype: int64\n",
      "st_date:2020-07-01 00:00:00\n",
      "0.0    608\n",
      "1.0    327\n",
      "2.0    197\n",
      "3.0    279\n",
      "4.0    261\n",
      "5.0      5\n",
      "Name: plus_month_num_final, dtype: int64\n",
      "st_date:2020-10-01 00:00:00\n",
      "0.0    527\n",
      "1.0    383\n",
      "2.0    107\n",
      "3.0      2\n",
      "Name: plus_month_num_final, dtype: int64\n"
     ]
    }
   ],
   "source": [
    "#testでのnum_plus_monthが3以上だったもののうち，での,finalのnumplus_monthの数\n",
    "print('testでのnum_plus_monthが3以上だったもののうち，での,finalのnumplus_monthの数====================================================================')\n",
    "for i in range(4):\n",
    "    now_ym=datetime.datetime(year=2020, month=1+(i*3),day=1)\n",
    "    dir_path = \"../../bot_database/{place_name}/model_score_{place_name}/v4_score/{place_name}_model_score_st{stDate}_{V}.csv\".format(place_name=place_name,V=version,stDate=now_ym.strftime('%Y%m%d'))#作成したデータの書き込み先#使用するデータの読み込み\n",
    "    model_score_df=pd.read_csv(dir_path, encoding='utf_8_sig')\n",
    "    model_score_df=model_score_df.drop([\"Unnamed: 0\"],axis=1)\n",
    "    print('st_date:{}'.format(now_ym))\n",
    "    #集計\n",
    "    print(model_score_df[model_score_df['plus_month_num_test']>=3]['plus_month_num_final'].value_counts().sort_index())"
   ]
  },
  {
   "cell_type": "code",
   "execution_count": 4,
   "id": "treated-likelihood",
   "metadata": {},
   "outputs": [
    {
     "name": "stdout",
     "output_type": "stream",
     "text": [
      "#test,finalでnum_plus_monthが3以上だったモデルの重複なしでのcomたち====================================================================\n",
      "st_date:2020-01-01 00:00:00\n",
      "1.0     117\n",
      "2.0      16\n",
      "5.0      36\n",
      "6.0      13\n",
      "7.0      17\n",
      "10.0     71\n",
      "14.0    144\n",
      "Name: target_com, dtype: int64\n",
      "st_date:2020-04-01 00:00:00\n",
      "1.0      1\n",
      "13.0     2\n",
      "21.0    11\n",
      "Name: target_com, dtype: int64\n",
      "st_date:2020-07-01 00:00:00\n",
      "4.0       1\n",
      "13.0    262\n",
      "15.0     82\n",
      "22.0    200\n",
      "Name: target_com, dtype: int64\n",
      "st_date:2020-10-01 00:00:00\n",
      "1.0    2\n",
      "Name: target_com, dtype: int64\n"
     ]
    }
   ],
   "source": [
    "#test,finalでnum_plus_monthが3以上だったモデルの重複なしでのcomたち\n",
    "print('#test,finalでnum_plus_monthが3以上だったモデルの重複なしでのcomたち====================================================================')\n",
    "for i in range(4):\n",
    "    now_ym=datetime.datetime(year=2020, month=1+(i*3),day=1)\n",
    "    dir_path = \"../../bot_database/{place_name}/model_score_{place_name}/v4_score/{place_name}_model_score_st{stDate}_{V}.csv\".format(place_name=place_name,V=version,stDate=now_ym.strftime('%Y%m%d'))#作成したデータの書き込み先#使用するデータの読み込み\n",
    "    model_score_df=pd.read_csv(dir_path, encoding='utf_8_sig')\n",
    "    model_score_df=model_score_df.drop([\"Unnamed: 0\"],axis=1)\n",
    "    print('st_date:{}'.format(now_ym))\n",
    "    #集計\n",
    "    print(model_score_df[(model_score_df['plus_month_num_test']>=3) & (model_score_df['plus_month_num_final']>=3)]['target_com'].value_counts().sort_index())"
   ]
  },
  {
   "cell_type": "code",
   "execution_count": 5,
   "id": "forward-light",
   "metadata": {},
   "outputs": [
    {
     "name": "stdout",
     "output_type": "stream",
     "text": [
      "#test,finalでnum_plus_monthが3以上だったモデルの重複なしでのcomたち====================================================================\n",
      "st_date:2020-01-01 00:00:00\n",
      "2.0       8\n",
      "3.0      41\n",
      "5.0       8\n",
      "6.0       3\n",
      "7.0     181\n",
      "8.0      33\n",
      "11.0     23\n",
      "13.0      1\n",
      "14.0    274\n",
      "16.0      1\n",
      "20.0     32\n",
      "22.0      2\n",
      "23.0      2\n",
      "25.0      9\n",
      "Name: target_com, dtype: int64\n",
      "st_date:2020-04-01 00:00:00\n",
      "1.0       1\n",
      "4.0      13\n",
      "12.0      7\n",
      "21.0     17\n",
      "22.0     12\n",
      "23.0    282\n",
      "25.0     23\n",
      "27.0     65\n",
      "Name: target_com, dtype: int64\n",
      "st_date:2020-07-01 00:00:00\n",
      "4.0      10\n",
      "12.0    121\n",
      "13.0    401\n",
      "15.0    245\n",
      "21.0      8\n",
      "22.0    244\n",
      "23.0    128\n",
      "Name: target_com, dtype: int64\n",
      "st_date:2020-10-01 00:00:00\n",
      "1.0       2\n",
      "5.0       5\n",
      "11.0      1\n",
      "12.0    147\n",
      "13.0    244\n",
      "21.0      6\n",
      "22.0    252\n",
      "Name: target_com, dtype: int64\n"
     ]
    }
   ],
   "source": [
    "#test,finalでnum_plus_monthが3以上だったモデルの重複なしでのcomたち\n",
    "print('#test,finalでnum_plus_monthが3以上だったモデルの重複なしでのcomたち====================================================================')\n",
    "for i in range(4):\n",
    "    now_ym=datetime.datetime(year=2020, month=1+(i*3),day=1)\n",
    "    dir_path = \"../../bot_database/{place_name}/model_score_{place_name}/v4_score/{place_name}_model_score_st{stDate}_{V}.csv\".format(place_name=place_name,V=version,stDate=now_ym.strftime('%Y%m%d'))#作成したデータの書き込み先#使用するデータの読み込み\n",
    "    model_score_df=pd.read_csv(dir_path, encoding='utf_8_sig')\n",
    "    model_score_df=model_score_df.drop([\"Unnamed: 0\"],axis=1)\n",
    "    print('st_date:{}'.format(now_ym))\n",
    "    #集計\n",
    "    print(model_score_df[(model_score_df['gain_test']>=115) & (model_score_df['gain_final']>=115)]['target_com'].value_counts().sort_index())"
   ]
  },
  {
   "cell_type": "code",
   "execution_count": 6,
   "id": "cleared-equation",
   "metadata": {},
   "outputs": [
    {
     "name": "stdout",
     "output_type": "stream",
     "text": [
      "#testでnum_plus_monthが3以上だったモデルのgain分析====================================================================\n",
      "st_date:2020-01-01 00:00:00\n"
     ]
    },
    {
     "data": {
      "text/html": [
       "<div>\n",
       "<style scoped>\n",
       "    .dataframe tbody tr th:only-of-type {\n",
       "        vertical-align: middle;\n",
       "    }\n",
       "\n",
       "    .dataframe tbody tr th {\n",
       "        vertical-align: top;\n",
       "    }\n",
       "\n",
       "    .dataframe thead th {\n",
       "        text-align: right;\n",
       "    }\n",
       "</style>\n",
       "<table border=\"1\" class=\"dataframe\">\n",
       "  <thead>\n",
       "    <tr style=\"text-align: right;\">\n",
       "      <th></th>\n",
       "      <th>gain_th</th>\n",
       "      <th>num_com</th>\n",
       "      <th>num_model(row)</th>\n",
       "    </tr>\n",
       "  </thead>\n",
       "  <tbody>\n",
       "    <tr>\n",
       "      <th>0</th>\n",
       "      <td>100未満</td>\n",
       "      <td>25</td>\n",
       "      <td>6749</td>\n",
       "    </tr>\n",
       "    <tr>\n",
       "      <th>1</th>\n",
       "      <td>100以上_110未満</td>\n",
       "      <td>25</td>\n",
       "      <td>1512</td>\n",
       "    </tr>\n",
       "    <tr>\n",
       "      <th>2</th>\n",
       "      <td>110以上_120未満</td>\n",
       "      <td>25</td>\n",
       "      <td>1676</td>\n",
       "    </tr>\n",
       "    <tr>\n",
       "      <th>3</th>\n",
       "      <td>120以上_140未満</td>\n",
       "      <td>25</td>\n",
       "      <td>1641</td>\n",
       "    </tr>\n",
       "    <tr>\n",
       "      <th>4</th>\n",
       "      <td>150以上</td>\n",
       "      <td>18</td>\n",
       "      <td>1987</td>\n",
       "    </tr>\n",
       "  </tbody>\n",
       "</table>\n",
       "</div>"
      ],
      "text/plain": [
       "       gain_th num_com num_model(row)\n",
       "0        100未満      25           6749\n",
       "1  100以上_110未満      25           1512\n",
       "2  110以上_120未満      25           1676\n",
       "3  120以上_140未満      25           1641\n",
       "4        150以上      18           1987"
      ]
     },
     "metadata": {},
     "output_type": "display_data"
    },
    {
     "name": "stdout",
     "output_type": "stream",
     "text": [
      "st_date:2020-04-01 00:00:00\n"
     ]
    },
    {
     "data": {
      "text/html": [
       "<div>\n",
       "<style scoped>\n",
       "    .dataframe tbody tr th:only-of-type {\n",
       "        vertical-align: middle;\n",
       "    }\n",
       "\n",
       "    .dataframe tbody tr th {\n",
       "        vertical-align: top;\n",
       "    }\n",
       "\n",
       "    .dataframe thead th {\n",
       "        text-align: right;\n",
       "    }\n",
       "</style>\n",
       "<table border=\"1\" class=\"dataframe\">\n",
       "  <thead>\n",
       "    <tr style=\"text-align: right;\">\n",
       "      <th></th>\n",
       "      <th>gain_th</th>\n",
       "      <th>num_com</th>\n",
       "      <th>num_model(row)</th>\n",
       "    </tr>\n",
       "  </thead>\n",
       "  <tbody>\n",
       "    <tr>\n",
       "      <th>0</th>\n",
       "      <td>100未満</td>\n",
       "      <td>28</td>\n",
       "      <td>11414</td>\n",
       "    </tr>\n",
       "    <tr>\n",
       "      <th>1</th>\n",
       "      <td>100以上_110未満</td>\n",
       "      <td>18</td>\n",
       "      <td>365</td>\n",
       "    </tr>\n",
       "    <tr>\n",
       "      <th>2</th>\n",
       "      <td>110以上_120未満</td>\n",
       "      <td>16</td>\n",
       "      <td>331</td>\n",
       "    </tr>\n",
       "    <tr>\n",
       "      <th>3</th>\n",
       "      <td>120以上_140未満</td>\n",
       "      <td>14</td>\n",
       "      <td>533</td>\n",
       "    </tr>\n",
       "    <tr>\n",
       "      <th>4</th>\n",
       "      <td>150以上</td>\n",
       "      <td>12</td>\n",
       "      <td>1071</td>\n",
       "    </tr>\n",
       "  </tbody>\n",
       "</table>\n",
       "</div>"
      ],
      "text/plain": [
       "       gain_th num_com num_model(row)\n",
       "0        100未満      28          11414\n",
       "1  100以上_110未満      18            365\n",
       "2  110以上_120未満      16            331\n",
       "3  120以上_140未満      14            533\n",
       "4        150以上      12           1071"
      ]
     },
     "metadata": {},
     "output_type": "display_data"
    },
    {
     "name": "stdout",
     "output_type": "stream",
     "text": [
      "st_date:2020-07-01 00:00:00\n"
     ]
    },
    {
     "data": {
      "text/html": [
       "<div>\n",
       "<style scoped>\n",
       "    .dataframe tbody tr th:only-of-type {\n",
       "        vertical-align: middle;\n",
       "    }\n",
       "\n",
       "    .dataframe tbody tr th {\n",
       "        vertical-align: top;\n",
       "    }\n",
       "\n",
       "    .dataframe thead th {\n",
       "        text-align: right;\n",
       "    }\n",
       "</style>\n",
       "<table border=\"1\" class=\"dataframe\">\n",
       "  <thead>\n",
       "    <tr style=\"text-align: right;\">\n",
       "      <th></th>\n",
       "      <th>gain_th</th>\n",
       "      <th>num_com</th>\n",
       "      <th>num_model(row)</th>\n",
       "    </tr>\n",
       "  </thead>\n",
       "  <tbody>\n",
       "    <tr>\n",
       "      <th>0</th>\n",
       "      <td>100未満</td>\n",
       "      <td>28</td>\n",
       "      <td>11341</td>\n",
       "    </tr>\n",
       "    <tr>\n",
       "      <th>1</th>\n",
       "      <td>100以上_110未満</td>\n",
       "      <td>16</td>\n",
       "      <td>392</td>\n",
       "    </tr>\n",
       "    <tr>\n",
       "      <th>2</th>\n",
       "      <td>110以上_120未満</td>\n",
       "      <td>15</td>\n",
       "      <td>228</td>\n",
       "    </tr>\n",
       "    <tr>\n",
       "      <th>3</th>\n",
       "      <td>120以上_140未満</td>\n",
       "      <td>15</td>\n",
       "      <td>340</td>\n",
       "    </tr>\n",
       "    <tr>\n",
       "      <th>4</th>\n",
       "      <td>150以上</td>\n",
       "      <td>9</td>\n",
       "      <td>1422</td>\n",
       "    </tr>\n",
       "  </tbody>\n",
       "</table>\n",
       "</div>"
      ],
      "text/plain": [
       "       gain_th num_com num_model(row)\n",
       "0        100未満      28          11341\n",
       "1  100以上_110未満      16            392\n",
       "2  110以上_120未満      15            228\n",
       "3  120以上_140未満      15            340\n",
       "4        150以上       9           1422"
      ]
     },
     "metadata": {},
     "output_type": "display_data"
    },
    {
     "name": "stdout",
     "output_type": "stream",
     "text": [
      "st_date:2020-10-01 00:00:00\n"
     ]
    },
    {
     "data": {
      "text/html": [
       "<div>\n",
       "<style scoped>\n",
       "    .dataframe tbody tr th:only-of-type {\n",
       "        vertical-align: middle;\n",
       "    }\n",
       "\n",
       "    .dataframe tbody tr th {\n",
       "        vertical-align: top;\n",
       "    }\n",
       "\n",
       "    .dataframe thead th {\n",
       "        text-align: right;\n",
       "    }\n",
       "</style>\n",
       "<table border=\"1\" class=\"dataframe\">\n",
       "  <thead>\n",
       "    <tr style=\"text-align: right;\">\n",
       "      <th></th>\n",
       "      <th>gain_th</th>\n",
       "      <th>num_com</th>\n",
       "      <th>num_model(row)</th>\n",
       "    </tr>\n",
       "  </thead>\n",
       "  <tbody>\n",
       "    <tr>\n",
       "      <th>0</th>\n",
       "      <td>100未満</td>\n",
       "      <td>28</td>\n",
       "      <td>10162</td>\n",
       "    </tr>\n",
       "    <tr>\n",
       "      <th>1</th>\n",
       "      <td>100以上_110未満</td>\n",
       "      <td>16</td>\n",
       "      <td>736</td>\n",
       "    </tr>\n",
       "    <tr>\n",
       "      <th>2</th>\n",
       "      <td>110以上_120未満</td>\n",
       "      <td>13</td>\n",
       "      <td>762</td>\n",
       "    </tr>\n",
       "    <tr>\n",
       "      <th>3</th>\n",
       "      <td>120以上_140未満</td>\n",
       "      <td>12</td>\n",
       "      <td>860</td>\n",
       "    </tr>\n",
       "    <tr>\n",
       "      <th>4</th>\n",
       "      <td>150以上</td>\n",
       "      <td>12</td>\n",
       "      <td>1124</td>\n",
       "    </tr>\n",
       "  </tbody>\n",
       "</table>\n",
       "</div>"
      ],
      "text/plain": [
       "       gain_th num_com num_model(row)\n",
       "0        100未満      28          10162\n",
       "1  100以上_110未満      16            736\n",
       "2  110以上_120未満      13            762\n",
       "3  120以上_140未満      12            860\n",
       "4        150以上      12           1124"
      ]
     },
     "metadata": {},
     "output_type": "display_data"
    }
   ],
   "source": [
    "#test,finalでnum_plus_monthが3以上だったモデルの重複なしでのcomたち\n",
    "def gainth_analysis(score_df,test_type='final'):\n",
    "    \n",
    "    gainth_arr=[100,110,120,140,160]\n",
    "    index_arr=[0,1,2,3,4]\n",
    "    cols=[\"gain_th\",\"num_com\",\"num_model(row)\"]\n",
    "    gainth_df=pd.DataFrame(columns=cols)\n",
    "    def make_series(target_df):\n",
    "        num_com=len(target_df['target_com'].value_counts().index)\n",
    "        num_model=len(target_df)\n",
    "        return num_com,num_model\n",
    "    for gainth,i in zip(gainth_arr,index_arr):\n",
    "        append_s=pd.Series(index=cols,dtype='object')\n",
    "        if (i==0):\n",
    "            target_df=score_df[score_df[\"gain_{}\".format(test_type)]<gainth]\n",
    "            num_com,num_model=make_series(target_df)\n",
    "            append_s['gain_th']=\"100未満\"\n",
    "            append_s['num_com']=num_com\n",
    "            append_s['num_model(row)']=num_model\n",
    "        elif (i==4):\n",
    "            target_df=score_df[score_df[\"gain_{}\".format(test_type)]>=gainth]\n",
    "            num_com,num_model=make_series(target_df)\n",
    "            append_s['gain_th']=\"150以上\"\n",
    "            append_s['num_com']=num_com\n",
    "            append_s['num_model(row)']=num_model\n",
    "        else:\n",
    "            target_df=score_df[(score_df[\"gain_{}\".format(test_type)]<gainth_arr[i])&(score_df[\"gain_{}\".format(test_type)]>=gainth_arr[i-1])]\n",
    "            num_com,num_model=make_series(target_df)\n",
    "            append_s['gain_th']=\"{}以上_{}未満\".format(gainth_arr[i-1],gainth_arr[i])\n",
    "            append_s['num_com']=num_com\n",
    "            append_s['num_model(row)']=num_model\n",
    "        gainth_df=gainth_df.append(append_s,ignore_index=True)\n",
    "    return gainth_df\n",
    "\n",
    "print('#testでnum_plus_monthが3以上だったモデルのgain分析====================================================================')\n",
    "for i in range(4):\n",
    "    now_ym=datetime.datetime(year=2020, month=1+(i*3),day=1)\n",
    "    dir_path = \"../../bot_database/{place_name}/model_score_{place_name}/v4_score/{place_name}_model_score_st{stDate}_{V}.csv\".format(place_name=place_name,V=version,stDate=now_ym.strftime('%Y%m%d'))#作成したデータの書き込み先#使用するデータの読み込み\n",
    "    model_score_df=pd.read_csv(dir_path, encoding='utf_8_sig')\n",
    "    model_score_df=model_score_df.drop([\"Unnamed: 0\"],axis=1)\n",
    "    print('st_date:{}'.format(now_ym))\n",
    "    gainth_df=gainth_analysis(model_score_df)\n",
    "    #集計\n",
    "    display(gainth_df)\n",
    "    \n",
    "    \n"
   ]
  },
  {
   "cell_type": "code",
   "execution_count": 7,
   "id": "available-solomon",
   "metadata": {},
   "outputs": [
    {
     "ename": "NameError",
     "evalue": "name 'gainth_arr' is not defined",
     "output_type": "error",
     "traceback": [
      "\u001b[1;31m---------------------------------------------------------------------------\u001b[0m",
      "\u001b[1;31mNameError\u001b[0m                                 Traceback (most recent call last)",
      "\u001b[1;32m<ipython-input-7-fd9035ba2a0f>\u001b[0m in \u001b[0;36m<module>\u001b[1;34m\u001b[0m\n\u001b[0;32m      1\u001b[0m \u001b[0mtest_type\u001b[0m\u001b[1;33m=\u001b[0m\u001b[1;34m'final'\u001b[0m\u001b[1;33m\u001b[0m\u001b[1;33m\u001b[0m\u001b[0m\n\u001b[1;32m----> 2\u001b[1;33m \u001b[0mmodel_score_df\u001b[0m\u001b[1;33m[\u001b[0m\u001b[1;33m(\u001b[0m\u001b[0mmodel_score_df\u001b[0m\u001b[1;33m[\u001b[0m\u001b[1;34m\"gain_{}\"\u001b[0m\u001b[1;33m.\u001b[0m\u001b[0mformat\u001b[0m\u001b[1;33m(\u001b[0m\u001b[0mtest_type\u001b[0m\u001b[1;33m)\u001b[0m\u001b[1;33m]\u001b[0m\u001b[1;33m<\u001b[0m\u001b[0mgainth_arr\u001b[0m\u001b[1;33m[\u001b[0m\u001b[0mi\u001b[0m\u001b[1;33m]\u001b[0m\u001b[1;33m)\u001b[0m\u001b[1;33m&\u001b[0m\u001b[1;33m(\u001b[0m\u001b[0mmodel_score_df\u001b[0m\u001b[1;33m[\u001b[0m\u001b[1;34m\"gain_{}\"\u001b[0m\u001b[1;33m.\u001b[0m\u001b[0mformat\u001b[0m\u001b[1;33m(\u001b[0m\u001b[0mtest_type\u001b[0m\u001b[1;33m)\u001b[0m\u001b[1;33m]\u001b[0m\u001b[1;33m>=\u001b[0m\u001b[0mgainth_arr\u001b[0m\u001b[1;33m[\u001b[0m\u001b[0mi\u001b[0m\u001b[1;33m-\u001b[0m\u001b[1;36m1\u001b[0m\u001b[1;33m]\u001b[0m\u001b[1;33m)\u001b[0m\u001b[1;33m]\u001b[0m\u001b[1;33m\u001b[0m\u001b[1;33m\u001b[0m\u001b[0m\n\u001b[0m",
      "\u001b[1;31mNameError\u001b[0m: name 'gainth_arr' is not defined"
     ]
    }
   ],
   "source": [
    "test_type='final'\n",
    "model_score_df[(model_score_df[\"gain_{}\".format(test_type)]<gainth_arr[i])&(model_score_df[\"gain_{}\".format(test_type)]>=gainth_arr[i-1])]"
   ]
  },
  {
   "cell_type": "code",
   "execution_count": null,
   "id": "congressional-taylor",
   "metadata": {},
   "outputs": [],
   "source": []
  },
  {
   "cell_type": "code",
   "execution_count": null,
   "id": "finished-hydrogen",
   "metadata": {},
   "outputs": [],
   "source": []
  },
  {
   "cell_type": "code",
   "execution_count": null,
   "id": "boolean-joyce",
   "metadata": {},
   "outputs": [],
   "source": []
  },
  {
   "cell_type": "code",
   "execution_count": null,
   "id": "fewer-physics",
   "metadata": {},
   "outputs": [],
   "source": []
  },
  {
   "cell_type": "code",
   "execution_count": null,
   "id": "occasional-suspension",
   "metadata": {},
   "outputs": [],
   "source": []
  },
  {
   "cell_type": "code",
   "execution_count": null,
   "id": "pediatric-looking",
   "metadata": {},
   "outputs": [],
   "source": []
  },
  {
   "cell_type": "code",
   "execution_count": null,
   "id": "located-bailey",
   "metadata": {},
   "outputs": [],
   "source": []
  },
  {
   "cell_type": "code",
   "execution_count": null,
   "id": "christian-tours",
   "metadata": {},
   "outputs": [],
   "source": []
  },
  {
   "cell_type": "code",
   "execution_count": null,
   "id": "devoted-cover",
   "metadata": {},
   "outputs": [],
   "source": []
  },
  {
   "cell_type": "code",
   "execution_count": null,
   "id": "together-illustration",
   "metadata": {},
   "outputs": [],
   "source": []
  },
  {
   "cell_type": "code",
   "execution_count": null,
   "id": "former-mills",
   "metadata": {},
   "outputs": [],
   "source": []
  },
  {
   "cell_type": "code",
   "execution_count": null,
   "id": "lyric-desktop",
   "metadata": {},
   "outputs": [],
   "source": []
  },
  {
   "cell_type": "code",
   "execution_count": null,
   "id": "existing-animation",
   "metadata": {},
   "outputs": [],
   "source": []
  },
  {
   "cell_type": "code",
   "execution_count": null,
   "id": "electoral-branch",
   "metadata": {},
   "outputs": [],
   "source": []
  },
  {
   "cell_type": "code",
   "execution_count": null,
   "id": "timely-drink",
   "metadata": {},
   "outputs": [],
   "source": []
  },
  {
   "cell_type": "code",
   "execution_count": null,
   "id": "compound-ideal",
   "metadata": {},
   "outputs": [],
   "source": []
  },
  {
   "cell_type": "code",
   "execution_count": null,
   "id": "alpine-instruction",
   "metadata": {},
   "outputs": [],
   "source": []
  }
 ],
 "metadata": {
  "kernelspec": {
   "display_name": "Python 3",
   "language": "python",
   "name": "python3"
  },
  "language_info": {
   "codemirror_mode": {
    "name": "ipython",
    "version": 3
   },
   "file_extension": ".py",
   "mimetype": "text/x-python",
   "name": "python",
   "nbconvert_exporter": "python",
   "pygments_lexer": "ipython3",
   "version": "3.8.7"
  },
  "varInspector": {
   "cols": {
    "lenName": 16,
    "lenType": 16,
    "lenVar": 40
   },
   "kernels_config": {
    "python": {
     "delete_cmd_postfix": "",
     "delete_cmd_prefix": "del ",
     "library": "var_list.py",
     "varRefreshCmd": "print(var_dic_list())"
    },
    "r": {
     "delete_cmd_postfix": ") ",
     "delete_cmd_prefix": "rm(",
     "library": "var_list.r",
     "varRefreshCmd": "cat(var_dic_list()) "
    }
   },
   "types_to_exclude": [
    "module",
    "function",
    "builtin_function_or_method",
    "instance",
    "_Feature"
   ],
   "window_display": false
  }
 },
 "nbformat": 4,
 "nbformat_minor": 5
}
