{
 "cells": [
  {
   "cell_type": "markdown",
   "metadata": {},
   "source": [
    "# factry用コード、全会場のデータを取得"
   ]
  },
  {
   "cell_type": "code",
   "execution_count": 1,
   "metadata": {},
   "outputs": [],
   "source": [
    "import requests\n",
    "from bs4 import BeautifulSoup\n",
    "import time\n",
    "import datetime\n",
    "import os #ディレクトリ作成用\n",
    "from tqdm import tqdm\n",
    "#自作モジュールインポート\n",
    "import module.master as master\n",
    "import module.graph as graph"
   ]
  },
  {
   "cell_type": "markdown",
   "metadata": {},
   "source": [
    "## 上の階層のdatabaseフォルダにクローリング結果格納用の場所をつくっておく。"
   ]
  },
  {
   "cell_type": "code",
   "execution_count": 2,
   "metadata": {},
   "outputs": [],
   "source": [
    "place_master=master.get_place_master()\n",
    "for place in place_master.items():\n",
    "    #print(place[0],place[1],'\\n')\n",
    "    dir_path = \"../bot_database/{}/{}_result_txt\".format(place[1],place[1])\n",
    "    if os.path.exists(dir_path)==False:\n",
    "        os.makedirs(dir_path)\n",
    "    else:\n",
    "        pass"
   ]
  },
  {
   "cell_type": "code",
   "execution_count": 3,
   "metadata": {
    "scrolled": true
   },
   "outputs": [
    {
     "name": "stdout",
     "output_type": "stream",
     "text": [
      "01 kiryu \n",
      "\n",
      "02 toda \n",
      "\n",
      "03 edogawa \n",
      "\n",
      "04 heiwazima \n",
      "\n",
      "05 tamagawa \n",
      "\n",
      "06 hamanako \n",
      "\n",
      "07 gamagori \n",
      "\n",
      "08 tokoname \n",
      "\n",
      "09 tu \n",
      "\n",
      "10 mikuni \n",
      "\n",
      "11 biwako \n",
      "\n",
      "12 suminoe \n",
      "\n",
      "13 amagasaki \n",
      "\n",
      "14 naruto \n",
      "\n",
      "15 marugame \n",
      "\n",
      "16 kozima \n",
      "\n",
      "17 miyazima \n",
      "\n",
      "18 tokuyama \n",
      "\n",
      "19 simonoseki \n",
      "\n",
      "20 wakamatu \n",
      "\n",
      "21 asiya \n",
      "\n",
      "22 fukuoka \n",
      "\n",
      "23 karatu \n",
      "\n",
      "24 omura \n",
      "\n"
     ]
    }
   ],
   "source": [
    "#place_master=master.get_place_master()\n",
    "for place in place_master.items():\n",
    "    print(place[0],place[1],'\\n')\n"
   ]
  },
  {
   "cell_type": "markdown",
   "metadata": {},
   "source": [
    "## PCが止まってしまわれたので急遽マスタを作り直す。"
   ]
  },
  {
   "cell_type": "code",
   "execution_count": 12,
   "metadata": {},
   "outputs": [
    {
     "name": "stderr",
     "output_type": "stream",
     "text": [
      "100%|██████████████████████████████████████████████████████████████████████████████████████████| 24/24 [00:00<?, ?it/s]\n"
     ]
    },
    {
     "data": {
      "text/plain": [
       "{'12': 'suminoe',\n",
       " '13': 'amagasaki',\n",
       " '14': 'naruto',\n",
       " '15': 'marugame',\n",
       " '16': 'kozima',\n",
       " '17': 'miyazima',\n",
       " '18': 'tokuyama',\n",
       " '19': 'simonoseki',\n",
       " '20': 'wakamatu',\n",
       " '21': 'asiya',\n",
       " '22': 'fukuoka',\n",
       " '23': 'karatu',\n",
       " '24': 'omura'}"
      ]
     },
     "execution_count": 12,
     "metadata": {},
     "output_type": "execute_result"
    }
   ],
   "source": [
    "\"\"\"\n",
    "place_master_2={}\n",
    "for place in tqdm(place_master.items()):\n",
    "    if int(place[0])>=12:\n",
    "        #print(place[0],place[1])\n",
    "        place_master_2[place[0]]=place[1]\n",
    "    else:\n",
    "        pass\n",
    "place_master_2\n",
    "\"\"\""
   ]
  },
  {
   "cell_type": "markdown",
   "metadata": {},
   "source": [
    "# クローリング"
   ]
  },
  {
   "cell_type": "code",
   "execution_count": 13,
   "metadata": {
    "scrolled": true
   },
   "outputs": [
    {
     "name": "stderr",
     "output_type": "stream",
     "text": [
      "\r",
      "  0%|                                                                                           | 0/13 [00:00<?, ?it/s]"
     ]
    },
    {
     "name": "stdout",
     "output_type": "stream",
     "text": [
      "suminoe\n",
      "2012 年目が終了\n",
      "2013 年目が終了\n",
      "2014 年目が終了\n",
      "2015 年目が終了\n",
      "2016 年目が終了\n",
      "2017 年目が終了\n",
      "2018 年目が終了\n",
      "2019 年目が終了\n"
     ]
    },
    {
     "name": "stderr",
     "output_type": "stream",
     "text": [
      "\r",
      "  8%|█████▊                                                                     | 1/13 [2:53:55<34:47:01, 10435.10s/it]"
     ]
    },
    {
     "name": "stdout",
     "output_type": "stream",
     "text": [
      "2020 年目が終了\n",
      "amagasaki\n",
      "2012 年目が終了\n",
      "2013 年目が終了\n",
      "2014 年目が終了\n",
      "2015 年目が終了\n",
      "2016 年目が終了\n",
      "2017 年目が終了\n",
      "2018 年目が終了\n",
      "2019 年目が終了\n"
     ]
    },
    {
     "name": "stderr",
     "output_type": "stream",
     "text": [
      "\r",
      " 15%|███████████▌                                                               | 2/13 [5:47:49<31:53:01, 10434.65s/it]"
     ]
    },
    {
     "name": "stdout",
     "output_type": "stream",
     "text": [
      "2020 年目が終了\n",
      "naruto\n",
      "2012 年目が終了\n",
      "2013 年目が終了\n",
      "2014 年目が終了\n",
      "2015 年目が終了\n",
      "2016 年目が終了\n",
      "2017 年目が終了\n",
      "2018 年目が終了\n",
      "2019 年目が終了\n"
     ]
    },
    {
     "name": "stderr",
     "output_type": "stream",
     "text": [
      "\r",
      " 23%|█████████████████▎                                                         | 3/13 [8:29:46<28:04:28, 10106.85s/it]"
     ]
    },
    {
     "name": "stdout",
     "output_type": "stream",
     "text": [
      "2020 年目が終了\n",
      "marugame\n",
      "2012 年目が終了\n",
      "2013 年目が終了\n",
      "2014 年目が終了\n",
      "2015 年目が終了\n",
      "2016 年目が終了\n",
      "2017 年目が終了\n",
      "2018 年目が終了\n",
      "2019 年目が終了\n"
     ]
    },
    {
     "name": "stderr",
     "output_type": "stream",
     "text": [
      "\r",
      " 31%|██████████████████████▊                                                   | 4/13 [11:27:26<25:48:47, 10325.28s/it]"
     ]
    },
    {
     "name": "stdout",
     "output_type": "stream",
     "text": [
      "2020 年目が終了\n",
      "kozima\n",
      "2012 年目が終了\n",
      "2013 年目が終了\n",
      "2014 年目が終了\n",
      "2015 年目が終了\n",
      "2016 年目が終了\n",
      "2017 年目が終了\n",
      "2018 年目が終了\n",
      "2019 年目が終了\n"
     ]
    },
    {
     "name": "stderr",
     "output_type": "stream",
     "text": [
      "\r",
      " 38%|████████████████████████████▍                                             | 5/13 [14:23:39<23:08:37, 10414.64s/it]"
     ]
    },
    {
     "name": "stdout",
     "output_type": "stream",
     "text": [
      "2020 年目が終了\n",
      "miyazima\n",
      "2012 年目が終了\n",
      "2013 年目が終了\n",
      "2014 年目が終了\n",
      "2015 年目が終了\n",
      "2016 年目が終了\n",
      "2017 年目が終了\n",
      "2018 年目が終了\n",
      "2019 年目が終了\n"
     ]
    },
    {
     "name": "stderr",
     "output_type": "stream",
     "text": [
      "\r",
      " 46%|██████████████████████████████████▏                                       | 6/13 [17:19:01<20:19:17, 10451.00s/it]"
     ]
    },
    {
     "name": "stdout",
     "output_type": "stream",
     "text": [
      "2020 年目が終了\n",
      "tokuyama\n",
      "2012 年目が終了\n",
      "2013 年目が終了\n",
      "2014 年目が終了\n",
      "2015 年目が終了\n",
      "2016 年目が終了\n",
      "2017 年目が終了\n",
      "2018 年目が終了\n",
      "2019 年目が終了\n"
     ]
    },
    {
     "name": "stderr",
     "output_type": "stream",
     "text": [
      "\r",
      " 54%|███████████████████████████████████████▊                                  | 7/13 [20:13:26<17:25:33, 10455.61s/it]"
     ]
    },
    {
     "name": "stdout",
     "output_type": "stream",
     "text": [
      "2020 年目が終了\n",
      "simonoseki\n",
      "2012 年目が終了\n",
      "2013 年目が終了\n",
      "2014 年目が終了\n",
      "2015 年目が終了\n",
      "2016 年目が終了\n",
      "2017 年目が終了\n",
      "2018 年目が終了\n",
      "2019 年目が終了\n"
     ]
    },
    {
     "name": "stderr",
     "output_type": "stream",
     "text": [
      "\r",
      " 62%|█████████████████████████████████████████████▌                            | 8/13 [23:07:41<14:31:17, 10455.54s/it]"
     ]
    },
    {
     "name": "stdout",
     "output_type": "stream",
     "text": [
      "2020 年目が終了\n",
      "wakamatu\n",
      "2012 年目が終了\n",
      "2013 年目が終了\n",
      "2014 年目が終了\n",
      "2015 年目が終了\n",
      "2016 年目が終了\n",
      "2017 年目が終了\n",
      "2018 年目が終了\n",
      "2019 年目が終了\n"
     ]
    },
    {
     "name": "stderr",
     "output_type": "stream",
     "text": [
      "\r",
      " 69%|███████████████████████████████████████████████████▏                      | 9/13 [26:04:58<11:40:48, 10512.24s/it]"
     ]
    },
    {
     "name": "stdout",
     "output_type": "stream",
     "text": [
      "2020 年目が終了\n",
      "asiya\n",
      "2012 年目が終了\n",
      "2013 年目が終了\n",
      "2014 年目が終了\n",
      "2015 年目が終了\n",
      "2016 年目が終了\n",
      "2017 年目が終了\n",
      "2018 年目が終了\n",
      "2019 年目が終了\n"
     ]
    },
    {
     "name": "stderr",
     "output_type": "stream",
     "text": [
      "\r",
      " 77%|████████████████████████████████████████████████████████▉                 | 10/13 [29:02:55<8:48:09, 10563.04s/it]"
     ]
    },
    {
     "name": "stdout",
     "output_type": "stream",
     "text": [
      "2020 年目が終了\n",
      "fukuoka\n",
      "2012 年目が終了\n",
      "2013 年目が終了\n",
      "2014 年目が終了\n",
      "2015 年目が終了\n",
      "2016 年目が終了\n",
      "2017 年目が終了\n",
      "2018 年目が終了\n",
      "2019 年目が終了\n"
     ]
    },
    {
     "name": "stderr",
     "output_type": "stream",
     "text": [
      "\r",
      " 85%|██████████████████████████████████████████████████████████████▌           | 11/13 [31:59:58<5:52:43, 10581.51s/it]"
     ]
    },
    {
     "name": "stdout",
     "output_type": "stream",
     "text": [
      "2020 年目が終了\n",
      "karatu\n",
      "2012 年目が終了\n",
      "2013 年目が終了\n",
      "2014 年目が終了\n",
      "2015 年目が終了\n",
      "2016 年目が終了\n",
      "2017 年目が終了\n",
      "2018 年目が終了\n",
      "2019 年目が終了\n"
     ]
    },
    {
     "name": "stderr",
     "output_type": "stream",
     "text": [
      "\r",
      " 92%|████████████████████████████████████████████████████████████████████▎     | 12/13 [34:54:58<2:55:56, 10556.62s/it]"
     ]
    },
    {
     "name": "stdout",
     "output_type": "stream",
     "text": [
      "2020 年目が終了\n",
      "omura\n",
      "2012 年目が終了\n",
      "2013 年目が終了\n",
      "2014 年目が終了\n",
      "2015 年目が終了\n",
      "2016 年目が終了\n",
      "2017 年目が終了\n",
      "2018 年目が終了\n",
      "2019 年目が終了\n"
     ]
    },
    {
     "name": "stderr",
     "output_type": "stream",
     "text": [
      "100%|████████████████████████████████████████████████████████████████████████████| 13/13 [37:51:56<00:00, 10485.87s/it]"
     ]
    },
    {
     "name": "stdout",
     "output_type": "stream",
     "text": [
      "2020 年目が終了\n"
     ]
    },
    {
     "name": "stderr",
     "output_type": "stream",
     "text": [
      "\n"
     ]
    }
   ],
   "source": [
    "#for place in tqdm(place_master_2.items()):\n",
    "for place in tqdm(place_master.items()):\n",
    "    place_num=place[0]\n",
    "    place_name=place[1]\n",
    "    print(place_name)\n",
    "    url_list=[]\n",
    "    years=['2012','2013','2014','2015','2016','2017','2018','2019','2020']\n",
    "    months=['04','05','06','07','08','09','10','11','12','01','02','03']\n",
    "    days=['01','02','03','04','05','06','07','08','09','10','11','12','13','14','15','16','17','18','19','20','21','22','23','24','25','26','27','28','29','30','31']\n",
    "    for year in years:\n",
    "        for month in months:\n",
    "\n",
    "            for day in days:\n",
    "                url=\"http://www1.mbrace.or.jp/od2/K/{year}{month}/{place_num}/{day}.html\".format(year=year,month=month,place_num=place_num,day=day)\n",
    "\n",
    "                #print('スクレイピング中',url)\n",
    "                HTML_res=requests.get(url)\n",
    "                HTML_res.encoding = HTML_res.apparent_encoding  # この行を追加\n",
    "                file_path=\"../bot_database/{name}/{name}_result_txt/{year}_result_{name}.txt\".format(year=year,name=place_name)\n",
    "                if HTML_res.status_code==200:#URLが存在するときのみスクレイピングを行う。\n",
    "                    HTML_doc=HTML_res.content#pip install chardet 要　文字化け防止\n",
    "                    date=datetime.date(int(year),int(month),int(day))\n",
    "                    #HTML=BeautifulSoup(HTML_doc,'lxml')#pip install lxmlでインストール要\n",
    "                    HTML=BeautifulSoup(HTML_doc,'html.parser')#pip install lxmlでインストール要\n",
    "                    result_data_text=[]\n",
    "                    for HTML in HTML.find_all('pre'):\n",
    "                        result_data_text.append(HTML.get_text())\n",
    "                    result_data_text[0]='\\n'\n",
    "\n",
    "                    with open(file_path,'a') as f:\n",
    "                        for i in range(len(result_data_text)):\n",
    "                            if(i==1):\n",
    "                                #print(result_data_text[i][:621],file=f)\n",
    "                                #print(result_data_text[i][:734],file=f)\n",
    "                                print('date:{}\\n'.format(date),file=f)\n",
    "                                print(result_data_text[i][:924],file=f)\n",
    "                            else:\n",
    "                                #print(result_data_text[i][:622],file=f)\n",
    "                                #print(result_data_text[i][:734],file=f)\n",
    "                                print(result_data_text[i][:924],file=f)\n",
    "                                print('\\n',file=f)\n",
    "                    time.sleep(2)\n",
    "                else:\n",
    "                     pass\n",
    "            #print(year,'年',month,'月が終了')\n",
    "        print(year,'年目が終了')\n"
   ]
  },
  {
   "cell_type": "code",
   "execution_count": null,
   "metadata": {},
   "outputs": [],
   "source": [
    "print(url)"
   ]
  },
  {
   "cell_type": "code",
   "execution_count": null,
   "metadata": {},
   "outputs": [],
   "source": []
  },
  {
   "cell_type": "code",
   "execution_count": null,
   "metadata": {},
   "outputs": [],
   "source": []
  },
  {
   "cell_type": "code",
   "execution_count": null,
   "metadata": {},
   "outputs": [],
   "source": []
  }
 ],
 "metadata": {
  "kernelspec": {
   "display_name": "Python 3",
   "language": "python",
   "name": "python3"
  },
  "language_info": {
   "codemirror_mode": {
    "name": "ipython",
    "version": 3
   },
   "file_extension": ".py",
   "mimetype": "text/x-python",
   "name": "python",
   "nbconvert_exporter": "python",
   "pygments_lexer": "ipython3",
   "version": "3.8.7"
  },
  "varInspector": {
   "cols": {
    "lenName": 16,
    "lenType": 16,
    "lenVar": 40
   },
   "kernels_config": {
    "python": {
     "delete_cmd_postfix": "",
     "delete_cmd_prefix": "del ",
     "library": "var_list.py",
     "varRefreshCmd": "print(var_dic_list())"
    },
    "r": {
     "delete_cmd_postfix": ") ",
     "delete_cmd_prefix": "rm(",
     "library": "var_list.r",
     "varRefreshCmd": "cat(var_dic_list()) "
    }
   },
   "types_to_exclude": [
    "module",
    "function",
    "builtin_function_or_method",
    "instance",
    "_Feature"
   ],
   "window_display": false
  }
 },
 "nbformat": 4,
 "nbformat_minor": 2
}
