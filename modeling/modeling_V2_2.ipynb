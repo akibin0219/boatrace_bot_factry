{
 "cells": [
  {
   "cell_type": "code",
   "execution_count": 1,
   "id": "turned-steering",
   "metadata": {},
   "outputs": [],
   "source": [
    "import pandas as pd\n",
    "import numpy as np\n",
    "from sklearn.metrics import accuracy_score\n",
    "from sklearn.model_selection import cross_val_score\n",
    "from matplotlib import pyplot as plt\n",
    "import seaborn\n",
    "from pandas import DataFrame\n",
    "from tqdm import tqdm\n",
    "from imblearn.under_sampling import RandomUnderSampler #アンダーサンプリング用\n",
    "from sklearn.model_selection import train_test_split\n",
    "import pickle\n",
    "# 機械学習用\n",
    "from sklearn.cluster import KMeans #クラスタリング用\n",
    "from sklearn.ensemble import RandomForestClassifier#ランダムフォレスト\n",
    "from copy import deepcopy as cp\n",
    "from sklearn.linear_model import LogisticRegression\n",
    "from sklearn.ensemble import AdaBoostClassifier\n",
    "import lightgbm as lgb\n",
    "from sklearn.linear_model import LogisticRegression as LR\n",
    "import time\n",
    "import datetime\n",
    "import os #ディレクトリ作成用\n",
    "import xgboost as xgb\n",
    "import sys\n",
    "#自作のモジュールのインポート\n",
    "import module.master as master\n",
    "import module.graph as graph\n",
    "import module.trans_text_code as trans\n",
    "import module.data_making as making\n"
   ]
  },
  {
   "cell_type": "code",
   "execution_count": 2,
   "id": "heard-behavior",
   "metadata": {},
   "outputs": [],
   "source": [
    "place_master=master.get_place_master()\n",
    "for place in place_master.items():\n",
    "    #print(place[0],place[1],'\\n')\n",
    "    place_name=place[1]\n",
    "    dir_path = \"../../bot_database/{place_name}/model_score_{place_name}/\".format(place_name=place_name)#作成したデータの書き込み先#使用するデータの読み込み\n",
    "    if os.path.exists(dir_path)==False:\n",
    "        os.makedirs(dir_path)\n",
    "    else:\n",
    "        pass\n",
    "    "
   ]
  },
  {
   "cell_type": "code",
   "execution_count": 3,
   "id": "british-dollar",
   "metadata": {},
   "outputs": [
    {
     "name": "stderr",
     "output_type": "stream",
     "text": [
      "\r",
      "  0%|                                                                                           | 0/28 [00:00<?, ?it/s]"
     ]
    },
    {
     "name": "stdout",
     "output_type": "stream",
     "text": [
      "kiryu\n"
     ]
    },
    {
     "name": "stderr",
     "output_type": "stream",
     "text": [
      "100%|███████████████████████████████████████████████████████████████████████████████| 28/28 [1:47:53<00:00, 231.19s/it]\n",
      "  0%|                                                                                           | 0/28 [00:00<?, ?it/s]"
     ]
    },
    {
     "name": "stdout",
     "output_type": "stream",
     "text": [
      "toda\n"
     ]
    },
    {
     "name": "stderr",
     "output_type": "stream",
     "text": [
      "100%|███████████████████████████████████████████████████████████████████████████████| 28/28 [1:47:00<00:00, 229.29s/it]\n",
      "  0%|                                                                                           | 0/28 [00:00<?, ?it/s]"
     ]
    },
    {
     "name": "stdout",
     "output_type": "stream",
     "text": [
      "edogawa\n"
     ]
    },
    {
     "name": "stderr",
     "output_type": "stream",
     "text": [
      "100%|███████████████████████████████████████████████████████████████████████████████| 28/28 [1:43:00<00:00, 220.72s/it]\n",
      "  0%|                                                                                           | 0/28 [00:00<?, ?it/s]"
     ]
    },
    {
     "name": "stdout",
     "output_type": "stream",
     "text": [
      "heiwazima\n"
     ]
    },
    {
     "name": "stderr",
     "output_type": "stream",
     "text": [
      "100%|███████████████████████████████████████████████████████████████████████████████| 28/28 [1:46:07<00:00, 227.40s/it]\n",
      "  0%|                                                                                           | 0/28 [00:00<?, ?it/s]"
     ]
    },
    {
     "name": "stdout",
     "output_type": "stream",
     "text": [
      "tamagawa\n"
     ]
    },
    {
     "name": "stderr",
     "output_type": "stream",
     "text": [
      "100%|███████████████████████████████████████████████████████████████████████████████| 28/28 [1:46:49<00:00, 228.91s/it]\n",
      "  0%|                                                                                           | 0/28 [00:00<?, ?it/s]"
     ]
    },
    {
     "name": "stdout",
     "output_type": "stream",
     "text": [
      "hamanako\n"
     ]
    },
    {
     "name": "stderr",
     "output_type": "stream",
     "text": [
      "100%|███████████████████████████████████████████████████████████████████████████████| 28/28 [1:49:36<00:00, 234.89s/it]\n",
      "  0%|                                                                                           | 0/28 [00:00<?, ?it/s]"
     ]
    },
    {
     "name": "stdout",
     "output_type": "stream",
     "text": [
      "gamagori\n"
     ]
    },
    {
     "name": "stderr",
     "output_type": "stream",
     "text": [
      "100%|███████████████████████████████████████████████████████████████████████████████| 28/28 [1:48:05<00:00, 231.61s/it]\n",
      "  0%|                                                                                           | 0/28 [00:00<?, ?it/s]"
     ]
    },
    {
     "name": "stdout",
     "output_type": "stream",
     "text": [
      "tokoname\n"
     ]
    },
    {
     "name": "stderr",
     "output_type": "stream",
     "text": [
      "C:\\Users\\takuma\\nabepy\\boatracer_BOT_making\\boatrace_bot_factry\\modeling\\module\\data_making.py:915: RuntimeWarning: invalid value encountered in double_scalars\n",
      "  target_y_test=result_test_df['result_com']\n",
      "C:\\Users\\takuma\\nabepy\\boatracer_BOT_making\\boatrace_bot_factry\\modeling\\module\\data_making.py:916: RuntimeWarning: invalid value encountered in double_scalars\n",
      "  \n",
      "C:\\Users\\takuma\\nabepy\\boatracer_BOT_making\\boatrace_bot_factry\\modeling\\module\\data_making.py:915: RuntimeWarning: invalid value encountered in double_scalars\n",
      "  target_y_test=result_test_df['result_com']\n",
      "C:\\Users\\takuma\\nabepy\\boatracer_BOT_making\\boatrace_bot_factry\\modeling\\module\\data_making.py:916: RuntimeWarning: invalid value encountered in double_scalars\n",
      "  \n",
      "C:\\Users\\takuma\\nabepy\\boatracer_BOT_making\\boatrace_bot_factry\\modeling\\module\\data_making.py:915: RuntimeWarning: invalid value encountered in double_scalars\n",
      "  target_y_test=result_test_df['result_com']\n",
      "C:\\Users\\takuma\\nabepy\\boatracer_BOT_making\\boatrace_bot_factry\\modeling\\module\\data_making.py:916: RuntimeWarning: invalid value encountered in double_scalars\n",
      "  \n",
      "C:\\Users\\takuma\\nabepy\\boatracer_BOT_making\\boatrace_bot_factry\\modeling\\module\\data_making.py:915: RuntimeWarning: invalid value encountered in double_scalars\n",
      "  target_y_test=result_test_df['result_com']\n",
      "C:\\Users\\takuma\\nabepy\\boatracer_BOT_making\\boatrace_bot_factry\\modeling\\module\\data_making.py:916: RuntimeWarning: invalid value encountered in double_scalars\n",
      "  \n",
      "100%|███████████████████████████████████████████████████████████████████████████████| 28/28 [1:50:14<00:00, 236.23s/it]\n",
      "  0%|                                                                                           | 0/28 [00:00<?, ?it/s]"
     ]
    },
    {
     "name": "stdout",
     "output_type": "stream",
     "text": [
      "tu\n"
     ]
    },
    {
     "name": "stderr",
     "output_type": "stream",
     "text": [
      "100%|███████████████████████████████████████████████████████████████████████████████| 28/28 [1:48:07<00:00, 231.69s/it]\n",
      "  0%|                                                                                           | 0/28 [00:00<?, ?it/s]"
     ]
    },
    {
     "name": "stdout",
     "output_type": "stream",
     "text": [
      "mikuni\n"
     ]
    },
    {
     "name": "stderr",
     "output_type": "stream",
     "text": [
      "100%|███████████████████████████████████████████████████████████████████████████████| 28/28 [1:48:57<00:00, 233.48s/it]\n",
      "  0%|                                                                                           | 0/28 [00:00<?, ?it/s]"
     ]
    },
    {
     "name": "stdout",
     "output_type": "stream",
     "text": [
      "biwako\n"
     ]
    },
    {
     "name": "stderr",
     "output_type": "stream",
     "text": [
      "100%|███████████████████████████████████████████████████████████████████████████████| 28/28 [1:47:21<00:00, 230.06s/it]\n",
      "  0%|                                                                                           | 0/28 [00:00<?, ?it/s]"
     ]
    },
    {
     "name": "stdout",
     "output_type": "stream",
     "text": [
      "suminoe\n"
     ]
    },
    {
     "name": "stderr",
     "output_type": "stream",
     "text": [
      "100%|███████████████████████████████████████████████████████████████████████████████| 28/28 [1:46:58<00:00, 229.24s/it]\n",
      "  0%|                                                                                           | 0/28 [00:00<?, ?it/s]"
     ]
    },
    {
     "name": "stdout",
     "output_type": "stream",
     "text": [
      "amagasaki\n"
     ]
    },
    {
     "name": "stderr",
     "output_type": "stream",
     "text": [
      "100%|███████████████████████████████████████████████████████████████████████████████| 28/28 [1:46:50<00:00, 228.93s/it]\n",
      "  0%|                                                                                           | 0/28 [00:00<?, ?it/s]"
     ]
    },
    {
     "name": "stdout",
     "output_type": "stream",
     "text": [
      "naruto\n"
     ]
    },
    {
     "name": "stderr",
     "output_type": "stream",
     "text": [
      "100%|███████████████████████████████████████████████████████████████████████████████| 28/28 [1:46:42<00:00, 228.68s/it]\n",
      "  0%|                                                                                           | 0/28 [00:00<?, ?it/s]"
     ]
    },
    {
     "name": "stdout",
     "output_type": "stream",
     "text": [
      "marugame\n"
     ]
    },
    {
     "name": "stderr",
     "output_type": "stream",
     "text": [
      " 14%|███████████▍                                                                    | 4/28 [15:59<1:35:16, 238.18s/it]C:\\Users\\takuma\\nabepy\\boatracer_BOT_making\\boatrace_bot_factry\\modeling\\module\\data_making.py:915: RuntimeWarning: invalid value encountered in double_scalars\n",
      "  target_y_test=result_test_df['result_com']\n",
      "C:\\Users\\takuma\\nabepy\\boatracer_BOT_making\\boatrace_bot_factry\\modeling\\module\\data_making.py:916: RuntimeWarning: invalid value encountered in double_scalars\n",
      "  \n",
      "C:\\Users\\takuma\\nabepy\\boatracer_BOT_making\\boatrace_bot_factry\\modeling\\module\\data_making.py:915: RuntimeWarning: invalid value encountered in double_scalars\n",
      "  target_y_test=result_test_df['result_com']\n",
      "C:\\Users\\takuma\\nabepy\\boatracer_BOT_making\\boatrace_bot_factry\\modeling\\module\\data_making.py:916: RuntimeWarning: invalid value encountered in double_scalars\n",
      "  \n",
      "C:\\Users\\takuma\\nabepy\\boatracer_BOT_making\\boatrace_bot_factry\\modeling\\module\\data_making.py:915: RuntimeWarning: invalid value encountered in double_scalars\n",
      "  target_y_test=result_test_df['result_com']\n",
      "C:\\Users\\takuma\\nabepy\\boatracer_BOT_making\\boatrace_bot_factry\\modeling\\module\\data_making.py:916: RuntimeWarning: invalid value encountered in double_scalars\n",
      "  \n",
      "C:\\Users\\takuma\\nabepy\\boatracer_BOT_making\\boatrace_bot_factry\\modeling\\module\\data_making.py:915: RuntimeWarning: invalid value encountered in double_scalars\n",
      "  target_y_test=result_test_df['result_com']\n",
      "C:\\Users\\takuma\\nabepy\\boatracer_BOT_making\\boatrace_bot_factry\\modeling\\module\\data_making.py:916: RuntimeWarning: invalid value encountered in double_scalars\n",
      "  \n",
      "C:\\Users\\takuma\\nabepy\\boatracer_BOT_making\\boatrace_bot_factry\\modeling\\module\\data_making.py:915: RuntimeWarning: invalid value encountered in double_scalars\n",
      "  target_y_test=result_test_df['result_com']\n",
      "C:\\Users\\takuma\\nabepy\\boatracer_BOT_making\\boatrace_bot_factry\\modeling\\module\\data_making.py:916: RuntimeWarning: invalid value encountered in double_scalars\n",
      "  \n",
      "C:\\Users\\takuma\\nabepy\\boatracer_BOT_making\\boatrace_bot_factry\\modeling\\module\\data_making.py:915: RuntimeWarning: invalid value encountered in double_scalars\n",
      "  target_y_test=result_test_df['result_com']\n",
      "C:\\Users\\takuma\\nabepy\\boatracer_BOT_making\\boatrace_bot_factry\\modeling\\module\\data_making.py:916: RuntimeWarning: invalid value encountered in double_scalars\n",
      "  \n",
      "C:\\Users\\takuma\\nabepy\\boatracer_BOT_making\\boatrace_bot_factry\\modeling\\module\\data_making.py:915: RuntimeWarning: invalid value encountered in double_scalars\n",
      "  target_y_test=result_test_df['result_com']\n",
      "C:\\Users\\takuma\\nabepy\\boatracer_BOT_making\\boatrace_bot_factry\\modeling\\module\\data_making.py:916: RuntimeWarning: invalid value encountered in double_scalars\n",
      "  \n",
      "C:\\Users\\takuma\\nabepy\\boatracer_BOT_making\\boatrace_bot_factry\\modeling\\module\\data_making.py:915: RuntimeWarning: invalid value encountered in double_scalars\n",
      "  target_y_test=result_test_df['result_com']\n",
      "C:\\Users\\takuma\\nabepy\\boatracer_BOT_making\\boatrace_bot_factry\\modeling\\module\\data_making.py:916: RuntimeWarning: invalid value encountered in double_scalars\n",
      "  \n",
      "C:\\Users\\takuma\\nabepy\\boatracer_BOT_making\\boatrace_bot_factry\\modeling\\module\\data_making.py:915: RuntimeWarning: invalid value encountered in double_scalars\n",
      "  target_y_test=result_test_df['result_com']\n",
      "C:\\Users\\takuma\\nabepy\\boatracer_BOT_making\\boatrace_bot_factry\\modeling\\module\\data_making.py:916: RuntimeWarning: invalid value encountered in double_scalars\n",
      "  \n",
      "C:\\Users\\takuma\\nabepy\\boatracer_BOT_making\\boatrace_bot_factry\\modeling\\module\\data_making.py:915: RuntimeWarning: invalid value encountered in double_scalars\n",
      "  target_y_test=result_test_df['result_com']\n",
      "C:\\Users\\takuma\\nabepy\\boatracer_BOT_making\\boatrace_bot_factry\\modeling\\module\\data_making.py:916: RuntimeWarning: invalid value encountered in double_scalars\n",
      "  \n",
      "C:\\Users\\takuma\\nabepy\\boatracer_BOT_making\\boatrace_bot_factry\\modeling\\module\\data_making.py:915: RuntimeWarning: invalid value encountered in double_scalars\n",
      "  target_y_test=result_test_df['result_com']\n",
      "C:\\Users\\takuma\\nabepy\\boatracer_BOT_making\\boatrace_bot_factry\\modeling\\module\\data_making.py:916: RuntimeWarning: invalid value encountered in double_scalars\n",
      "  \n",
      "C:\\Users\\takuma\\nabepy\\boatracer_BOT_making\\boatrace_bot_factry\\modeling\\module\\data_making.py:915: RuntimeWarning: invalid value encountered in double_scalars\n",
      "  target_y_test=result_test_df['result_com']\n",
      "C:\\Users\\takuma\\nabepy\\boatracer_BOT_making\\boatrace_bot_factry\\modeling\\module\\data_making.py:916: RuntimeWarning: invalid value encountered in double_scalars\n",
      "  \n",
      "C:\\Users\\takuma\\nabepy\\boatracer_BOT_making\\boatrace_bot_factry\\modeling\\module\\data_making.py:915: RuntimeWarning: invalid value encountered in double_scalars\n",
      "  target_y_test=result_test_df['result_com']\n",
      "C:\\Users\\takuma\\nabepy\\boatracer_BOT_making\\boatrace_bot_factry\\modeling\\module\\data_making.py:916: RuntimeWarning: invalid value encountered in double_scalars\n",
      "  \n",
      "C:\\Users\\takuma\\nabepy\\boatracer_BOT_making\\boatrace_bot_factry\\modeling\\module\\data_making.py:915: RuntimeWarning: invalid value encountered in double_scalars\n",
      "  target_y_test=result_test_df['result_com']\n",
      "C:\\Users\\takuma\\nabepy\\boatracer_BOT_making\\boatrace_bot_factry\\modeling\\module\\data_making.py:916: RuntimeWarning: invalid value encountered in double_scalars\n",
      "  \n",
      "100%|███████████████████████████████████████████████████████████████████████████████| 28/28 [1:48:40<00:00, 232.87s/it]\n",
      "  0%|                                                                                           | 0/28 [00:00<?, ?it/s]"
     ]
    },
    {
     "name": "stdout",
     "output_type": "stream",
     "text": [
      "kozima\n"
     ]
    },
    {
     "name": "stderr",
     "output_type": "stream",
     "text": [
      "  4%|██▊                                                                             | 1/28 [04:09<1:52:27, 249.92s/it]C:\\Users\\takuma\\nabepy\\boatracer_BOT_making\\boatrace_bot_factry\\modeling\\module\\data_making.py:915: RuntimeWarning: invalid value encountered in double_scalars\n",
      "  target_y_test=result_test_df['result_com']\n",
      "C:\\Users\\takuma\\nabepy\\boatracer_BOT_making\\boatrace_bot_factry\\modeling\\module\\data_making.py:916: RuntimeWarning: invalid value encountered in double_scalars\n",
      "  \n",
      "C:\\Users\\takuma\\nabepy\\boatracer_BOT_making\\boatrace_bot_factry\\modeling\\module\\data_making.py:915: RuntimeWarning: invalid value encountered in double_scalars\n",
      "  target_y_test=result_test_df['result_com']\n",
      "C:\\Users\\takuma\\nabepy\\boatracer_BOT_making\\boatrace_bot_factry\\modeling\\module\\data_making.py:916: RuntimeWarning: invalid value encountered in double_scalars\n",
      "  \n",
      "C:\\Users\\takuma\\nabepy\\boatracer_BOT_making\\boatrace_bot_factry\\modeling\\module\\data_making.py:915: RuntimeWarning: invalid value encountered in double_scalars\n",
      "  target_y_test=result_test_df['result_com']\n",
      "C:\\Users\\takuma\\nabepy\\boatracer_BOT_making\\boatrace_bot_factry\\modeling\\module\\data_making.py:916: RuntimeWarning: invalid value encountered in double_scalars\n",
      "  \n",
      "C:\\Users\\takuma\\nabepy\\boatracer_BOT_making\\boatrace_bot_factry\\modeling\\module\\data_making.py:915: RuntimeWarning: invalid value encountered in double_scalars\n",
      "  target_y_test=result_test_df['result_com']\n",
      "C:\\Users\\takuma\\nabepy\\boatracer_BOT_making\\boatrace_bot_factry\\modeling\\module\\data_making.py:916: RuntimeWarning: invalid value encountered in double_scalars\n",
      "  \n",
      "C:\\Users\\takuma\\nabepy\\boatracer_BOT_making\\boatrace_bot_factry\\modeling\\module\\data_making.py:915: RuntimeWarning: invalid value encountered in double_scalars\n",
      "  target_y_test=result_test_df['result_com']\n",
      "C:\\Users\\takuma\\nabepy\\boatracer_BOT_making\\boatrace_bot_factry\\modeling\\module\\data_making.py:916: RuntimeWarning: invalid value encountered in double_scalars\n",
      "  \n",
      "C:\\Users\\takuma\\nabepy\\boatracer_BOT_making\\boatrace_bot_factry\\modeling\\module\\data_making.py:915: RuntimeWarning: invalid value encountered in double_scalars\n",
      "  target_y_test=result_test_df['result_com']\n",
      "C:\\Users\\takuma\\nabepy\\boatracer_BOT_making\\boatrace_bot_factry\\modeling\\module\\data_making.py:916: RuntimeWarning: invalid value encountered in double_scalars\n",
      "  \n",
      "C:\\Users\\takuma\\nabepy\\boatracer_BOT_making\\boatrace_bot_factry\\modeling\\module\\data_making.py:915: RuntimeWarning: invalid value encountered in double_scalars\n",
      "  target_y_test=result_test_df['result_com']\n",
      "C:\\Users\\takuma\\nabepy\\boatracer_BOT_making\\boatrace_bot_factry\\modeling\\module\\data_making.py:916: RuntimeWarning: invalid value encountered in double_scalars\n",
      "  \n",
      "C:\\Users\\takuma\\nabepy\\boatracer_BOT_making\\boatrace_bot_factry\\modeling\\module\\data_making.py:915: RuntimeWarning: invalid value encountered in double_scalars\n",
      "  target_y_test=result_test_df['result_com']\n",
      "C:\\Users\\takuma\\nabepy\\boatracer_BOT_making\\boatrace_bot_factry\\modeling\\module\\data_making.py:916: RuntimeWarning: invalid value encountered in double_scalars\n",
      "  \n",
      "100%|███████████████████████████████████████████████████████████████████████████████| 28/28 [1:49:59<00:00, 235.70s/it]\n",
      "  0%|                                                                                           | 0/28 [00:00<?, ?it/s]"
     ]
    },
    {
     "name": "stdout",
     "output_type": "stream",
     "text": [
      "miyazima\n"
     ]
    },
    {
     "name": "stderr",
     "output_type": "stream",
     "text": [
      "100%|███████████████████████████████████████████████████████████████████████████████| 28/28 [1:49:20<00:00, 234.31s/it]\n",
      "  0%|                                                                                           | 0/28 [00:00<?, ?it/s]"
     ]
    },
    {
     "name": "stdout",
     "output_type": "stream",
     "text": [
      "tokuyama\n"
     ]
    },
    {
     "name": "stderr",
     "output_type": "stream",
     "text": [
      " 14%|███████████▍                                                                    | 4/28 [16:21<1:37:29, 243.72s/it]C:\\Users\\takuma\\nabepy\\boatracer_BOT_making\\boatrace_bot_factry\\modeling\\module\\data_making.py:915: RuntimeWarning: invalid value encountered in double_scalars\n",
      "  target_y_test=result_test_df['result_com']\n",
      "C:\\Users\\takuma\\nabepy\\boatracer_BOT_making\\boatrace_bot_factry\\modeling\\module\\data_making.py:916: RuntimeWarning: invalid value encountered in double_scalars\n",
      "  \n",
      "C:\\Users\\takuma\\nabepy\\boatracer_BOT_making\\boatrace_bot_factry\\modeling\\module\\data_making.py:915: RuntimeWarning: invalid value encountered in double_scalars\n",
      "  target_y_test=result_test_df['result_com']\n",
      "C:\\Users\\takuma\\nabepy\\boatracer_BOT_making\\boatrace_bot_factry\\modeling\\module\\data_making.py:916: RuntimeWarning: invalid value encountered in double_scalars\n",
      "  \n",
      "C:\\Users\\takuma\\nabepy\\boatracer_BOT_making\\boatrace_bot_factry\\modeling\\module\\data_making.py:915: RuntimeWarning: invalid value encountered in double_scalars\n",
      "  target_y_test=result_test_df['result_com']\n",
      "C:\\Users\\takuma\\nabepy\\boatracer_BOT_making\\boatrace_bot_factry\\modeling\\module\\data_making.py:916: RuntimeWarning: invalid value encountered in double_scalars\n",
      "  \n",
      "C:\\Users\\takuma\\nabepy\\boatracer_BOT_making\\boatrace_bot_factry\\modeling\\module\\data_making.py:915: RuntimeWarning: invalid value encountered in double_scalars\n",
      "  target_y_test=result_test_df['result_com']\n",
      "C:\\Users\\takuma\\nabepy\\boatracer_BOT_making\\boatrace_bot_factry\\modeling\\module\\data_making.py:916: RuntimeWarning: invalid value encountered in double_scalars\n",
      "  \n",
      "C:\\Users\\takuma\\nabepy\\boatracer_BOT_making\\boatrace_bot_factry\\modeling\\module\\data_making.py:915: RuntimeWarning: invalid value encountered in double_scalars\n",
      "  target_y_test=result_test_df['result_com']\n",
      "C:\\Users\\takuma\\nabepy\\boatracer_BOT_making\\boatrace_bot_factry\\modeling\\module\\data_making.py:916: RuntimeWarning: invalid value encountered in double_scalars\n",
      "  \n",
      "C:\\Users\\takuma\\nabepy\\boatracer_BOT_making\\boatrace_bot_factry\\modeling\\module\\data_making.py:915: RuntimeWarning: invalid value encountered in double_scalars\n",
      "  target_y_test=result_test_df['result_com']\n",
      "C:\\Users\\takuma\\nabepy\\boatracer_BOT_making\\boatrace_bot_factry\\modeling\\module\\data_making.py:916: RuntimeWarning: invalid value encountered in double_scalars\n",
      "  \n",
      "C:\\Users\\takuma\\nabepy\\boatracer_BOT_making\\boatrace_bot_factry\\modeling\\module\\data_making.py:915: RuntimeWarning: invalid value encountered in double_scalars\n",
      "  target_y_test=result_test_df['result_com']\n",
      "C:\\Users\\takuma\\nabepy\\boatracer_BOT_making\\boatrace_bot_factry\\modeling\\module\\data_making.py:916: RuntimeWarning: invalid value encountered in double_scalars\n",
      "  \n",
      "100%|███████████████████████████████████████████████████████████████████████████████| 28/28 [1:50:50<00:00, 237.51s/it]\n",
      "  0%|                                                                                           | 0/28 [00:00<?, ?it/s]"
     ]
    },
    {
     "name": "stdout",
     "output_type": "stream",
     "text": [
      "simonoseki\n"
     ]
    },
    {
     "name": "stderr",
     "output_type": "stream",
     "text": [
      "100%|███████████████████████████████████████████████████████████████████████████████| 28/28 [1:45:59<00:00, 227.14s/it]\n",
      "  0%|                                                                                           | 0/28 [00:00<?, ?it/s]"
     ]
    },
    {
     "name": "stdout",
     "output_type": "stream",
     "text": [
      "wakamatu\n"
     ]
    },
    {
     "name": "stderr",
     "output_type": "stream",
     "text": [
      " 14%|███████████▍                                                                    | 4/28 [15:38<1:33:09, 232.88s/it]C:\\Users\\takuma\\nabepy\\boatracer_BOT_making\\boatrace_bot_factry\\modeling\\module\\data_making.py:915: RuntimeWarning: invalid value encountered in double_scalars\n",
      "  target_y_test=result_test_df['result_com']\n",
      "C:\\Users\\takuma\\nabepy\\boatracer_BOT_making\\boatrace_bot_factry\\modeling\\module\\data_making.py:916: RuntimeWarning: invalid value encountered in double_scalars\n",
      "  \n",
      "C:\\Users\\takuma\\nabepy\\boatracer_BOT_making\\boatrace_bot_factry\\modeling\\module\\data_making.py:915: RuntimeWarning: invalid value encountered in double_scalars\n",
      "  target_y_test=result_test_df['result_com']\n",
      "C:\\Users\\takuma\\nabepy\\boatracer_BOT_making\\boatrace_bot_factry\\modeling\\module\\data_making.py:916: RuntimeWarning: invalid value encountered in double_scalars\n",
      "  \n",
      "C:\\Users\\takuma\\nabepy\\boatracer_BOT_making\\boatrace_bot_factry\\modeling\\module\\data_making.py:915: RuntimeWarning: invalid value encountered in double_scalars\n",
      "  target_y_test=result_test_df['result_com']\n",
      "C:\\Users\\takuma\\nabepy\\boatracer_BOT_making\\boatrace_bot_factry\\modeling\\module\\data_making.py:916: RuntimeWarning: invalid value encountered in double_scalars\n",
      "  \n",
      "C:\\Users\\takuma\\nabepy\\boatracer_BOT_making\\boatrace_bot_factry\\modeling\\module\\data_making.py:915: RuntimeWarning: invalid value encountered in double_scalars\n",
      "  target_y_test=result_test_df['result_com']\n",
      "C:\\Users\\takuma\\nabepy\\boatracer_BOT_making\\boatrace_bot_factry\\modeling\\module\\data_making.py:916: RuntimeWarning: invalid value encountered in double_scalars\n",
      "  \n",
      "100%|███████████████████████████████████████████████████████████████████████████████| 28/28 [1:46:15<00:00, 227.68s/it]\n",
      "  0%|                                                                                           | 0/28 [00:00<?, ?it/s]"
     ]
    },
    {
     "name": "stdout",
     "output_type": "stream",
     "text": [
      "asiya\n"
     ]
    },
    {
     "name": "stderr",
     "output_type": "stream",
     "text": [
      "100%|███████████████████████████████████████████████████████████████████████████████| 28/28 [1:49:11<00:00, 233.97s/it]\n",
      "  0%|                                                                                           | 0/28 [00:00<?, ?it/s]"
     ]
    },
    {
     "name": "stdout",
     "output_type": "stream",
     "text": [
      "fukuoka\n"
     ]
    },
    {
     "name": "stderr",
     "output_type": "stream",
     "text": [
      "100%|███████████████████████████████████████████████████████████████████████████████| 28/28 [1:46:40<00:00, 228.58s/it]\n",
      "  0%|                                                                                           | 0/28 [00:00<?, ?it/s]"
     ]
    },
    {
     "name": "stdout",
     "output_type": "stream",
     "text": [
      "karatu\n"
     ]
    },
    {
     "name": "stderr",
     "output_type": "stream",
     "text": [
      "100%|███████████████████████████████████████████████████████████████████████████████| 28/28 [1:47:23<00:00, 230.14s/it]\n",
      "  0%|                                                                                           | 0/28 [00:00<?, ?it/s]"
     ]
    },
    {
     "name": "stdout",
     "output_type": "stream",
     "text": [
      "omura\n"
     ]
    },
    {
     "name": "stderr",
     "output_type": "stream",
     "text": [
      "C:\\Users\\takuma\\nabepy\\boatracer_BOT_making\\boatrace_bot_factry\\modeling\\module\\data_making.py:915: RuntimeWarning: invalid value encountered in double_scalars\n",
      "  target_y_test=result_test_df['result_com']\n",
      "C:\\Users\\takuma\\nabepy\\boatracer_BOT_making\\boatrace_bot_factry\\modeling\\module\\data_making.py:916: RuntimeWarning: invalid value encountered in double_scalars\n",
      "  \n",
      "C:\\Users\\takuma\\nabepy\\boatracer_BOT_making\\boatrace_bot_factry\\modeling\\module\\data_making.py:915: RuntimeWarning: invalid value encountered in double_scalars\n",
      "  target_y_test=result_test_df['result_com']\n",
      "C:\\Users\\takuma\\nabepy\\boatracer_BOT_making\\boatrace_bot_factry\\modeling\\module\\data_making.py:916: RuntimeWarning: invalid value encountered in double_scalars\n",
      "  \n",
      "C:\\Users\\takuma\\nabepy\\boatracer_BOT_making\\boatrace_bot_factry\\modeling\\module\\data_making.py:915: RuntimeWarning: invalid value encountered in double_scalars\n",
      "  target_y_test=result_test_df['result_com']\n",
      "C:\\Users\\takuma\\nabepy\\boatracer_BOT_making\\boatrace_bot_factry\\modeling\\module\\data_making.py:916: RuntimeWarning: invalid value encountered in double_scalars\n",
      "  \n",
      "C:\\Users\\takuma\\nabepy\\boatracer_BOT_making\\boatrace_bot_factry\\modeling\\module\\data_making.py:915: RuntimeWarning: invalid value encountered in double_scalars\n",
      "  target_y_test=result_test_df['result_com']\n",
      "C:\\Users\\takuma\\nabepy\\boatracer_BOT_making\\boatrace_bot_factry\\modeling\\module\\data_making.py:916: RuntimeWarning: invalid value encountered in double_scalars\n",
      "  \n",
      "C:\\Users\\takuma\\nabepy\\boatracer_BOT_making\\boatrace_bot_factry\\modeling\\module\\data_making.py:915: RuntimeWarning: invalid value encountered in double_scalars\n",
      "  target_y_test=result_test_df['result_com']\n",
      "C:\\Users\\takuma\\nabepy\\boatracer_BOT_making\\boatrace_bot_factry\\modeling\\module\\data_making.py:916: RuntimeWarning: invalid value encountered in double_scalars\n",
      "  \n",
      "C:\\Users\\takuma\\nabepy\\boatracer_BOT_making\\boatrace_bot_factry\\modeling\\module\\data_making.py:915: RuntimeWarning: invalid value encountered in double_scalars\n",
      "  target_y_test=result_test_df['result_com']\n",
      "C:\\Users\\takuma\\nabepy\\boatracer_BOT_making\\boatrace_bot_factry\\modeling\\module\\data_making.py:916: RuntimeWarning: invalid value encountered in double_scalars\n",
      "  \n",
      "C:\\Users\\takuma\\nabepy\\boatracer_BOT_making\\boatrace_bot_factry\\modeling\\module\\data_making.py:915: RuntimeWarning: invalid value encountered in double_scalars\n",
      "  target_y_test=result_test_df['result_com']\n",
      "C:\\Users\\takuma\\nabepy\\boatracer_BOT_making\\boatrace_bot_factry\\modeling\\module\\data_making.py:916: RuntimeWarning: invalid value encountered in double_scalars\n",
      "  \n",
      "  4%|██▊                                                                             | 1/28 [04:12<1:53:29, 252.22s/it]C:\\Users\\takuma\\nabepy\\boatracer_BOT_making\\boatrace_bot_factry\\modeling\\module\\data_making.py:915: RuntimeWarning: invalid value encountered in double_scalars\n",
      "  target_y_test=result_test_df['result_com']\n",
      "C:\\Users\\takuma\\nabepy\\boatracer_BOT_making\\boatrace_bot_factry\\modeling\\module\\data_making.py:916: RuntimeWarning: invalid value encountered in double_scalars\n",
      "  \n",
      "C:\\Users\\takuma\\nabepy\\boatracer_BOT_making\\boatrace_bot_factry\\modeling\\module\\data_making.py:915: RuntimeWarning: invalid value encountered in double_scalars\n",
      "  target_y_test=result_test_df['result_com']\n",
      "C:\\Users\\takuma\\nabepy\\boatracer_BOT_making\\boatrace_bot_factry\\modeling\\module\\data_making.py:916: RuntimeWarning: invalid value encountered in double_scalars\n",
      "  \n",
      "C:\\Users\\takuma\\nabepy\\boatracer_BOT_making\\boatrace_bot_factry\\modeling\\module\\data_making.py:915: RuntimeWarning: invalid value encountered in double_scalars\n",
      "  target_y_test=result_test_df['result_com']\n",
      "C:\\Users\\takuma\\nabepy\\boatracer_BOT_making\\boatrace_bot_factry\\modeling\\module\\data_making.py:916: RuntimeWarning: invalid value encountered in double_scalars\n",
      "  \n",
      "C:\\Users\\takuma\\nabepy\\boatracer_BOT_making\\boatrace_bot_factry\\modeling\\module\\data_making.py:915: RuntimeWarning: invalid value encountered in double_scalars\n",
      "  target_y_test=result_test_df['result_com']\n",
      "C:\\Users\\takuma\\nabepy\\boatracer_BOT_making\\boatrace_bot_factry\\modeling\\module\\data_making.py:916: RuntimeWarning: invalid value encountered in double_scalars\n",
      "  \n",
      "C:\\Users\\takuma\\nabepy\\boatracer_BOT_making\\boatrace_bot_factry\\modeling\\module\\data_making.py:915: RuntimeWarning: invalid value encountered in double_scalars\n",
      "  target_y_test=result_test_df['result_com']\n",
      "C:\\Users\\takuma\\nabepy\\boatracer_BOT_making\\boatrace_bot_factry\\modeling\\module\\data_making.py:916: RuntimeWarning: invalid value encountered in double_scalars\n",
      "  \n",
      "C:\\Users\\takuma\\nabepy\\boatracer_BOT_making\\boatrace_bot_factry\\modeling\\module\\data_making.py:915: RuntimeWarning: invalid value encountered in double_scalars\n",
      "  target_y_test=result_test_df['result_com']\n",
      "C:\\Users\\takuma\\nabepy\\boatracer_BOT_making\\boatrace_bot_factry\\modeling\\module\\data_making.py:916: RuntimeWarning: invalid value encountered in double_scalars\n",
      "  \n",
      "100%|███████████████████████████████████████████████████████████████████████████████| 28/28 [1:48:52<00:00, 233.32s/it]\n"
     ]
    }
   ],
   "source": [
    "\n",
    "#データ格納用のディレクトリ作り\n",
    "version='V2_2'#バージョン\n",
    "\n",
    "\n",
    "place_master=master.get_place_master()\n",
    "for place in place_master.items():\n",
    "    place_name=place[1]\n",
    "    ################################################========================================================================================================================\n",
    "    ################################################========================================================================================================================\n",
    "    ################################################========================================================================================================================\n",
    "    ################################################========================================================================================================================\n",
    "    #各会場の学習データの読み込みと加工\n",
    "    result_filepath=\"../..//bot_database/{place_name}/{place_name}_train/train_{place_name}.csv\".format(place_name=place_name)#作成したデータの書き込み先#使用するデータの読み込み\n",
    "    result_base_df=pd.read_csv(result_filepath)\n",
    "    result_base_df=result_base_df.drop([\"Unnamed: 0\"],axis=1)\n",
    "    making.version_2_2(version,place_name,result_base_df)"
   ]
  },
  {
   "cell_type": "code",
   "execution_count": null,
   "id": "changing-basement",
   "metadata": {},
   "outputs": [],
   "source": []
  },
  {
   "cell_type": "code",
   "execution_count": null,
   "id": "actual-party",
   "metadata": {},
   "outputs": [],
   "source": []
  }
 ],
 "metadata": {
  "kernelspec": {
   "display_name": "Python 3",
   "language": "python",
   "name": "python3"
  },
  "language_info": {
   "codemirror_mode": {
    "name": "ipython",
    "version": 3
   },
   "file_extension": ".py",
   "mimetype": "text/x-python",
   "name": "python",
   "nbconvert_exporter": "python",
   "pygments_lexer": "ipython3",
   "version": "3.8.7"
  },
  "varInspector": {
   "cols": {
    "lenName": 16,
    "lenType": 16,
    "lenVar": 40
   },
   "kernels_config": {
    "python": {
     "delete_cmd_postfix": "",
     "delete_cmd_prefix": "del ",
     "library": "var_list.py",
     "varRefreshCmd": "print(var_dic_list())"
    },
    "r": {
     "delete_cmd_postfix": ") ",
     "delete_cmd_prefix": "rm(",
     "library": "var_list.r",
     "varRefreshCmd": "cat(var_dic_list()) "
    }
   },
   "types_to_exclude": [
    "module",
    "function",
    "builtin_function_or_method",
    "instance",
    "_Feature"
   ],
   "window_display": false
  }
 },
 "nbformat": 4,
 "nbformat_minor": 5
}
