{
 "cells": [
  {
   "cell_type": "code",
   "execution_count": 1,
   "id": "still-average",
   "metadata": {},
   "outputs": [],
   "source": [
    "import pandas as pd\n",
    "import numpy as np\n",
    "from sklearn.metrics import accuracy_score\n",
    "from sklearn.model_selection import cross_val_score\n",
    "from matplotlib import pyplot as plt\n",
    "import seaborn\n",
    "from pandas import DataFrame\n",
    "from tqdm import tqdm\n",
    "from imblearn.under_sampling import RandomUnderSampler #アンダーサンプリング用\n",
    "from sklearn.model_selection import train_test_split\n",
    "import pickle\n",
    "# 機械学習用\n",
    "from sklearn.cluster import KMeans #クラスタリング用\n",
    "from sklearn.ensemble import RandomForestClassifier#ランダムフォレスト\n",
    "from copy import deepcopy as cp\n",
    "from sklearn.linear_model import LogisticRegression\n",
    "from sklearn.ensemble import AdaBoostClassifier\n",
    "import lightgbm as lgb\n",
    "from sklearn.linear_model import LogisticRegression as LR\n",
    "import time\n",
    "import datetime\n",
    "import os #ディレクトリ作成用\n",
    "import xgboost as xgb\n",
    "import sys\n",
    "#自作のモジュールのインポート\n",
    "import module.master as master\n",
    "import module.graph as graph\n",
    "import module.trans_text_code as trans\n",
    "import module.data_making as making\n"
   ]
  },
  {
   "cell_type": "code",
   "execution_count": 2,
   "id": "arranged-constraint",
   "metadata": {},
   "outputs": [],
   "source": [
    "place_master=master.get_place_master()\n",
    "for place in place_master.items():\n",
    "    #print(place[0],place[1],'\\n')\n",
    "    place_name=place[1]\n",
    "    dir_path = \"../../bot_database/{place_name}/model_score_{place_name}/\".format(place_name=place_name)#作成したデータの書き込み先#使用するデータの読み込み\n",
    "    if os.path.exists(dir_path)==False:\n",
    "        os.makedirs(dir_path)\n",
    "    else:\n",
    "        pass\n",
    "    "
   ]
  },
  {
   "cell_type": "markdown",
   "id": "developmental-membership",
   "metadata": {},
   "source": [
    "## V1_1  クラスタリングラベルの復活"
   ]
  },
  {
   "cell_type": "code",
   "execution_count": 3,
   "id": "accepting-inspector",
   "metadata": {},
   "outputs": [
    {
     "name": "stderr",
     "output_type": "stream",
     "text": [
      "\r",
      "  0%|                                                                                           | 0/28 [00:00<?, ?it/s]"
     ]
    },
    {
     "name": "stdout",
     "output_type": "stream",
     "text": [
      "kiryu\n"
     ]
    },
    {
     "name": "stderr",
     "output_type": "stream",
     "text": [
      "100%|███████████████████████████████████████████████████████████████████████████████| 28/28 [1:25:29<00:00, 183.19s/it]\n",
      "  0%|                                                                                           | 0/28 [00:00<?, ?it/s]"
     ]
    },
    {
     "name": "stdout",
     "output_type": "stream",
     "text": [
      "toda\n"
     ]
    },
    {
     "name": "stderr",
     "output_type": "stream",
     "text": [
      "100%|██████████████████████████████████████████████████████████████████████████████████| 28/28 [34:07<00:00, 73.13s/it]\n",
      "  0%|                                                                                           | 0/28 [00:00<?, ?it/s]"
     ]
    },
    {
     "name": "stdout",
     "output_type": "stream",
     "text": [
      "edogawa\n"
     ]
    },
    {
     "name": "stderr",
     "output_type": "stream",
     "text": [
      "100%|██████████████████████████████████████████████████████████████████████████████████| 28/28 [33:23<00:00, 71.57s/it]\n",
      "  0%|                                                                                           | 0/28 [00:00<?, ?it/s]"
     ]
    },
    {
     "name": "stdout",
     "output_type": "stream",
     "text": [
      "heiwazima\n"
     ]
    },
    {
     "name": "stderr",
     "output_type": "stream",
     "text": [
      "100%|██████████████████████████████████████████████████████████████████████████████████| 28/28 [33:51<00:00, 72.56s/it]\n",
      "  0%|                                                                                           | 0/28 [00:00<?, ?it/s]"
     ]
    },
    {
     "name": "stdout",
     "output_type": "stream",
     "text": [
      "tamagawa\n"
     ]
    },
    {
     "name": "stderr",
     "output_type": "stream",
     "text": [
      "100%|██████████████████████████████████████████████████████████████████████████████████| 28/28 [34:11<00:00, 73.28s/it]\n",
      "  0%|                                                                                           | 0/28 [00:00<?, ?it/s]"
     ]
    },
    {
     "name": "stdout",
     "output_type": "stream",
     "text": [
      "hamanako\n"
     ]
    },
    {
     "name": "stderr",
     "output_type": "stream",
     "text": [
      "100%|██████████████████████████████████████████████████████████████████████████████████| 28/28 [36:18<00:00, 77.79s/it]\n",
      "  0%|                                                                                           | 0/28 [00:00<?, ?it/s]"
     ]
    },
    {
     "name": "stdout",
     "output_type": "stream",
     "text": [
      "gamagori\n"
     ]
    },
    {
     "name": "stderr",
     "output_type": "stream",
     "text": [
      "100%|██████████████████████████████████████████████████████████████████████████████████| 28/28 [35:53<00:00, 76.89s/it]\n",
      "  0%|                                                                                           | 0/28 [00:00<?, ?it/s]"
     ]
    },
    {
     "name": "stdout",
     "output_type": "stream",
     "text": [
      "tokoname\n"
     ]
    },
    {
     "name": "stderr",
     "output_type": "stream",
     "text": [
      "100%|██████████████████████████████████████████████████████████████████████████████████| 28/28 [37:26<00:00, 80.25s/it]\n",
      "  0%|                                                                                           | 0/28 [00:00<?, ?it/s]"
     ]
    },
    {
     "name": "stdout",
     "output_type": "stream",
     "text": [
      "tu\n"
     ]
    },
    {
     "name": "stderr",
     "output_type": "stream",
     "text": [
      "100%|██████████████████████████████████████████████████████████████████████████████████| 28/28 [36:39<00:00, 78.55s/it]\n",
      "  0%|                                                                                           | 0/28 [00:00<?, ?it/s]"
     ]
    },
    {
     "name": "stdout",
     "output_type": "stream",
     "text": [
      "mikuni\n"
     ]
    },
    {
     "name": "stderr",
     "output_type": "stream",
     "text": [
      "100%|██████████████████████████████████████████████████████████████████████████████████| 28/28 [36:20<00:00, 77.89s/it]\n",
      "  0%|                                                                                           | 0/28 [00:00<?, ?it/s]"
     ]
    },
    {
     "name": "stdout",
     "output_type": "stream",
     "text": [
      "biwako\n"
     ]
    },
    {
     "name": "stderr",
     "output_type": "stream",
     "text": [
      "100%|██████████████████████████████████████████████████████████████████████████████████| 28/28 [34:17<00:00, 73.47s/it]\n",
      "  0%|                                                                                           | 0/28 [00:00<?, ?it/s]"
     ]
    },
    {
     "name": "stdout",
     "output_type": "stream",
     "text": [
      "suminoe\n"
     ]
    },
    {
     "name": "stderr",
     "output_type": "stream",
     "text": [
      "100%|██████████████████████████████████████████████████████████████████████████████████| 28/28 [36:15<00:00, 77.69s/it]\n",
      "  0%|                                                                                           | 0/28 [00:00<?, ?it/s]"
     ]
    },
    {
     "name": "stdout",
     "output_type": "stream",
     "text": [
      "amagasaki\n"
     ]
    },
    {
     "name": "stderr",
     "output_type": "stream",
     "text": [
      "100%|██████████████████████████████████████████████████████████████████████████████████| 28/28 [35:50<00:00, 76.81s/it]\n",
      "  0%|                                                                                           | 0/28 [00:00<?, ?it/s]"
     ]
    },
    {
     "name": "stdout",
     "output_type": "stream",
     "text": [
      "naruto\n"
     ]
    },
    {
     "name": "stderr",
     "output_type": "stream",
     "text": [
      "100%|██████████████████████████████████████████████████████████████████████████████████| 28/28 [31:01<00:00, 66.49s/it]\n",
      "  0%|                                                                                           | 0/28 [00:00<?, ?it/s]"
     ]
    },
    {
     "name": "stdout",
     "output_type": "stream",
     "text": [
      "marugame\n"
     ]
    },
    {
     "name": "stderr",
     "output_type": "stream",
     "text": [
      "100%|██████████████████████████████████████████████████████████████████████████████████| 28/28 [36:53<00:00, 79.05s/it]\n",
      "  0%|                                                                                           | 0/28 [00:00<?, ?it/s]"
     ]
    },
    {
     "name": "stdout",
     "output_type": "stream",
     "text": [
      "kozima\n"
     ]
    },
    {
     "name": "stderr",
     "output_type": "stream",
     "text": [
      "100%|██████████████████████████████████████████████████████████████████████████████████| 28/28 [37:21<00:00, 80.05s/it]\n",
      "  0%|                                                                                           | 0/28 [00:00<?, ?it/s]"
     ]
    },
    {
     "name": "stdout",
     "output_type": "stream",
     "text": [
      "miyazima\n"
     ]
    },
    {
     "name": "stderr",
     "output_type": "stream",
     "text": [
      "100%|██████████████████████████████████████████████████████████████████████████████████| 28/28 [36:52<00:00, 79.01s/it]\n",
      "  0%|                                                                                           | 0/28 [00:00<?, ?it/s]"
     ]
    },
    {
     "name": "stdout",
     "output_type": "stream",
     "text": [
      "tokuyama\n"
     ]
    },
    {
     "name": "stderr",
     "output_type": "stream",
     "text": [
      "100%|██████████████████████████████████████████████████████████████████████████████████| 28/28 [38:43<00:00, 83.00s/it]\n",
      "  0%|                                                                                           | 0/28 [00:00<?, ?it/s]"
     ]
    },
    {
     "name": "stdout",
     "output_type": "stream",
     "text": [
      "simonoseki\n"
     ]
    },
    {
     "name": "stderr",
     "output_type": "stream",
     "text": [
      "100%|██████████████████████████████████████████████████████████████████████████████████| 28/28 [36:12<00:00, 77.59s/it]\n",
      "  0%|                                                                                           | 0/28 [00:00<?, ?it/s]"
     ]
    },
    {
     "name": "stdout",
     "output_type": "stream",
     "text": [
      "wakamatu\n"
     ]
    },
    {
     "name": "stderr",
     "output_type": "stream",
     "text": [
      "100%|██████████████████████████████████████████████████████████████████████████████████| 28/28 [36:46<00:00, 78.79s/it]\n",
      "  0%|                                                                                           | 0/28 [00:00<?, ?it/s]"
     ]
    },
    {
     "name": "stdout",
     "output_type": "stream",
     "text": [
      "asiya\n"
     ]
    },
    {
     "name": "stderr",
     "output_type": "stream",
     "text": [
      "100%|██████████████████████████████████████████████████████████████████████████████████| 28/28 [38:13<00:00, 81.93s/it]\n",
      "  0%|                                                                                           | 0/28 [00:00<?, ?it/s]"
     ]
    },
    {
     "name": "stdout",
     "output_type": "stream",
     "text": [
      "fukuoka\n"
     ]
    },
    {
     "name": "stderr",
     "output_type": "stream",
     "text": [
      "100%|██████████████████████████████████████████████████████████████████████████████████| 28/28 [34:49<00:00, 74.62s/it]\n",
      "  0%|                                                                                           | 0/28 [00:00<?, ?it/s]"
     ]
    },
    {
     "name": "stdout",
     "output_type": "stream",
     "text": [
      "karatu\n"
     ]
    },
    {
     "name": "stderr",
     "output_type": "stream",
     "text": [
      "100%|██████████████████████████████████████████████████████████████████████████████████| 28/28 [36:29<00:00, 78.20s/it]\n",
      "  0%|                                                                                           | 0/28 [00:00<?, ?it/s]"
     ]
    },
    {
     "name": "stdout",
     "output_type": "stream",
     "text": [
      "omura\n"
     ]
    },
    {
     "name": "stderr",
     "output_type": "stream",
     "text": [
      "100%|██████████████████████████████████████████████████████████████████████████████████| 28/28 [39:17<00:00, 84.20s/it]\n"
     ]
    }
   ],
   "source": [
    "#データ格納用のディレクトリ作り\n",
    "version='V1_1'#学習デー加工関数のバージョン\n",
    "\n",
    "\n",
    "place_master=master.get_place_master()\n",
    "for place in place_master.items():\n",
    "    place_name=place[1]\n",
    "    ################################################========================================================================================================================\n",
    "    ################################################========================================================================================================================\n",
    "    ################################################========================================================================================================================\n",
    "    ################################################========================================================================================================================\n",
    "    #各会場の学習データの読み込みと加工\n",
    "    result_filepath=\"../..//bot_database/{place_name}/{place_name}_train/train_{place_name}.csv\".format(place_name=place_name)#作成したデータの書き込み先#使用するデータの読み込み\n",
    "    result_base_df=pd.read_csv(result_filepath)\n",
    "    result_base_df=result_base_df.drop([\"Unnamed: 0\"],axis=1)\n",
    "    ################################################========================================================================================================================\n",
    "    ################################################========================================================================================================================\n",
    "    ################################################========================================================================================================================\n",
    "    ################################################========================================================================================================================\n",
    "    #バージョンごとに学習データの加工関数を変える。\n",
    "    result_df=making.data_making_1_1(result_base_df)\n",
    "    ################################################========================================================================================================================\n",
    "    ################################################========================================================================================================================\n",
    "    ################################################========================================================================================================================\n",
    "    ################################################========================================================================================================================\n",
    "    ################################################========================================================================================================================\n",
    "    ################################################========================================================================================================================\n",
    "    ################################################========================================================================================================================\n",
    "    ################################################========================================================================================================================\n",
    "    making.making_model_score(version,place_name,result_df)#パラメータの探索\n",
    "    ################################################========================================================================================================================\n",
    "    ################################################========================================================================================================================\n",
    "    ################################################========================================================================================================================\n",
    "    ################################################========================================================================================================================\n",
    "    \n"
   ]
  },
  {
   "cell_type": "code",
   "execution_count": 5,
   "id": "obvious-agriculture",
   "metadata": {},
   "outputs": [],
   "source": [
    "place='omura'\n",
    "result_filepath=\"../..//bot_database/{place_name}/{place_name}_train/train_{place_name}.csv\".format(place_name=place_name)#作成したデータの書き込み先#使用するデータの読み込み\n",
    "result_base_df=pd.read_csv(result_filepath)\n",
    "result_base_df=result_base_df.drop([\"Unnamed: 0\"],axis=1)\n",
    "result_df,test_train_df,test_test_df=making.data_making_1_1(result_base_df)"
   ]
  },
  {
   "cell_type": "code",
   "execution_count": 4,
   "id": "continuing-intelligence",
   "metadata": {},
   "outputs": [
    {
     "data": {
      "text/html": [
       "<div>\n",
       "<style scoped>\n",
       "    .dataframe tbody tr th:only-of-type {\n",
       "        vertical-align: middle;\n",
       "    }\n",
       "\n",
       "    .dataframe tbody tr th {\n",
       "        vertical-align: top;\n",
       "    }\n",
       "\n",
       "    .dataframe thead th {\n",
       "        text-align: right;\n",
       "    }\n",
       "</style>\n",
       "<table border=\"1\" class=\"dataframe\">\n",
       "  <thead>\n",
       "    <tr style=\"text-align: right;\">\n",
       "      <th></th>\n",
       "      <th>racer_1_rank</th>\n",
       "      <th>racer_1_age</th>\n",
       "      <th>racer_1_doub</th>\n",
       "      <th>racer_1_ave_st</th>\n",
       "      <th>racer_2_rank</th>\n",
       "      <th>racer_2_age</th>\n",
       "      <th>racer_2_doub</th>\n",
       "      <th>racer_2_ave_st</th>\n",
       "      <th>racer_3_rank</th>\n",
       "      <th>racer_3_age</th>\n",
       "      <th>...</th>\n",
       "      <th>racer_5_male_1</th>\n",
       "      <th>racer_6_male_0</th>\n",
       "      <th>racer_6_male_1</th>\n",
       "      <th>num=3</th>\n",
       "      <th>num=5</th>\n",
       "      <th>num=7</th>\n",
       "      <th>num=9</th>\n",
       "      <th>year</th>\n",
       "      <th>money</th>\n",
       "      <th>result_com</th>\n",
       "    </tr>\n",
       "  </thead>\n",
       "  <tbody>\n",
       "    <tr>\n",
       "      <th>0</th>\n",
       "      <td>2</td>\n",
       "      <td>43.0</td>\n",
       "      <td>0.267</td>\n",
       "      <td>0.21</td>\n",
       "      <td>3</td>\n",
       "      <td>37.0</td>\n",
       "      <td>0.384</td>\n",
       "      <td>0.18</td>\n",
       "      <td>2</td>\n",
       "      <td>30.0</td>\n",
       "      <td>...</td>\n",
       "      <td>1</td>\n",
       "      <td>0</td>\n",
       "      <td>1</td>\n",
       "      <td>1</td>\n",
       "      <td>4</td>\n",
       "      <td>5</td>\n",
       "      <td>3</td>\n",
       "      <td>2012</td>\n",
       "      <td>3330.0</td>\n",
       "      <td>41</td>\n",
       "    </tr>\n",
       "    <tr>\n",
       "      <th>1</th>\n",
       "      <td>2</td>\n",
       "      <td>52.0</td>\n",
       "      <td>0.321</td>\n",
       "      <td>0.16</td>\n",
       "      <td>3</td>\n",
       "      <td>42.0</td>\n",
       "      <td>0.350</td>\n",
       "      <td>0.19</td>\n",
       "      <td>2</td>\n",
       "      <td>34.0</td>\n",
       "      <td>...</td>\n",
       "      <td>1</td>\n",
       "      <td>0</td>\n",
       "      <td>1</td>\n",
       "      <td>0</td>\n",
       "      <td>2</td>\n",
       "      <td>2</td>\n",
       "      <td>4</td>\n",
       "      <td>2012</td>\n",
       "      <td>780.0</td>\n",
       "      <td>22</td>\n",
       "    </tr>\n",
       "    <tr>\n",
       "      <th>2</th>\n",
       "      <td>2</td>\n",
       "      <td>30.0</td>\n",
       "      <td>0.108</td>\n",
       "      <td>0.23</td>\n",
       "      <td>3</td>\n",
       "      <td>39.0</td>\n",
       "      <td>0.381</td>\n",
       "      <td>0.21</td>\n",
       "      <td>2</td>\n",
       "      <td>55.0</td>\n",
       "      <td>...</td>\n",
       "      <td>1</td>\n",
       "      <td>0</td>\n",
       "      <td>1</td>\n",
       "      <td>2</td>\n",
       "      <td>0</td>\n",
       "      <td>3</td>\n",
       "      <td>8</td>\n",
       "      <td>2012</td>\n",
       "      <td>1240.0</td>\n",
       "      <td>68</td>\n",
       "    </tr>\n",
       "    <tr>\n",
       "      <th>3</th>\n",
       "      <td>2</td>\n",
       "      <td>38.0</td>\n",
       "      <td>0.242</td>\n",
       "      <td>0.22</td>\n",
       "      <td>1</td>\n",
       "      <td>26.0</td>\n",
       "      <td>0.200</td>\n",
       "      <td>0.22</td>\n",
       "      <td>2</td>\n",
       "      <td>25.0</td>\n",
       "      <td>...</td>\n",
       "      <td>1</td>\n",
       "      <td>0</td>\n",
       "      <td>1</td>\n",
       "      <td>2</td>\n",
       "      <td>0</td>\n",
       "      <td>1</td>\n",
       "      <td>0</td>\n",
       "      <td>2012</td>\n",
       "      <td>2510.0</td>\n",
       "      <td>68</td>\n",
       "    </tr>\n",
       "    <tr>\n",
       "      <th>4</th>\n",
       "      <td>3</td>\n",
       "      <td>44.0</td>\n",
       "      <td>0.459</td>\n",
       "      <td>0.18</td>\n",
       "      <td>3</td>\n",
       "      <td>57.0</td>\n",
       "      <td>0.391</td>\n",
       "      <td>0.15</td>\n",
       "      <td>3</td>\n",
       "      <td>24.0</td>\n",
       "      <td>...</td>\n",
       "      <td>1</td>\n",
       "      <td>0</td>\n",
       "      <td>1</td>\n",
       "      <td>0</td>\n",
       "      <td>3</td>\n",
       "      <td>5</td>\n",
       "      <td>1</td>\n",
       "      <td>2012</td>\n",
       "      <td>830.0</td>\n",
       "      <td>1</td>\n",
       "    </tr>\n",
       "    <tr>\n",
       "      <th>...</th>\n",
       "      <td>...</td>\n",
       "      <td>...</td>\n",
       "      <td>...</td>\n",
       "      <td>...</td>\n",
       "      <td>...</td>\n",
       "      <td>...</td>\n",
       "      <td>...</td>\n",
       "      <td>...</td>\n",
       "      <td>...</td>\n",
       "      <td>...</td>\n",
       "      <td>...</td>\n",
       "      <td>...</td>\n",
       "      <td>...</td>\n",
       "      <td>...</td>\n",
       "      <td>...</td>\n",
       "      <td>...</td>\n",
       "      <td>...</td>\n",
       "      <td>...</td>\n",
       "      <td>...</td>\n",
       "      <td>...</td>\n",
       "      <td>...</td>\n",
       "    </tr>\n",
       "    <tr>\n",
       "      <th>19083</th>\n",
       "      <td>3</td>\n",
       "      <td>38.0</td>\n",
       "      <td>0.390</td>\n",
       "      <td>0.16</td>\n",
       "      <td>2</td>\n",
       "      <td>40.0</td>\n",
       "      <td>0.263</td>\n",
       "      <td>0.17</td>\n",
       "      <td>2</td>\n",
       "      <td>52.0</td>\n",
       "      <td>...</td>\n",
       "      <td>1</td>\n",
       "      <td>0</td>\n",
       "      <td>1</td>\n",
       "      <td>0</td>\n",
       "      <td>3</td>\n",
       "      <td>0</td>\n",
       "      <td>5</td>\n",
       "      <td>2020</td>\n",
       "      <td>1340.0</td>\n",
       "      <td>9</td>\n",
       "    </tr>\n",
       "    <tr>\n",
       "      <th>19084</th>\n",
       "      <td>2</td>\n",
       "      <td>37.0</td>\n",
       "      <td>0.212</td>\n",
       "      <td>0.16</td>\n",
       "      <td>2</td>\n",
       "      <td>40.0</td>\n",
       "      <td>0.336</td>\n",
       "      <td>0.15</td>\n",
       "      <td>2</td>\n",
       "      <td>46.0</td>\n",
       "      <td>...</td>\n",
       "      <td>1</td>\n",
       "      <td>0</td>\n",
       "      <td>1</td>\n",
       "      <td>1</td>\n",
       "      <td>1</td>\n",
       "      <td>3</td>\n",
       "      <td>8</td>\n",
       "      <td>2020</td>\n",
       "      <td>8470.0</td>\n",
       "      <td>29</td>\n",
       "    </tr>\n",
       "    <tr>\n",
       "      <th>19085</th>\n",
       "      <td>4</td>\n",
       "      <td>37.0</td>\n",
       "      <td>0.423</td>\n",
       "      <td>0.14</td>\n",
       "      <td>3</td>\n",
       "      <td>53.0</td>\n",
       "      <td>0.384</td>\n",
       "      <td>0.17</td>\n",
       "      <td>2</td>\n",
       "      <td>35.0</td>\n",
       "      <td>...</td>\n",
       "      <td>1</td>\n",
       "      <td>0</td>\n",
       "      <td>1</td>\n",
       "      <td>2</td>\n",
       "      <td>2</td>\n",
       "      <td>2</td>\n",
       "      <td>7</td>\n",
       "      <td>2020</td>\n",
       "      <td>1220.0</td>\n",
       "      <td>4</td>\n",
       "    </tr>\n",
       "    <tr>\n",
       "      <th>19086</th>\n",
       "      <td>3</td>\n",
       "      <td>40.0</td>\n",
       "      <td>0.449</td>\n",
       "      <td>0.13</td>\n",
       "      <td>4</td>\n",
       "      <td>41.0</td>\n",
       "      <td>0.575</td>\n",
       "      <td>0.14</td>\n",
       "      <td>3</td>\n",
       "      <td>38.0</td>\n",
       "      <td>...</td>\n",
       "      <td>1</td>\n",
       "      <td>0</td>\n",
       "      <td>1</td>\n",
       "      <td>1</td>\n",
       "      <td>1</td>\n",
       "      <td>5</td>\n",
       "      <td>3</td>\n",
       "      <td>2020</td>\n",
       "      <td>840.0</td>\n",
       "      <td>5</td>\n",
       "    </tr>\n",
       "    <tr>\n",
       "      <th>19087</th>\n",
       "      <td>4</td>\n",
       "      <td>41.0</td>\n",
       "      <td>0.523</td>\n",
       "      <td>0.14</td>\n",
       "      <td>4</td>\n",
       "      <td>33.0</td>\n",
       "      <td>0.647</td>\n",
       "      <td>0.17</td>\n",
       "      <td>4</td>\n",
       "      <td>31.0</td>\n",
       "      <td>...</td>\n",
       "      <td>1</td>\n",
       "      <td>0</td>\n",
       "      <td>1</td>\n",
       "      <td>2</td>\n",
       "      <td>2</td>\n",
       "      <td>0</td>\n",
       "      <td>5</td>\n",
       "      <td>2020</td>\n",
       "      <td>6860.0</td>\n",
       "      <td>41</td>\n",
       "    </tr>\n",
       "  </tbody>\n",
       "</table>\n",
       "<p>19088 rows × 55 columns</p>\n",
       "</div>"
      ],
      "text/plain": [
       "       racer_1_rank  racer_1_age  racer_1_doub  racer_1_ave_st  racer_2_rank  racer_2_age  racer_2_doub  racer_2_ave_st  racer_3_rank  racer_3_age  ...  racer_5_male_1  racer_6_male_0  racer_6_male_1  num=3  num=5  num=7  num=9  year   money  result_com\n",
       "0                 2         43.0         0.267            0.21             3         37.0         0.384            0.18             2         30.0  ...               1               0               1      1      4      5      3  2012  3330.0          41\n",
       "1                 2         52.0         0.321            0.16             3         42.0         0.350            0.19             2         34.0  ...               1               0               1      0      2      2      4  2012   780.0          22\n",
       "2                 2         30.0         0.108            0.23             3         39.0         0.381            0.21             2         55.0  ...               1               0               1      2      0      3      8  2012  1240.0          68\n",
       "3                 2         38.0         0.242            0.22             1         26.0         0.200            0.22             2         25.0  ...               1               0               1      2      0      1      0  2012  2510.0          68\n",
       "4                 3         44.0         0.459            0.18             3         57.0         0.391            0.15             3         24.0  ...               1               0               1      0      3      5      1  2012   830.0           1\n",
       "...             ...          ...           ...             ...           ...          ...           ...             ...           ...          ...  ...             ...             ...             ...    ...    ...    ...    ...   ...     ...         ...\n",
       "19083             3         38.0         0.390            0.16             2         40.0         0.263            0.17             2         52.0  ...               1               0               1      0      3      0      5  2020  1340.0           9\n",
       "19084             2         37.0         0.212            0.16             2         40.0         0.336            0.15             2         46.0  ...               1               0               1      1      1      3      8  2020  8470.0          29\n",
       "19085             4         37.0         0.423            0.14             3         53.0         0.384            0.17             2         35.0  ...               1               0               1      2      2      2      7  2020  1220.0           4\n",
       "19086             3         40.0         0.449            0.13             4         41.0         0.575            0.14             3         38.0  ...               1               0               1      1      1      5      3  2020   840.0           5\n",
       "19087             4         41.0         0.523            0.14             4         33.0         0.647            0.17             4         31.0  ...               1               0               1      2      2      0      5  2020  6860.0          41\n",
       "\n",
       "[19088 rows x 55 columns]"
      ]
     },
     "execution_count": 4,
     "metadata": {},
     "output_type": "execute_result"
    }
   ],
   "source": [
    "result_df"
   ]
  },
  {
   "cell_type": "code",
   "execution_count": null,
   "id": "dense-yesterday",
   "metadata": {},
   "outputs": [],
   "source": []
  },
  {
   "cell_type": "code",
   "execution_count": null,
   "id": "neural-square",
   "metadata": {},
   "outputs": [],
   "source": []
  }
 ],
 "metadata": {
  "kernelspec": {
   "display_name": "Python 3",
   "language": "python",
   "name": "python3"
  },
  "varInspector": {
   "cols": {
    "lenName": 16,
    "lenType": 16,
    "lenVar": 40
   },
   "kernels_config": {
    "python": {
     "delete_cmd_postfix": "",
     "delete_cmd_prefix": "del ",
     "library": "var_list.py",
     "varRefreshCmd": "print(var_dic_list())"
    },
    "r": {
     "delete_cmd_postfix": ") ",
     "delete_cmd_prefix": "rm(",
     "library": "var_list.r",
     "varRefreshCmd": "cat(var_dic_list()) "
    }
   },
   "types_to_exclude": [
    "module",
    "function",
    "builtin_function_or_method",
    "instance",
    "_Feature"
   ],
   "window_display": false
  }
 },
 "nbformat": 4,
 "nbformat_minor": 5
}
