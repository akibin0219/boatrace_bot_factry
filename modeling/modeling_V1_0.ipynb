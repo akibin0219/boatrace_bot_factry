{
 "cells": [
  {
   "cell_type": "code",
   "execution_count": 1,
   "id": "known-documentation",
   "metadata": {},
   "outputs": [],
   "source": [
    "import pandas as pd\n",
    "import numpy as np\n",
    "from sklearn.metrics import accuracy_score\n",
    "from sklearn.model_selection import cross_val_score\n",
    "from matplotlib import pyplot as plt\n",
    "import seaborn\n",
    "from pandas import DataFrame\n",
    "from tqdm import tqdm\n",
    "from imblearn.under_sampling import RandomUnderSampler #アンダーサンプリング用\n",
    "from sklearn.model_selection import train_test_split\n",
    "import pickle\n",
    "# 機械学習用\n",
    "from sklearn.cluster import KMeans #クラスタリング用\n",
    "from sklearn.ensemble import RandomForestClassifier#ランダムフォレスト\n",
    "from copy import deepcopy as cp\n",
    "from sklearn.linear_model import LogisticRegression\n",
    "from sklearn.ensemble import AdaBoostClassifier\n",
    "import lightgbm as lgb\n",
    "from sklearn.linear_model import LogisticRegression as LR\n",
    "import time\n",
    "import datetime\n",
    "import os #ディレクトリ作成用\n",
    "import xgboost as xgb\n",
    "import sys\n",
    "#自作のモジュールのインポート\n",
    "import module.master as master\n",
    "import module.graph as graph\n",
    "import module.trans_text_code as trans\n",
    "import module.data_making as making\n"
   ]
  },
  {
   "cell_type": "markdown",
   "id": "quality-contest",
   "metadata": {},
   "source": [
    "## スコア格納用の箱作り"
   ]
  },
  {
   "cell_type": "code",
   "execution_count": 2,
   "id": "tribal-running",
   "metadata": {},
   "outputs": [],
   "source": [
    "place_master=master.get_place_master()\n",
    "for place in place_master.items():\n",
    "    #print(place[0],place[1],'\\n')\n",
    "    place_name=place[1]\n",
    "    dir_path = \"../../bot_database/{place_name}/model_score_{place_name}/\".format(place_name=place_name)#作成したデータの書き込み先#使用するデータの読み込み\n",
    "    if os.path.exists(dir_path)==False:\n",
    "        os.makedirs(dir_path)\n",
    "    else:\n",
    "        pass\n",
    "    "
   ]
  },
  {
   "cell_type": "markdown",
   "id": "interior-disclaimer",
   "metadata": {},
   "source": [
    "## 各会場ごとに学習＆スコアの保存。"
   ]
  },
  {
   "cell_type": "code",
   "execution_count": 4,
   "id": "controlling-tomato",
   "metadata": {},
   "outputs": [
    {
     "name": "stderr",
     "output_type": "stream",
     "text": [
      "\r",
      "  0%|                                                                                                                                                                                                                | 0/28 [00:00<?, ?it/s]"
     ]
    },
    {
     "name": "stdout",
     "output_type": "stream",
     "text": [
      "kiryu\n"
     ]
    },
    {
     "name": "stderr",
     "output_type": "stream",
     "text": [
      "100%|████████████████████████████████████████████████████████████████████████████████████████████████████████████████████████████████████████████████████████████████████████████████████████████████████| 28/28 [1:37:43<00:00, 209.41s/it]\n",
      "  0%|                                                                                                                                                                                                                | 0/28 [00:00<?, ?it/s]"
     ]
    },
    {
     "name": "stdout",
     "output_type": "stream",
     "text": [
      "toda\n"
     ]
    },
    {
     "name": "stderr",
     "output_type": "stream",
     "text": [
      "100%|████████████████████████████████████████████████████████████████████████████████████████████████████████████████████████████████████████████████████████████████████████████████████████████████████| 28/28 [1:37:57<00:00, 209.92s/it]\n",
      "  0%|                                                                                                                                                                                                                | 0/28 [00:00<?, ?it/s]"
     ]
    },
    {
     "name": "stdout",
     "output_type": "stream",
     "text": [
      "edogawa\n"
     ]
    },
    {
     "name": "stderr",
     "output_type": "stream",
     "text": [
      "100%|████████████████████████████████████████████████████████████████████████████████████████████████████████████████████████████████████████████████████████████████████████████████████████████████████| 28/28 [1:33:03<00:00, 199.42s/it]\n",
      "  0%|                                                                                                                                                                                                                | 0/28 [00:00<?, ?it/s]"
     ]
    },
    {
     "name": "stdout",
     "output_type": "stream",
     "text": [
      "heiwazima\n"
     ]
    },
    {
     "name": "stderr",
     "output_type": "stream",
     "text": [
      "100%|████████████████████████████████████████████████████████████████████████████████████████████████████████████████████████████████████████████████████████████████████████████████████████████████████| 28/28 [1:28:03<00:00, 188.70s/it]\n",
      "  0%|                                                                                                                                                                                                                | 0/28 [00:00<?, ?it/s]"
     ]
    },
    {
     "name": "stdout",
     "output_type": "stream",
     "text": [
      "tamagawa\n"
     ]
    },
    {
     "name": "stderr",
     "output_type": "stream",
     "text": [
      "100%|████████████████████████████████████████████████████████████████████████████████████████████████████████████████████████████████████████████████████████████████████████████████████████████████████| 28/28 [1:28:28<00:00, 189.60s/it]\n",
      "  0%|                                                                                                                                                                                                                | 0/28 [00:00<?, ?it/s]"
     ]
    },
    {
     "name": "stdout",
     "output_type": "stream",
     "text": [
      "hamanako\n"
     ]
    },
    {
     "name": "stderr",
     "output_type": "stream",
     "text": [
      "100%|████████████████████████████████████████████████████████████████████████████████████████████████████████████████████████████████████████████████████████████████████████████████████████████████████| 28/28 [1:37:20<00:00, 208.60s/it]\n",
      "  0%|                                                                                                                                                                                                                | 0/28 [00:00<?, ?it/s]"
     ]
    },
    {
     "name": "stdout",
     "output_type": "stream",
     "text": [
      "gamagori\n"
     ]
    },
    {
     "name": "stderr",
     "output_type": "stream",
     "text": [
      "100%|████████████████████████████████████████████████████████████████████████████████████████████████████████████████████████████████████████████████████████████████████████████████████████████████████| 28/28 [1:36:35<00:00, 206.99s/it]\n",
      "  0%|                                                                                                                                                                                                                | 0/28 [00:00<?, ?it/s]"
     ]
    },
    {
     "name": "stdout",
     "output_type": "stream",
     "text": [
      "tokoname\n"
     ]
    },
    {
     "name": "stderr",
     "output_type": "stream",
     "text": [
      "100%|████████████████████████████████████████████████████████████████████████████████████████████████████████████████████████████████████████████████████████████████████████████████████████████████████| 28/28 [1:43:20<00:00, 221.46s/it]\n",
      "  0%|                                                                                                                                                                                                                | 0/28 [00:00<?, ?it/s]"
     ]
    },
    {
     "name": "stdout",
     "output_type": "stream",
     "text": [
      "tu\n"
     ]
    },
    {
     "name": "stderr",
     "output_type": "stream",
     "text": [
      "100%|████████████████████████████████████████████████████████████████████████████████████████████████████████████████████████████████████████████████████████████████████████████████████████████████████| 28/28 [1:44:24<00:00, 223.72s/it]\n",
      "  0%|                                                                                                                                                                                                                | 0/28 [00:00<?, ?it/s]"
     ]
    },
    {
     "name": "stdout",
     "output_type": "stream",
     "text": [
      "mikuni\n"
     ]
    },
    {
     "name": "stderr",
     "output_type": "stream",
     "text": [
      "100%|████████████████████████████████████████████████████████████████████████████████████████████████████████████████████████████████████████████████████████████████████████████████████████████████████| 28/28 [1:41:50<00:00, 218.24s/it]\n",
      "  0%|                                                                                                                                                                                                                | 0/28 [00:00<?, ?it/s]"
     ]
    },
    {
     "name": "stdout",
     "output_type": "stream",
     "text": [
      "biwako\n"
     ]
    },
    {
     "name": "stderr",
     "output_type": "stream",
     "text": [
      "100%|████████████████████████████████████████████████████████████████████████████████████████████████████████████████████████████████████████████████████████████████████████████████████████████████████| 28/28 [1:30:41<00:00, 194.33s/it]\n",
      "  0%|                                                                                                                                                                                                                | 0/28 [00:00<?, ?it/s]"
     ]
    },
    {
     "name": "stdout",
     "output_type": "stream",
     "text": [
      "suminoe\n"
     ]
    },
    {
     "name": "stderr",
     "output_type": "stream",
     "text": [
      "100%|████████████████████████████████████████████████████████████████████████████████████████████████████████████████████████████████████████████████████████████████████████████████████████████████████| 28/28 [1:37:37<00:00, 209.19s/it]\n",
      "  0%|                                                                                                                                                                                                                | 0/28 [00:00<?, ?it/s]"
     ]
    },
    {
     "name": "stdout",
     "output_type": "stream",
     "text": [
      "amagasaki\n"
     ]
    },
    {
     "name": "stderr",
     "output_type": "stream",
     "text": [
      "100%|████████████████████████████████████████████████████████████████████████████████████████████████████████████████████████████████████████████████████████████████████████████████████████████████████| 28/28 [1:41:21<00:00, 217.20s/it]\n",
      "  0%|                                                                                                                                                                                                                                                                                                | 0/28 [00:00<?, ?it/s]"
     ]
    },
    {
     "name": "stdout",
     "output_type": "stream",
     "text": [
      "naruto\n"
     ]
    },
    {
     "name": "stderr",
     "output_type": "stream",
     "text": [
      "100%|████████████████████████████████████████████████████████████████████████████████████████████████████████████████████████████████████████████████████████████████████████████████████████████████████████████████████████████████████████████████████████████████████████████████████| 28/28 [1:18:56<00:00, 169.16s/it]\n",
      "  0%|                                                                                                                                                                                                                                                                                                | 0/28 [00:00<?, ?it/s]"
     ]
    },
    {
     "name": "stdout",
     "output_type": "stream",
     "text": [
      "marugame\n"
     ]
    },
    {
     "name": "stderr",
     "output_type": "stream",
     "text": [
      "100%|████████████████████████████████████████████████████████████████████████████████████████████████████████████████████████████████████████████████████████████████████████████████████████████████████████████████████████████████████████████████████████████████████████████████████| 28/28 [1:39:14<00:00, 212.67s/it]\n",
      "  0%|                                                                                                                                                           | 0/28 [00:00<?, ?it/s]"
     ]
    },
    {
     "name": "stdout",
     "output_type": "stream",
     "text": [
      "kozima\n"
     ]
    },
    {
     "name": "stderr",
     "output_type": "stream",
     "text": [
      "100%|███████████████████████████████████████████████████████████████████████████████████████████████████████████████████████████████████████████████| 28/28 [1:41:02<00:00, 216.53s/it]\n",
      "  0%|                                                                                                                                                           | 0/28 [00:00<?, ?it/s]"
     ]
    },
    {
     "name": "stdout",
     "output_type": "stream",
     "text": [
      "miyazima\n"
     ]
    },
    {
     "name": "stderr",
     "output_type": "stream",
     "text": [
      "100%|███████████████████████████████████████████████████████████████████████████████████████████████████████████████████████████████████████████████| 28/28 [1:42:51<00:00, 220.41s/it]\n",
      "  0%|                                                                                                                                                           | 0/28 [00:00<?, ?it/s]"
     ]
    },
    {
     "name": "stdout",
     "output_type": "stream",
     "text": [
      "tokuyama\n"
     ]
    },
    {
     "name": "stderr",
     "output_type": "stream",
     "text": [
      "100%|███████████████████████████████████████████████████████████████████████████████████████████████████████████████████████████████████████████████| 28/28 [1:50:40<00:00, 237.18s/it]\n",
      "  0%|                                                                                                                                                           | 0/28 [00:00<?, ?it/s]"
     ]
    },
    {
     "name": "stdout",
     "output_type": "stream",
     "text": [
      "simonoseki\n"
     ]
    },
    {
     "name": "stderr",
     "output_type": "stream",
     "text": [
      "100%|███████████████████████████████████████████████████████████████████████████████████████████████████████████████████████████████████████████████| 28/28 [1:43:02<00:00, 220.79s/it]\n",
      "  0%|                                                                                                                                                           | 0/28 [00:00<?, ?it/s]"
     ]
    },
    {
     "name": "stdout",
     "output_type": "stream",
     "text": [
      "wakamatu\n"
     ]
    },
    {
     "name": "stderr",
     "output_type": "stream",
     "text": [
      "100%|███████████████████████████████████████████████████████████████████████████████████████████████████████████████████████████████████████████████| 28/28 [1:45:27<00:00, 225.97s/it]\n",
      "  0%|                                                                                                                                                           | 0/28 [00:00<?, ?it/s]"
     ]
    },
    {
     "name": "stdout",
     "output_type": "stream",
     "text": [
      "asiya\n"
     ]
    },
    {
     "name": "stderr",
     "output_type": "stream",
     "text": [
      "100%|███████████████████████████████████████████████████████████████████████████████████████████████████████████████████████████████████████████████| 28/28 [1:50:24<00:00, 236.60s/it]\n",
      "  0%|                                                                                                                                                           | 0/28 [00:00<?, ?it/s]"
     ]
    },
    {
     "name": "stdout",
     "output_type": "stream",
     "text": [
      "fukuoka\n"
     ]
    },
    {
     "name": "stderr",
     "output_type": "stream",
     "text": [
      "100%|███████████████████████████████████████████████████████████████████████████████████████████████████████████████████████████████████████████████| 28/28 [1:34:46<00:00, 203.10s/it]\n",
      "  0%|                                                                                                                                                           | 0/28 [00:00<?, ?it/s]"
     ]
    },
    {
     "name": "stdout",
     "output_type": "stream",
     "text": [
      "karatu\n"
     ]
    },
    {
     "name": "stderr",
     "output_type": "stream",
     "text": [
      "100%|███████████████████████████████████████████████████████████████████████████████████████████████████████████████████████████████████████████████| 28/28 [1:44:36<00:00, 224.18s/it]\n",
      "  0%|                                                                                                                                                           | 0/28 [00:00<?, ?it/s]"
     ]
    },
    {
     "name": "stdout",
     "output_type": "stream",
     "text": [
      "omura\n"
     ]
    },
    {
     "name": "stderr",
     "output_type": "stream",
     "text": [
      "100%|███████████████████████████████████████████████████████████████████████████████████████████████████████████████████████████████████████████████| 28/28 [1:56:44<00:00, 250.17s/it]\n"
     ]
    }
   ],
   "source": [
    "#データ格納用のディレクトリ作り\n",
    "version='V1_0'#学習デー加工関数のバージョン\n",
    "\n",
    "\n",
    "place_master=master.get_place_master()\n",
    "for place in place_master.items():\n",
    "    place_name=place[1]\n",
    "    ################################################========================================================================================================================\n",
    "    ################################################========================================================================================================================\n",
    "    ################################################========================================================================================================================\n",
    "    ################################################========================================================================================================================\n",
    "    #各会場の学習データの読み込みと加工\n",
    "    result_filepath=\"../..//bot_database/{place_name}/{place_name}_train/train_{place_name}.csv\".format(place_name=place_name)#作成したデータの書き込み先#使用するデータの読み込み\n",
    "    result_base_df=pd.read_csv(result_filepath)\n",
    "    result_base_df=result_base_df.drop([\"Unnamed: 0\"],axis=1)\n",
    "    ################################################========================================================================================================================\n",
    "    ################################################========================================================================================================================\n",
    "    ################################################========================================================================================================================\n",
    "    ################################################========================================================================================================================\n",
    "    #バージョンごとに学習データの加工関数を変える。\n",
    "    result_df=making.data_making_1_0(result_base_df)\n",
    "    ################################################========================================================================================================================\n",
    "    ################################################========================================================================================================================\n",
    "    ################################################========================================================================================================================\n",
    "    ################################################========================================================================================================================\n",
    "    ################################################========================================================================================================================\n",
    "    ################################################========================================================================================================================\n",
    "    ################################################========================================================================================================================\n",
    "    ################################################========================================================================================================================\n",
    "    making.making_model_score(version,place_name,result_df)#パラメータの探索\n",
    "    ################################################========================================================================================================================\n",
    "    ################################################========================================================================================================================\n",
    "    ################################################========================================================================================================================\n",
    "    ################################################========================================================================================================================\n",
    "    \n"
   ]
  },
  {
   "cell_type": "code",
   "execution_count": 3,
   "id": "historic-water",
   "metadata": {},
   "outputs": [
    {
     "data": {
      "text/html": [
       "<div>\n",
       "<style scoped>\n",
       "    .dataframe tbody tr th:only-of-type {\n",
       "        vertical-align: middle;\n",
       "    }\n",
       "\n",
       "    .dataframe tbody tr th {\n",
       "        vertical-align: top;\n",
       "    }\n",
       "\n",
       "    .dataframe thead th {\n",
       "        text-align: right;\n",
       "    }\n",
       "</style>\n",
       "<table border=\"1\" class=\"dataframe\">\n",
       "  <thead>\n",
       "    <tr style=\"text-align: right;\">\n",
       "      <th></th>\n",
       "      <th>date</th>\n",
       "      <th>money</th>\n",
       "      <th>number_race</th>\n",
       "      <th>racer_1_ID</th>\n",
       "      <th>racer_1_age</th>\n",
       "      <th>racer_1_ave_st</th>\n",
       "      <th>racer_1_bo</th>\n",
       "      <th>racer_1_doub</th>\n",
       "      <th>racer_1_male</th>\n",
       "      <th>racer_1_mo</th>\n",
       "      <th>...</th>\n",
       "      <th>racer_5_rank</th>\n",
       "      <th>racer_6_ID</th>\n",
       "      <th>racer_6_age</th>\n",
       "      <th>racer_6_ave_st</th>\n",
       "      <th>racer_6_bo</th>\n",
       "      <th>racer_6_doub</th>\n",
       "      <th>racer_6_male</th>\n",
       "      <th>racer_6_mo</th>\n",
       "      <th>racer_6_rank</th>\n",
       "      <th>result_com</th>\n",
       "    </tr>\n",
       "  </thead>\n",
       "  <tbody>\n",
       "    <tr>\n",
       "      <th>0</th>\n",
       "      <td>2012-04-01</td>\n",
       "      <td>920.0</td>\n",
       "      <td>1</td>\n",
       "      <td>3826</td>\n",
       "      <td>39.0</td>\n",
       "      <td>0.18</td>\n",
       "      <td>49.0</td>\n",
       "      <td>0.445</td>\n",
       "      <td>1</td>\n",
       "      <td>12.0</td>\n",
       "      <td>...</td>\n",
       "      <td>1</td>\n",
       "      <td>4632</td>\n",
       "      <td>23.0</td>\n",
       "      <td>0.18</td>\n",
       "      <td>45.0</td>\n",
       "      <td>0.030</td>\n",
       "      <td>1</td>\n",
       "      <td>49.0</td>\n",
       "      <td>1</td>\n",
       "      <td>6</td>\n",
       "    </tr>\n",
       "    <tr>\n",
       "      <th>1</th>\n",
       "      <td>2012-04-01</td>\n",
       "      <td>460.0</td>\n",
       "      <td>2</td>\n",
       "      <td>2958</td>\n",
       "      <td>55.0</td>\n",
       "      <td>0.18</td>\n",
       "      <td>68.0</td>\n",
       "      <td>0.390</td>\n",
       "      <td>1</td>\n",
       "      <td>33.0</td>\n",
       "      <td>...</td>\n",
       "      <td>2</td>\n",
       "      <td>3561</td>\n",
       "      <td>44.0</td>\n",
       "      <td>0.20</td>\n",
       "      <td>46.0</td>\n",
       "      <td>0.186</td>\n",
       "      <td>1</td>\n",
       "      <td>59.0</td>\n",
       "      <td>2</td>\n",
       "      <td>2</td>\n",
       "    </tr>\n",
       "    <tr>\n",
       "      <th>2</th>\n",
       "      <td>2012-04-01</td>\n",
       "      <td>5210.0</td>\n",
       "      <td>3</td>\n",
       "      <td>3428</td>\n",
       "      <td>45.0</td>\n",
       "      <td>0.19</td>\n",
       "      <td>54.0</td>\n",
       "      <td>0.333</td>\n",
       "      <td>1</td>\n",
       "      <td>40.0</td>\n",
       "      <td>...</td>\n",
       "      <td>2</td>\n",
       "      <td>4331</td>\n",
       "      <td>29.0</td>\n",
       "      <td>0.17</td>\n",
       "      <td>34.0</td>\n",
       "      <td>0.245</td>\n",
       "      <td>1</td>\n",
       "      <td>32.0</td>\n",
       "      <td>2</td>\n",
       "      <td>10</td>\n",
       "    </tr>\n",
       "    <tr>\n",
       "      <th>3</th>\n",
       "      <td>2012-04-01</td>\n",
       "      <td>970.0</td>\n",
       "      <td>4</td>\n",
       "      <td>4047</td>\n",
       "      <td>32.0</td>\n",
       "      <td>0.16</td>\n",
       "      <td>74.0</td>\n",
       "      <td>0.339</td>\n",
       "      <td>1</td>\n",
       "      <td>48.0</td>\n",
       "      <td>...</td>\n",
       "      <td>2</td>\n",
       "      <td>4391</td>\n",
       "      <td>26.0</td>\n",
       "      <td>0.19</td>\n",
       "      <td>65.0</td>\n",
       "      <td>0.483</td>\n",
       "      <td>1</td>\n",
       "      <td>61.0</td>\n",
       "      <td>4</td>\n",
       "      <td>2</td>\n",
       "    </tr>\n",
       "    <tr>\n",
       "      <th>4</th>\n",
       "      <td>2012-04-01</td>\n",
       "      <td>2940.0</td>\n",
       "      <td>6</td>\n",
       "      <td>3866</td>\n",
       "      <td>37.0</td>\n",
       "      <td>0.15</td>\n",
       "      <td>43.0</td>\n",
       "      <td>0.344</td>\n",
       "      <td>1</td>\n",
       "      <td>30.0</td>\n",
       "      <td>...</td>\n",
       "      <td>3</td>\n",
       "      <td>2974</td>\n",
       "      <td>55.0</td>\n",
       "      <td>0.18</td>\n",
       "      <td>22.0</td>\n",
       "      <td>0.257</td>\n",
       "      <td>1</td>\n",
       "      <td>25.0</td>\n",
       "      <td>2</td>\n",
       "      <td>73</td>\n",
       "    </tr>\n",
       "    <tr>\n",
       "      <th>...</th>\n",
       "      <td>...</td>\n",
       "      <td>...</td>\n",
       "      <td>...</td>\n",
       "      <td>...</td>\n",
       "      <td>...</td>\n",
       "      <td>...</td>\n",
       "      <td>...</td>\n",
       "      <td>...</td>\n",
       "      <td>...</td>\n",
       "      <td>...</td>\n",
       "      <td>...</td>\n",
       "      <td>...</td>\n",
       "      <td>...</td>\n",
       "      <td>...</td>\n",
       "      <td>...</td>\n",
       "      <td>...</td>\n",
       "      <td>...</td>\n",
       "      <td>...</td>\n",
       "      <td>...</td>\n",
       "      <td>...</td>\n",
       "      <td>...</td>\n",
       "    </tr>\n",
       "    <tr>\n",
       "      <th>19181</th>\n",
       "      <td>2020-03-29</td>\n",
       "      <td>1000.0</td>\n",
       "      <td>8</td>\n",
       "      <td>4166</td>\n",
       "      <td>38.0</td>\n",
       "      <td>0.14</td>\n",
       "      <td>62.0</td>\n",
       "      <td>0.487</td>\n",
       "      <td>1</td>\n",
       "      <td>24.0</td>\n",
       "      <td>...</td>\n",
       "      <td>4</td>\n",
       "      <td>4042</td>\n",
       "      <td>41.0</td>\n",
       "      <td>0.16</td>\n",
       "      <td>39.0</td>\n",
       "      <td>0.488</td>\n",
       "      <td>1</td>\n",
       "      <td>67.0</td>\n",
       "      <td>4</td>\n",
       "      <td>3</td>\n",
       "    </tr>\n",
       "    <tr>\n",
       "      <th>19182</th>\n",
       "      <td>2020-03-29</td>\n",
       "      <td>3600.0</td>\n",
       "      <td>9</td>\n",
       "      <td>3502</td>\n",
       "      <td>51.0</td>\n",
       "      <td>0.18</td>\n",
       "      <td>12.0</td>\n",
       "      <td>0.484</td>\n",
       "      <td>1</td>\n",
       "      <td>44.0</td>\n",
       "      <td>...</td>\n",
       "      <td>4</td>\n",
       "      <td>4308</td>\n",
       "      <td>37.0</td>\n",
       "      <td>0.14</td>\n",
       "      <td>23.0</td>\n",
       "      <td>0.496</td>\n",
       "      <td>1</td>\n",
       "      <td>30.0</td>\n",
       "      <td>4</td>\n",
       "      <td>14</td>\n",
       "    </tr>\n",
       "    <tr>\n",
       "      <th>19183</th>\n",
       "      <td>2020-03-29</td>\n",
       "      <td>1630.0</td>\n",
       "      <td>10</td>\n",
       "      <td>3527</td>\n",
       "      <td>49.0</td>\n",
       "      <td>0.17</td>\n",
       "      <td>49.0</td>\n",
       "      <td>0.357</td>\n",
       "      <td>1</td>\n",
       "      <td>16.0</td>\n",
       "      <td>...</td>\n",
       "      <td>4</td>\n",
       "      <td>4659</td>\n",
       "      <td>29.0</td>\n",
       "      <td>0.16</td>\n",
       "      <td>45.0</td>\n",
       "      <td>0.484</td>\n",
       "      <td>1</td>\n",
       "      <td>28.0</td>\n",
       "      <td>4</td>\n",
       "      <td>2</td>\n",
       "    </tr>\n",
       "    <tr>\n",
       "      <th>19184</th>\n",
       "      <td>2020-03-29</td>\n",
       "      <td>10430.0</td>\n",
       "      <td>11</td>\n",
       "      <td>4075</td>\n",
       "      <td>39.0</td>\n",
       "      <td>0.13</td>\n",
       "      <td>40.0</td>\n",
       "      <td>0.400</td>\n",
       "      <td>1</td>\n",
       "      <td>65.0</td>\n",
       "      <td>...</td>\n",
       "      <td>4</td>\n",
       "      <td>4266</td>\n",
       "      <td>35.0</td>\n",
       "      <td>0.14</td>\n",
       "      <td>75.0</td>\n",
       "      <td>0.478</td>\n",
       "      <td>1</td>\n",
       "      <td>52.0</td>\n",
       "      <td>4</td>\n",
       "      <td>17</td>\n",
       "    </tr>\n",
       "    <tr>\n",
       "      <th>19185</th>\n",
       "      <td>2020-03-29</td>\n",
       "      <td>1200.0</td>\n",
       "      <td>12</td>\n",
       "      <td>4337</td>\n",
       "      <td>36.0</td>\n",
       "      <td>0.12</td>\n",
       "      <td>76.0</td>\n",
       "      <td>0.529</td>\n",
       "      <td>1</td>\n",
       "      <td>43.0</td>\n",
       "      <td>...</td>\n",
       "      <td>4</td>\n",
       "      <td>4013</td>\n",
       "      <td>41.0</td>\n",
       "      <td>0.15</td>\n",
       "      <td>73.0</td>\n",
       "      <td>0.556</td>\n",
       "      <td>1</td>\n",
       "      <td>37.0</td>\n",
       "      <td>4</td>\n",
       "      <td>5</td>\n",
       "    </tr>\n",
       "  </tbody>\n",
       "</table>\n",
       "<p>19186 rows × 52 columns</p>\n",
       "</div>"
      ],
      "text/plain": [
       "             date    money  number_race  racer_1_ID  racer_1_age  racer_1_ave_st  racer_1_bo  racer_1_doub  racer_1_male  racer_1_mo  ...  racer_5_rank  racer_6_ID  racer_6_age  racer_6_ave_st  racer_6_bo  racer_6_doub  racer_6_male  racer_6_mo  racer_6_rank  result_com\n",
       "0      2012-04-01    920.0            1        3826         39.0            0.18        49.0         0.445             1        12.0  ...             1        4632         23.0            0.18        45.0         0.030             1        49.0             1           6\n",
       "1      2012-04-01    460.0            2        2958         55.0            0.18        68.0         0.390             1        33.0  ...             2        3561         44.0            0.20        46.0         0.186             1        59.0             2           2\n",
       "2      2012-04-01   5210.0            3        3428         45.0            0.19        54.0         0.333             1        40.0  ...             2        4331         29.0            0.17        34.0         0.245             1        32.0             2          10\n",
       "3      2012-04-01    970.0            4        4047         32.0            0.16        74.0         0.339             1        48.0  ...             2        4391         26.0            0.19        65.0         0.483             1        61.0             4           2\n",
       "4      2012-04-01   2940.0            6        3866         37.0            0.15        43.0         0.344             1        30.0  ...             3        2974         55.0            0.18        22.0         0.257             1        25.0             2          73\n",
       "...           ...      ...          ...         ...          ...             ...         ...           ...           ...         ...  ...           ...         ...          ...             ...         ...           ...           ...         ...           ...         ...\n",
       "19181  2020-03-29   1000.0            8        4166         38.0            0.14        62.0         0.487             1        24.0  ...             4        4042         41.0            0.16        39.0         0.488             1        67.0             4           3\n",
       "19182  2020-03-29   3600.0            9        3502         51.0            0.18        12.0         0.484             1        44.0  ...             4        4308         37.0            0.14        23.0         0.496             1        30.0             4          14\n",
       "19183  2020-03-29   1630.0           10        3527         49.0            0.17        49.0         0.357             1        16.0  ...             4        4659         29.0            0.16        45.0         0.484             1        28.0             4           2\n",
       "19184  2020-03-29  10430.0           11        4075         39.0            0.13        40.0         0.400             1        65.0  ...             4        4266         35.0            0.14        75.0         0.478             1        52.0             4          17\n",
       "19185  2020-03-29   1200.0           12        4337         36.0            0.12        76.0         0.529             1        43.0  ...             4        4013         41.0            0.15        73.0         0.556             1        37.0             4           5\n",
       "\n",
       "[19186 rows x 52 columns]"
      ]
     },
     "execution_count": 3,
     "metadata": {},
     "output_type": "execute_result"
    }
   ],
   "source": [
    "place='omura'\n",
    "result_filepath=\"../..//bot_database/{place_name}/{place_name}_train/train_{place_name}.csv\".format(place_name=place_name)#作成したデータの書き込み先#使用するデータの読み込み\n",
    "result_base_df=pd.read_csv(result_filepath)\n",
    "result_base_df=result_base_df.drop([\"Unnamed: 0\"],axis=1)\n",
    "result_base_df"
   ]
  },
  {
   "cell_type": "code",
   "execution_count": null,
   "id": "norman-tension",
   "metadata": {},
   "outputs": [],
   "source": []
  },
  {
   "cell_type": "code",
   "execution_count": null,
   "id": "gross-antenna",
   "metadata": {},
   "outputs": [],
   "source": []
  },
  {
   "cell_type": "code",
   "execution_count": null,
   "id": "thorough-absolute",
   "metadata": {},
   "outputs": [],
   "source": []
  },
  {
   "cell_type": "code",
   "execution_count": null,
   "id": "fatty-spectrum",
   "metadata": {},
   "outputs": [],
   "source": []
  },
  {
   "cell_type": "code",
   "execution_count": null,
   "id": "known-vertical",
   "metadata": {},
   "outputs": [],
   "source": []
  },
  {
   "cell_type": "code",
   "execution_count": null,
   "id": "separate-government",
   "metadata": {},
   "outputs": [],
   "source": []
  },
  {
   "cell_type": "code",
   "execution_count": null,
   "id": "ordinary-operation",
   "metadata": {},
   "outputs": [],
   "source": []
  },
  {
   "cell_type": "code",
   "execution_count": null,
   "id": "oriental-regard",
   "metadata": {},
   "outputs": [],
   "source": []
  },
  {
   "cell_type": "code",
   "execution_count": null,
   "id": "educational-heater",
   "metadata": {},
   "outputs": [],
   "source": []
  },
  {
   "cell_type": "code",
   "execution_count": null,
   "id": "adequate-finder",
   "metadata": {},
   "outputs": [],
   "source": []
  },
  {
   "cell_type": "code",
   "execution_count": null,
   "id": "contrary-wallet",
   "metadata": {},
   "outputs": [],
   "source": []
  },
  {
   "cell_type": "code",
   "execution_count": null,
   "id": "guilty-cincinnati",
   "metadata": {},
   "outputs": [],
   "source": []
  },
  {
   "cell_type": "code",
   "execution_count": null,
   "id": "hired-bread",
   "metadata": {},
   "outputs": [],
   "source": []
  },
  {
   "cell_type": "code",
   "execution_count": null,
   "id": "electronic-cinema",
   "metadata": {},
   "outputs": [],
   "source": []
  }
 ],
 "metadata": {
  "kernelspec": {
   "display_name": "Python 3",
   "language": "python",
   "name": "python3"
  },
  "language_info": {
   "codemirror_mode": {
    "name": "ipython",
    "version": 3
   },
   "file_extension": ".py",
   "mimetype": "text/x-python",
   "name": "python",
   "nbconvert_exporter": "python",
   "pygments_lexer": "ipython3",
   "version": "3.8.7"
  },
  "varInspector": {
   "cols": {
    "lenName": 16,
    "lenType": 16,
    "lenVar": 40
   },
   "kernels_config": {
    "python": {
     "delete_cmd_postfix": "",
     "delete_cmd_prefix": "del ",
     "library": "var_list.py",
     "varRefreshCmd": "print(var_dic_list())"
    },
    "r": {
     "delete_cmd_postfix": ") ",
     "delete_cmd_prefix": "rm(",
     "library": "var_list.r",
     "varRefreshCmd": "cat(var_dic_list()) "
    }
   },
   "types_to_exclude": [
    "module",
    "function",
    "builtin_function_or_method",
    "instance",
    "_Feature"
   ],
   "window_display": false
  }
 },
 "nbformat": 4,
 "nbformat_minor": 5
}
