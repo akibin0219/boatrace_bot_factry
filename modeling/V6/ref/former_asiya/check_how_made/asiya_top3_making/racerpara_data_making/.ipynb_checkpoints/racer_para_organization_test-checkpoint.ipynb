{
 "cells": [
  {
   "cell_type": "code",
   "execution_count": 1,
   "metadata": {},
   "outputs": [
    {
     "name": "stdout",
     "output_type": "stream",
     "text": [
      "<class 'int'>\n",
      "<class 'int'>\n",
      "<class 'int'>\n"
     ]
    }
   ],
   "source": [
    "para_data=open(\"racer_para_read.txt\",\"r\",encoding=\"utf-8_sig\")\n",
    "for line in para_data:\n",
    "    with open('racerpara_org_test.txt','a') as f:\n",
    "        if line[29:31]==\"B2\":#racerのランクの数値化 line[29:31]にレーサーのランクあり\n",
    "            rank=1\n",
    "        elif line[29:31]==\"B1\":\n",
    "            rank=2\n",
    "        elif line[29,31]==\"A2\":\n",
    "            rank=3\n",
    "        elif line[29,31]==\"A1\":\n",
    "            rank=4\n",
    "            \n",
    "        if line[38:39]==\"1\":\n",
    "            male=1\n",
    "        elif line[38:39]==\"2\":\n",
    "            male=0\n",
    "            \n",
    "        print(type(male))\n",
    "        \n",
    "        #        id          rank             male:1          age                       doble                         ave_st\n",
    "        w_line=line[:4]+\",\"+str(rank)+\",\"+str(male)+\",\"+line[39:41]+\",\"+line[52:53]+\".\"+line[53:56]+\",\"+line[69:70]+\".\"+line[70:72]\n",
    "        #w_line=str(line[:4])+\",\"+str(rank)+\",\"+str(line[38:39]-1)+\",\"+str(line[39:41])+\",\"+str(line[52:53])+\".\"+str(line[53:56])+\",\"+str(line[69:70])+\".\"+str(line[70:72])\n",
    "        print(w_line,file=f)\n",
    "\n",
    "\n",
    "para_data.close()"
   ]
  },
  {
   "cell_type": "code",
   "execution_count": null,
   "metadata": {},
   "outputs": [],
   "source": []
  },
  {
   "cell_type": "code",
   "execution_count": null,
   "metadata": {},
   "outputs": [],
   "source": []
  }
 ],
 "metadata": {
  "kernelspec": {
   "display_name": "Python 3",
   "language": "python",
   "name": "python3"
  },
  "language_info": {
   "codemirror_mode": {
    "name": "ipython",
    "version": 3
   },
   "file_extension": ".py",
   "mimetype": "text/x-python",
   "name": "python",
   "nbconvert_exporter": "python",
   "pygments_lexer": "ipython3",
   "version": "3.7.4"
  }
 },
 "nbformat": 4,
 "nbformat_minor": 2
}
