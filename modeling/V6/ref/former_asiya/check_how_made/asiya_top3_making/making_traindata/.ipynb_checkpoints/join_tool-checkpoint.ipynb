{
 "cells": [
  {
   "cell_type": "code",
   "execution_count": 3,
   "metadata": {
    "colab": {},
    "colab_type": "code",
    "id": "SDpzeLExeXu8"
   },
   "outputs": [],
   "source": [
    "import pandas as pd\n",
    "import numpy as np\n",
    "pd.set_option('display.width',200)#勝手に改行コードを入れられるのを防ぐ"
   ]
  },
  {
   "cell_type": "code",
   "execution_count": 4,
   "metadata": {
    "colab": {
     "base_uri": "https://localhost:8080/",
     "height": 153
    },
    "colab_type": "code",
    "executionInfo": {
     "elapsed": 678230,
     "status": "ok",
     "timestamp": 1576857675029,
     "user": {
      "displayName": "ta ku",
      "photoUrl": "https://lh3.googleusercontent.com/a-/AAuE7mDW1GwUN8_s-mnB8Ci6mbpeOP9SpQo6o5Csf0rphQ=s64",
      "userId": "14345004097153540112"
     },
     "user_tz": -540
    },
    "id": "Z4o0yTuG9gVN",
    "outputId": "621142d1-c819-46d4-ef84-aa80fc3bc17d"
   },
   "outputs": [],
   "source": [
    "train_data_df=pd.DataFrame(columns=['result_com','number_race','racer_1_ID','racer_2_ID','racer_3_ID','racer_4_ID','racer_5_ID','racer_6_ID','racer_1_rank','racer_1_male','racer_1_age','racer_1_doub','racer_1_ave_st','racer_2_rank','racer_2_male','racer_2_age','racer_2_doub','racer_2_ave_st','racer_3_rank','racer_3_male','racer_3_age','racer_3_doub','racer_3_ave_st','racer_4_rank','racer_4_male','racer_4_age','racer_4_doub','racer_4_ave_st','racer_5_rank','racer_5_male','racer_5_age','racer_5_doub','racer_5_ave_st','racer_6_rank','racer_6_male','racer_6_age','racer_6_doub','racer_6_ave_st'])\n",
    "years=[\"12\",\"13\",\"14\",\"15\",\"16\",\"17\",\"18\",\"19\",\"20\"]\n",
    "#write_train_file_path=\"/content/drive/My Drive/making_traindata/train_asiya.csv\"\n",
    "write_train_file_path=\"train_asiya.csv\"\n",
    "for year in years:\n",
    "    #使用するファイルの定義\n",
    "    para_file_path=\"racerpara_by_year_csv/{0}/{1}.csv\".format(year,year)\n",
    "    result_file_path=\"asiya_result_csv/asiya_result_20{0}.csv\".format(year)\n",
    "    write_train_by_year_file_path=\"train_by_year_asiya/train_20{0}_asiya.csv\".format(year)\n",
    "    #write_train_file_path=\"/content/drive/My Drive/making_traindata/train_asiya.csv\"\n",
    "    \n",
    "    #/////////////////////////////////////////////以下データフレームの作成\n",
    "    train_data_by_year_df=pd.DataFrame(columns=['result_com','number_race','racer_1_ID','racer_2_ID','racer_3_ID','racer_4_ID','racer_5_ID','racer_6_ID','racer_1_rank','racer_1_male','racer_1_age','racer_1_doub','racer_1_ave_st','racer_2_rank','racer_2_male','racer_2_age','racer_2_doub','racer_2_ave_st','racer_3_rank','racer_3_male','racer_3_age','racer_3_doub','racer_3_ave_st','racer_4_rank','racer_4_male','racer_4_age','racer_4_doub','racer_4_ave_st','racer_5_rank','racer_5_male','racer_5_age','racer_5_doub','racer_5_ave_st','racer_6_rank','racer_6_male','racer_6_age','racer_6_doub','racer_6_ave_st'])\n",
    "    para_df=pd.read_csv(para_file_path)\n",
    "    para_df=para_df.drop([\"Unnamed: 0\"],axis=1)#csvファイルについている名無しの列を削除\n",
    "    #para_df=para_df.set_index([\"racer_ID\"])#インデックスを選手のIDに。\n",
    "    result_df=pd.read_csv(result_file_path)\n",
    "    result_df=result_df.drop([\"Unnamed: 0\"],axis=1)#csvファイルについている名無しの列を削除\n",
    "    \n",
    "    for index,series in result_df.iterrows():\n",
    "        add_df=pd.DataFrame(columns=['result_com','number_race','racer_1_ID','racer_2_ID','racer_3_ID','racer_4_ID','racer_5_ID','racer_6_ID','racer_1_rank','racer_1_male','racer_1_age','racer_1_doub','racer_1_ave_st','racer_2_rank','racer_2_male','racer_2_age','racer_2_doub','racer_2_ave_st','racer_3_rank','racer_3_male','racer_3_age','racer_3_doub','racer_3_ave_st','racer_4_rank','racer_4_male','racer_4_age','racer_4_doub','racer_4_ave_st','racer_5_rank','racer_5_male','racer_5_age','racer_5_doub','racer_5_ave_st','racer_6_rank','racer_6_male','racer_6_age','racer_6_doub','racer_6_ave_st'])\n",
    "        #///////////////////////////////////////レースに出ているレーサーの成績を検索＆取得\n",
    "        ID_1=series['racer_1_ID']\n",
    "        ID_2=series['racer_2_ID']\n",
    "        ID_3=series['racer_3_ID']\n",
    "        ID_4=series['racer_4_ID']\n",
    "        ID_5=series['racer_5_ID']\n",
    "        ID_6=series['racer_6_ID']\n",
    "        racer_1_df=para_df[para_df['racer_ID']==ID_1]\n",
    "        racer_2_df=para_df[para_df['racer_ID']==ID_2]\n",
    "        racer_3_df=para_df[para_df['racer_ID']==ID_3]\n",
    "        racer_4_df=para_df[para_df['racer_ID']==ID_4]\n",
    "        racer_5_df=para_df[para_df['racer_ID']==ID_5]\n",
    "        racer_6_df=para_df[para_df['racer_ID']==ID_6]\n",
    "\n",
    "        if series['result_com']==40:\n",
    "            pass#同着のデータは削除\n",
    "        #追加していくデータフレームを作成\n",
    "        else:\n",
    "            add_df= pd.DataFrame({'result_com':series['result_com'],\n",
    "                                  'money':series['money'],\n",
    "                                    'number_race':series['number_race'],\n",
    "                                    'racer_1_ID':series['racer_1_ID'],\n",
    "                                    'racer_2_ID':series['racer_2_ID'],\n",
    "                                    'racer_3_ID':series['racer_3_ID'],\n",
    "                                    'racer_4_ID':series['racer_4_ID'],\n",
    "                                    'racer_5_ID':series['racer_5_ID'],\n",
    "                                    'racer_6_ID':series['racer_6_ID'],\n",
    "                                    'racer_1_bo':series['racer_1_b'],\n",
    "                                    'racer_1_mo':series['racer_1_m'],\n",
    "                                    'racer_2_bo':series['racer_2_b'],\n",
    "                                    'racer_2_mo':series['racer_2_m'],\n",
    "                                    'racer_3_bo':series['racer_3_b'],\n",
    "                                    'racer_3_mo':series['racer_3_m'],\n",
    "                                    'racer_4_bo':series['racer_4_b'],\n",
    "                                    'racer_4_mo':series['racer_4_m'],\n",
    "                                    'racer_5_bo':series['racer_5_b'],\n",
    "                                    'racer_5_mo':series['racer_5_m'],\n",
    "                                    'racer_6_bo':series['racer_6_b'],\n",
    "                                    'racer_6_mo':series['racer_6_m'],\n",
    "                                    'racer_1_rank':racer_1_df.iat[0,1],\n",
    "                                    'racer_1_male':racer_1_df.iat[0,2],\n",
    "                                    'racer_1_age':racer_1_df.iat[0,3],\n",
    "                                    'racer_1_doub':racer_1_df.iat[0,4],\n",
    "                                    'racer_1_ave_st':racer_1_df.iat[0,5],\n",
    "                                    'racer_2_rank':racer_2_df.iat[0,1],\n",
    "                                    'racer_2_male':racer_2_df.iat[0,2],\n",
    "                                    'racer_2_age':racer_2_df.iat[0,3],\n",
    "                                    'racer_2_doub':racer_2_df.iat[0,4],\n",
    "                                    'racer_2_ave_st':racer_2_df.iat[0,5],\n",
    "                                    'racer_3_rank':racer_3_df.iat[0,1],\n",
    "                                    'racer_3_male':racer_3_df.iat[0,2],\n",
    "                                    'racer_3_age':racer_3_df.iat[0,3],\n",
    "                                    'racer_3_doub':racer_3_df.iat[0,4],\n",
    "                                    'racer_3_ave_st':racer_3_df.iat[0,5],\n",
    "                                    'racer_4_rank':racer_4_df.iat[0,1],\n",
    "                                    'racer_4_male':racer_4_df.iat[0,2],\n",
    "                                    'racer_4_age':racer_4_df.iat[0,3],\n",
    "                                    'racer_4_doub':racer_4_df.iat[0,4],\n",
    "                                    'racer_4_ave_st':racer_4_df.iat[0,5],\n",
    "                                    'racer_5_rank':racer_5_df.iat[0,1],\n",
    "                                    'racer_5_male':racer_5_df.iat[0,2],\n",
    "                                    'racer_5_age':racer_5_df.iat[0,3],\n",
    "                                    'racer_5_doub':racer_5_df.iat[0,4],\n",
    "                                    'racer_5_ave_st':racer_5_df.iat[0,5],\n",
    "                                    'racer_6_rank':racer_6_df.iat[0,1],\n",
    "                                    'racer_6_male':racer_6_df.iat[0,2],\n",
    "                                    'racer_6_age':racer_6_df.iat[0,3],\n",
    "                                    'racer_6_doub':racer_6_df.iat[0,4],\n",
    "                                    'racer_6_ave_st':racer_6_df.iat[0,5] }, index=[''])\n",
    "        #//////////////////////////////データフレームにadd_dfを追加していく。\n",
    "        train_data_by_year_df=train_data_by_year_df.append(add_df)\n",
    "        train_data_df=train_data_df.append(add_df)\n",
    "    #train_data_df=train_data_df.append(train_data_by_year_df)\n",
    "    train_data_by_year_df.to_csv(write_train_by_year_file_path)\n",
    "train_data_df.to_csv(write_train_file_path)"
   ]
  },
  {
   "cell_type": "code",
   "execution_count": 5,
   "metadata": {
    "colab": {
     "base_uri": "https://localhost:8080/",
     "height": 255
    },
    "colab_type": "code",
    "executionInfo": {
     "elapsed": 641,
     "status": "ok",
     "timestamp": 1576857703930,
     "user": {
      "displayName": "ta ku",
      "photoUrl": "https://lh3.googleusercontent.com/a-/AAuE7mDW1GwUN8_s-mnB8Ci6mbpeOP9SpQo6o5Csf0rphQ=s64",
      "userId": "14345004097153540112"
     },
     "user_tz": -540
    },
    "id": "gwWx_0emsdGP",
    "outputId": "97ce5416-4941-40ee-9820-08046e92938e"
   },
   "outputs": [
    {
     "name": "stdout",
     "output_type": "stream",
     "text": [
      "      money  number_race  racer_1_ID  racer_1_age  racer_1_ave_st  racer_1_bo  racer_1_doub racer_1_male  racer_1_mo racer_1_rank  ...  racer_5_rank  racer_6_ID  racer_6_age  racer_6_ave_st  \\\n",
      "     1160.0          1.0      3959.0         35.0            0.14         3.0         0.541            1        43.0            4  ...             2      4037.0         34.0            0.19   \n",
      "     2960.0          2.0      3251.0         46.0            0.18        10.0         0.450            1        36.0            4  ...             3      4097.0         30.0            0.20   \n",
      "    21490.0          3.0      3662.0         43.0            0.16         4.0         0.480            1        68.0            3  ...             4      3925.0         37.0            0.22   \n",
      "     5100.0          4.0      4266.0         27.0            0.17        21.0         0.506            1        46.0            4  ...             2      4363.0         27.0            0.17   \n",
      "     1980.0          5.0      4112.0         32.0            0.21        40.0         0.439            1        39.0            3  ...             2      4573.0         24.0            0.15   \n",
      "..      ...          ...         ...          ...             ...         ...           ...          ...         ...          ...  ...           ...         ...          ...             ...   \n",
      "    54960.0          6.0      3503.0         50.0            0.16        26.0         0.177            1        44.0            2  ...             2      3885.0         46.0            0.17   \n",
      "      650.0          8.0      3873.0         44.0            0.16        41.0         0.405            1        61.0            3  ...             4      3694.0         48.0            0.17   \n",
      "     3930.0          9.0      3618.0         46.0            0.21         8.0         0.388            0        62.0            3  ...             2      4252.0         37.0            0.17   \n",
      "     1430.0         10.0      3710.0         45.0            0.17        45.0         0.261            1        52.0            2  ...             2      4123.0         38.0            0.19   \n",
      "     2800.0         11.0      3771.0         46.0            0.14        42.0         0.438            1        16.0            3  ...             3      4156.0         39.0            0.19   \n",
      "\n",
      "    racer_6_bo racer_6_doub  racer_6_male racer_6_mo  racer_6_rank  result_com  \n",
      "          29.0        0.396             1       47.0             3         6.0  \n",
      "           1.0        0.226             1       52.0             2         3.0  \n",
      "          48.0        0.336             1       66.0             2        44.0  \n",
      "          38.0        0.366             1       58.0             3        62.0  \n",
      "          53.0        0.514             1       75.0             4        25.0  \n",
      "..         ...          ...           ...        ...           ...         ...  \n",
      "          20.0        0.374             1       18.0             3        83.0  \n",
      "          12.0        0.200             1       29.0             2        14.0  \n",
      "          18.0        0.333             1       23.0             2        10.0  \n",
      "          35.0        0.538             0       32.0             4        25.0  \n",
      "          40.0        0.412             1       68.0             3        21.0  \n",
      "\n",
      "[18895 rows x 51 columns]\n"
     ]
    }
   ],
   "source": [
    "print(train_data_df)\n",
    "#print(series)"
   ]
  },
  {
   "cell_type": "code",
   "execution_count": 4,
   "metadata": {
    "colab": {},
    "colab_type": "code",
    "id": "g6aRIHIRsx-M"
   },
   "outputs": [
    {
     "name": "stdout",
     "output_type": "stream",
     "text": [
      "20\n"
     ]
    }
   ],
   "source": [
    "print(year)"
   ]
  },
  {
   "cell_type": "code",
   "execution_count": null,
   "metadata": {},
   "outputs": [],
   "source": []
  }
 ],
 "metadata": {
  "accelerator": "GPU",
  "colab": {
   "collapsed_sections": [],
   "name": "join_tool.ipynb",
   "provenance": []
  },
  "kernelspec": {
   "display_name": "Python 3",
   "language": "python",
   "name": "python3"
  },
  "language_info": {
   "codemirror_mode": {
    "name": "ipython",
    "version": 3
   },
   "file_extension": ".py",
   "mimetype": "text/x-python",
   "name": "python",
   "nbconvert_exporter": "python",
   "pygments_lexer": "ipython3",
   "version": "3.7.4"
  }
 },
 "nbformat": 4,
 "nbformat_minor": 1
}
