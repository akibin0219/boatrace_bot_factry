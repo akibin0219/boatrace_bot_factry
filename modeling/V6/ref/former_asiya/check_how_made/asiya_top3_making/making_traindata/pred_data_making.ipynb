{
 "cells": [
  {
   "cell_type": "code",
   "execution_count": 1,
   "metadata": {},
   "outputs": [],
   "source": [
    "#  colab用マウントコードの用意\n",
    "#from google.colab import drive#2020_08_19\n",
    "#drive.mount('/content/drive')"
   ]
  },
  {
   "cell_type": "code",
   "execution_count": 2,
   "metadata": {},
   "outputs": [],
   "source": [
    "#いろいろとインストール\n",
    "import requests #クローリングのためのモジュール\n",
    "from bs4 import BeautifulSoup as bs4#HTMLから特定の情報を抜き出すためのモジュール\n",
    "import time     #サーバーに負荷をかけないためのモジュール\n",
    "import os       #ディレクトリ作成のためのモジュール\n",
    "import pandas as pd"
   ]
  },
  {
   "cell_type": "markdown",
   "metadata": {},
   "source": [
    "## 決定版"
   ]
  },
  {
   "cell_type": "code",
   "execution_count": 17,
   "metadata": {},
   "outputs": [],
   "source": [
    "date='20200814'#日付を入力\n",
    "\n",
    "\n",
    "race_df=pd.DataFrame(index=[], columns=[])\n",
    "for i in range(12):\n",
    "    rno=i+1\n",
    "    #まず初めに１ページの情報を抜き出す機能\n",
    "    url='http://www.boatrace.jp/owpc/pc/race/racelist?rno={}&jcd=21&hd={}'.format(rno,date)\n",
    "    response=requests.get(url)#対象のURLをget\n",
    "    response.encoding = response.apparent_encoding\n",
    "    start_page=bs4(response.text, 'html.parser')\n",
    "    racers_div=start_page.select_one(\".is-tableFixed__3rdadd\")\n",
    "    racers_sep_row=racers_div.find_all('tbody') \n",
    "    index=0\n",
    "    race_racers_data=[0]*6\n",
    "    if len(racers_sep_row)==6:\n",
    "        for racer_html in racers_sep_row:\n",
    "            racer_row_ex_td=racer_html.find_all('td')\n",
    "            #選手の登録ID\n",
    "            racer_ID_div=racer_row_ex_td[2].find_all('div')\n",
    "            racer_ID_div=racer_ID_div[0]\n",
    "            racer_ID_div_txt=racer_ID_div.text\n",
    "            start=(racer_ID_div_txt.find('/'))-35\n",
    "            end=(racer_ID_div_txt.find('/')-31)\n",
    "            racer_ID=racer_ID_div_txt[start:end]#選手の登録ID\n",
    "\n",
    "            #選手のモータ番号\n",
    "            racer_moter_td=racer_row_ex_td[6]\n",
    "            racer_moter_td_text=racer_moter_td.text\n",
    "            racer_moter_split=racer_moter_td_text.split('\\r')\n",
    "            racer_moter_id=racer_moter_split[1][-2:]\n",
    "            #選手のボート番号\n",
    "            racer_boat_td=racer_row_ex_td[7]\n",
    "            racer_boat_td_text=racer_boat_td.text\n",
    "            racer_boat_split=racer_boat_td_text.split('\\r')\n",
    "            racer_boat_id=racer_boat_split[1][-2:]\n",
    "            \n",
    "            racer_data=[racer_ID,racer_moter_id,racer_boat_id]#選手固有のデータを持ったリスト\n",
    "\n",
    "            race_racers_data[index]=racer_data\n",
    "            index+=1\n",
    "    else:\n",
    "        print('欠場選手等の例外が発生していないか確認してください')\n",
    "    #race_racers_dataを一行に変換する\n",
    "    race_row=pd.Series(index=[])#一レースの情報を一行に変換したもの\n",
    "    race_num=rno#ここにはレース番号を入れる変数の値を代入\n",
    "    race_row['number_race']=race_num\n",
    "    for i in range(len(race_racers_data)):\n",
    "        race_row['racer_{}_ID'.format(i+1)]=int(race_racers_data[i][0])\n",
    "        race_row['racer_{}_mo'.format(i+1)]=int(race_racers_data[i][1])\n",
    "        race_row['racer_{}_bo'.format(i+1)]=int(race_racers_data[i][2])\n",
    "    race_df=race_df.append(race_row,ignore_index=True)"
   ]
  },
  {
   "cell_type": "markdown",
   "metadata": {},
   "source": [
    "### 作ったｄｆと選手のパラメータをくっつける"
   ]
  },
  {
   "cell_type": "code",
   "execution_count": 23,
   "metadata": {},
   "outputs": [],
   "source": [
    "#使用するファイルの定義\n",
    "file='20'\n",
    "para_file_path=\"{}.csv\".format(file)\n",
    "#result_file_path=\"asiya_result_csv/asiya_result_20{0}.csv\".format(year)\n",
    "write_path=\"{0}_asiya.csv\".format(date)\n",
    "#/////////////////////////////////////////////以下データフレームの作成\n",
    "para_df=pd.read_csv(para_file_path)\n",
    "para_df=para_df.drop([\"Unnamed: 0\"],axis=1)#csvファイルについている名無しの列を削除\n",
    "#出力用データフレーム\n",
    "#pred_race_df=pd.DataFrame(columns=['result_com','number_race','racer_1_ID','racer_2_ID','racer_3_ID','racer_4_ID','racer_5_ID','racer_6_ID','racer_1_rank','racer_1_male','racer_1_age','racer_1_doub','racer_1_ave_st','racer_2_rank','racer_2_male','racer_2_age','racer_2_doub','racer_2_ave_st','racer_3_rank','racer_3_male','racer_3_age','racer_3_doub','racer_3_ave_st','racer_4_rank','racer_4_male','racer_4_age','racer_4_doub','racer_4_ave_st','racer_5_rank','racer_5_male','racer_5_age','racer_5_doub','racer_5_ave_st','racer_6_rank','racer_6_male','racer_6_age','racer_6_doub','racer_6_ave_st'])\n",
    "pred_race_df=pd.DataFrame(columns=[],index=[])\n",
    "for index,series in race_df.iterrows():\n",
    "    add_df=pd.DataFrame(columns=['number_race','racer_1_ID','racer_2_ID','racer_3_ID','racer_4_ID','racer_5_ID','racer_6_ID','racer_1_rank','racer_1_male','racer_1_age','racer_1_doub','racer_1_ave_st','racer_2_rank','racer_2_male','racer_2_age','racer_2_doub','racer_2_ave_st','racer_3_rank','racer_3_male','racer_3_age','racer_3_doub','racer_3_ave_st','racer_4_rank','racer_4_male','racer_4_age','racer_4_doub','racer_4_ave_st','racer_5_rank','racer_5_male','racer_5_age','racer_5_doub','racer_5_ave_st','racer_6_rank','racer_6_male','racer_6_age','racer_6_doub','racer_6_ave_st'])\n",
    "    #///////////////////////////////////////レースに出ているレーサーの成績を検索＆取得\n",
    "    ID_1=series['racer_1_ID']\n",
    "    ID_2=series['racer_2_ID']\n",
    "    ID_3=series['racer_3_ID']\n",
    "    ID_4=series['racer_4_ID']\n",
    "    ID_5=series['racer_5_ID']\n",
    "    ID_6=series['racer_6_ID']\n",
    "    racer_1_df=para_df[para_df['racer_ID']==ID_1]\n",
    "    racer_2_df=para_df[para_df['racer_ID']==ID_2]\n",
    "    racer_3_df=para_df[para_df['racer_ID']==ID_3]\n",
    "    racer_4_df=para_df[para_df['racer_ID']==ID_4]\n",
    "    racer_5_df=para_df[para_df['racer_ID']==ID_5]\n",
    "    racer_6_df=para_df[para_df['racer_ID']==ID_6]\n",
    "\n",
    "    #追加していくデータフレームを作成\n",
    "   \n",
    "    add_df= pd.DataFrame({'number_race':series['number_race'],\n",
    "                            'racer_1_ID':series['racer_1_ID'],\n",
    "                            'racer_2_ID':series['racer_2_ID'],\n",
    "                            'racer_3_ID':series['racer_3_ID'],\n",
    "                            'racer_4_ID':series['racer_4_ID'],\n",
    "                            'racer_5_ID':series['racer_5_ID'],\n",
    "                            'racer_6_ID':series['racer_6_ID'],\n",
    "                            'racer_1_bo':series['racer_1_bo'],\n",
    "                            'racer_1_mo':series['racer_1_mo'],\n",
    "                            'racer_2_bo':series['racer_2_bo'],\n",
    "                            'racer_2_mo':series['racer_2_mo'],\n",
    "                            'racer_3_bo':series['racer_3_bo'],\n",
    "                            'racer_3_mo':series['racer_3_mo'],\n",
    "                            'racer_4_bo':series['racer_4_bo'],\n",
    "                            'racer_4_mo':series['racer_4_mo'],\n",
    "                            'racer_5_bo':series['racer_5_bo'],\n",
    "                            'racer_5_mo':series['racer_5_mo'],\n",
    "                            'racer_6_bo':series['racer_6_bo'],\n",
    "                            'racer_6_mo':series['racer_6_mo'],\n",
    "                            'racer_1_rank':racer_1_df.iat[0,1],\n",
    "                            'racer_1_male':racer_1_df.iat[0,2],\n",
    "                            'racer_1_age':racer_1_df.iat[0,3],\n",
    "                            'racer_1_doub':racer_1_df.iat[0,4],\n",
    "                            'racer_1_ave_st':racer_1_df.iat[0,5],\n",
    "                            'racer_2_rank':racer_2_df.iat[0,1],\n",
    "                            'racer_2_male':racer_2_df.iat[0,2],\n",
    "                            'racer_2_age':racer_2_df.iat[0,3],\n",
    "                            'racer_2_doub':racer_2_df.iat[0,4],\n",
    "                            'racer_2_ave_st':racer_2_df.iat[0,5],\n",
    "                            'racer_3_rank':racer_3_df.iat[0,1],\n",
    "                            'racer_3_male':racer_3_df.iat[0,2],\n",
    "                            'racer_3_age':racer_3_df.iat[0,3],\n",
    "                            'racer_3_doub':racer_3_df.iat[0,4],\n",
    "                            'racer_3_ave_st':racer_3_df.iat[0,5],\n",
    "                            'racer_4_rank':racer_4_df.iat[0,1],\n",
    "                            'racer_4_male':racer_4_df.iat[0,2],\n",
    "                            'racer_4_age':racer_4_df.iat[0,3],\n",
    "                            'racer_4_doub':racer_4_df.iat[0,4],\n",
    "                            'racer_4_ave_st':racer_4_df.iat[0,5],\n",
    "                            'racer_5_rank':racer_5_df.iat[0,1],\n",
    "                            'racer_5_male':racer_5_df.iat[0,2],\n",
    "                            'racer_5_age':racer_5_df.iat[0,3],\n",
    "                            'racer_5_doub':racer_5_df.iat[0,4],\n",
    "                            'racer_5_ave_st':racer_5_df.iat[0,5],\n",
    "                            'racer_6_rank':racer_6_df.iat[0,1],\n",
    "                            'racer_6_male':racer_6_df.iat[0,2],\n",
    "                            'racer_6_age':racer_6_df.iat[0,3],\n",
    "                            'racer_6_doub':racer_6_df.iat[0,4],\n",
    "                            'racer_6_ave_st':racer_6_df.iat[0,5] }, index=[''])\n",
    "    #//////////////////////////////データフレームにadd_dfを追加していく。\n",
    "    pred_race_df=pred_race_df.append(add_df)\n",
    "pred_race_df.to_csv('{}_starts_asiya.csv'.format(date))"
   ]
  },
  {
   "cell_type": "markdown",
   "metadata": {},
   "source": [
    "### 前処理、クラスタリング、ダミー変数化を行ってモデルに突っ込むだけの状態にする"
   ]
  },
  {
   "cell_type": "code",
   "execution_count": null,
   "metadata": {},
   "outputs": [],
   "source": []
  },
  {
   "cell_type": "code",
   "execution_count": null,
   "metadata": {},
   "outputs": [],
   "source": []
  },
  {
   "cell_type": "code",
   "execution_count": 72,
   "metadata": {},
   "outputs": [],
   "source": [
    "#まず初めに１ページの情報を抜き出す機能を作る\n",
    "url='http://www.boatrace.jp/owpc/pc/race/racelist?rno=12&jcd=21&hd=20200814'\n",
    "response=requests.get(url)#対象のURLをget\n",
    "response.encoding = response.apparent_encoding\n",
    "start_page=bs4(response.text, 'html.parser')\n",
    "racers_div=start_page.select_one(\".is-tableFixed__3rdadd\")\n",
    "racers_sep_row=racers_div.find_all('tbody') \n",
    "index=0\n",
    "race_racers_data=[0]*6\n",
    "\n",
    "racer_html=racers_sep_row[0]\n",
    "racer_row_ex_td=racer_html.find_all('td')\n",
    "#選手の登録ID\n",
    "racer_ID_div=racer_row_ex_td[2].find_all('div')\n",
    "racer_ID_div=racer_ID_div[0]\n",
    "racer_ID_div_txt=racer_ID_div.text\n",
    "start=(racer_ID_div_txt.find('/'))-35\n",
    "end=(racer_ID_div_txt.find('/')-31)\n",
    "racer_ID=racer_ID_div_txt[start:end]#選手の登録ID\n",
    "\n",
    "#選手のモータ番号\n",
    "racer_moter_td=racer_row_ex_td[6]\n",
    "racer_moter_td_text=racer_moter_td.text\n",
    "racer_moter_split=racer_moter_td_text.split('\\r')\n",
    "racer_moter_id=racer_moter_split[1][-2:]\n",
    "#racer_moter_id=racer_moter_td.text[26:28]\n",
    "#選手のボート番号\n",
    "racer_boat_td=racer_row_ex_td[7]\n",
    "racer_boat_td_text=racer_boat_td.text\n",
    "racer_boat_id=racer_boat_td_text[26:28]\n",
    "racer_data=[racer_ID,racer_moter_id,racer_boat_id]#選手固有のデータを持ったリスト\n",
    "\n",
    "race_racers_data[index]=racer_data\n"
   ]
  },
  {
   "cell_type": "code",
   "execution_count": null,
   "metadata": {},
   "outputs": [],
   "source": [
    "#まず初めに１ページの情報を抜き出す機能を作る\n",
    "url='http://www.boatrace.jp/owpc/pc/race/racelist?rno=12&jcd=21&hd=20200814'\n",
    "response=requests.get(url)#対象のURLをget\n",
    "response.encoding = response.apparent_encoding\n",
    "start_page=bs4(response.text, 'html.parser')\n",
    "racers_div=start_page.select_one(\".is-tableFixed__3rdadd\")\n",
    "racers_sep_row=racers_div.find_all('tbody') \n",
    "index=0\n",
    "race_racers_data=[0]*6\n",
    "if len(racers_sep_row)==6:\n",
    "    for racer_html in racers_sep_row:\n",
    "        racer_row_ex_td=racer_html.find_all('td')\n",
    "        #選手の登録ID\n",
    "        racer_ID_div=racer_row_ex_td[2].find_all('div')\n",
    "        racer_ID_div=racer_ID_div[0]\n",
    "        racer_ID_div_txt=racer_ID_div.text\n",
    "        start=(racer_ID_div_txt.find('/'))-35\n",
    "        end=(racer_ID_div_txt.find('/')-31)\n",
    "        racer_ID=racer_ID_div_txt[start:end]#選手の登録ID\n",
    "\n",
    "        #選手のモータ番号\n",
    "        racer_moter_td=racer_row_ex_td[6]\n",
    "        racer_moter_td_text=racer_moter_td.text\n",
    "        racer_moter_id=racer_moter_td.text[26:28]\n",
    "        #選手のボート番号\n",
    "        racer_boat_td=racer_row_ex_td[7]\n",
    "        racer_boat_td_text=racer_boat_td.text\n",
    "        racer_boat_id=racer_boat_td_text[26:28]\n",
    "        racer_data=[racer_ID,racer_moter_id,racer_boat_id]#選手固有のデータを持ったリスト\n",
    "\n",
    "        race_racers_data[index]=racer_data\n",
    "        index+=1\n",
    "else:\n",
    "    print('欠場選手等の例外が発生していないか確認してください')\n",
    "#race_racers_dataを一行に変換する\n",
    "race_row=pd.Series(index=[])#一レースの情報を一行に変換したもの\n",
    "race_num=1#ここにはレース番号を入れる変数の値を代入\n",
    "race_row['number_race']=race_num\n",
    "for i in range(len(race_racers_data)):\n",
    "    race_row['racer_{}_ID'.format(i+1)]=race_racers_data[i][0]\n",
    "    race_row['racer_{}_mo'.format(i+1)]=race_racers_data[i][1]\n",
    "    race_row['racer_{}_bo'.format(i+1)]=race_racers_data[i][2]"
   ]
  },
  {
   "cell_type": "code",
   "execution_count": 12,
   "metadata": {},
   "outputs": [
    {
     "name": "stdout",
     "output_type": "stream",
     "text": [
      "41\n"
     ]
    }
   ],
   "source": [
    "racer_moter_split=racer_moter_td_text.split('\\r')\n",
    "moter_ID=racer_moter_split[1][-2:]\n",
    "print(moter_ID)"
   ]
  },
  {
   "cell_type": "code",
   "execution_count": 11,
   "metadata": {},
   "outputs": [
    {
     "data": {
      "text/plain": [
       "'41'"
      ]
     },
     "execution_count": 11,
     "metadata": {},
     "output_type": "execute_result"
    }
   ],
   "source": [
    "racer_moter_split[1][-2:]"
   ]
  },
  {
   "cell_type": "code",
   "execution_count": 7,
   "metadata": {},
   "outputs": [
    {
     "name": "stdout",
     "output_type": "stream",
     "text": [
      "6\n"
     ]
    }
   ],
   "source": [
    "print(len(racers_div.find_all('tbody')))"
   ]
  },
  {
   "cell_type": "code",
   "execution_count": null,
   "metadata": {},
   "outputs": [],
   "source": []
  }
 ],
 "metadata": {
  "kernelspec": {
   "display_name": "Python 3",
   "language": "python",
   "name": "python3"
  },
  "language_info": {
   "codemirror_mode": {
    "name": "ipython",
    "version": 3
   },
   "file_extension": ".py",
   "mimetype": "text/x-python",
   "name": "python",
   "nbconvert_exporter": "python",
   "pygments_lexer": "ipython3",
   "version": "3.7.4"
  }
 },
 "nbformat": 4,
 "nbformat_minor": 2
}
