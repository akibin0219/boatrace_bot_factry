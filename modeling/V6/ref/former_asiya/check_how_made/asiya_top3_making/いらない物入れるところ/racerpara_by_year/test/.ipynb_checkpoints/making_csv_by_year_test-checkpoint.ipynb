{
 "cells": [
  {
   "cell_type": "code",
   "execution_count": 3,
   "metadata": {},
   "outputs": [],
   "source": [
    "import pandas as pd\n",
    "import numpy as np"
   ]
  },
  {
   "cell_type": "code",
   "execution_count": 4,
   "metadata": {},
   "outputs": [],
   "source": [
    "\n",
    "folder=[12]\n",
    "file_path=[0,1]\n",
    "for year in folder:\n",
    "    for path in file_path:\n",
    "        file_path_read=\"{0}/{1}_{2}.txt\".format(str(year),str(year),str(path))\n",
    "        file_path_write=\"{0}/{1}_{2}.csv\".format(str(year),str(year),str(path))\n",
    "        para_data=open(file_path_read,\"r\",encoding=\"utf-8_sig\")\n",
    "        with open(file_path_write,'a',encoding=\"utf-8_sig\") as f:\n",
    "            name_of_data=\"racer_ID,racer_rank,racer_male,racer_age,racer_doub_win,racer_ave_st_time\"\n",
    "            print(name_of_data,file=f)\n",
    "        for line in para_data:\n",
    "            with open(file_path_write,'a',encoding=\"utf-8_sig\") as f:\n",
    "                if line[29:31]==\"B2\":#racerのランクの数値化 line[29:31]にレーサーのランクあり\n",
    "                    rank=1\n",
    "                elif line[29:31]==\"B1\":\n",
    "                    rank=2\n",
    "                elif line[29:31]==\"A2\":\n",
    "                    rank=3\n",
    "                elif line[29:31]==\"A1\":\n",
    "                    rank=4\n",
    "            \n",
    "                if line[38:39]==\"1\":\n",
    "                    male=1\n",
    "                elif line[38:39]==\"2\":\n",
    "                    male=0\n",
    "            \n",
    "        \n",
    "                #        id          rank             male:1          age                       doble                         ave_st\n",
    "                w_line=line[:4]+\",\"+str(rank)+\",\"+str(male)+\",\"+line[39:41]+\",\"+line[52:53]+\".\"+line[53:56]+\",\"+line[69:70]+\".\"+line[70:72]\n",
    "                #w_line=str(line[:4])+\",\"+str(rank)+\",\"+str(line[38:39]-1)+\",\"+str(line[39:41])+\",\"+str(line[52:53])+\".\"+str(line[53:56])+\",\"+str(line[69:70])+\".\"+str(line[70:72])\n",
    "                print(w_line,file=f)\n",
    "\n",
    "\n",
    "        para_data.close()\n"
   ]
  },
  {
   "cell_type": "code",
   "execution_count": 47,
   "metadata": {},
   "outputs": [],
   "source": [
    "pd.set_option('display.width',200)#勝手に改行コードを入れられるのを防ぐ\n",
    "folder=[12]\n",
    "file_path=[0,1]\n",
    "for year in folder:\n",
    "    file_path_0=\"{0}/{1}_{2}.csv\".format(str(year),str(year),str(file_path[0]))\n",
    "    file_path_1=\"{0}/{1}_{2}.csv\".format(str(year),str(year),str(file_path[1]))\n",
    "    para_year_0=pd.read_csv(file_path_0)\n",
    "    para_year_1=pd.read_csv(file_path_1,)\n",
    "    para_year_0_df=para_year.dropna()#ダウンロードデータにある謎の欠損値を削除\n",
    "    para_year_df=para_year_1.dropna()#ダウンロードデータにある謎の欠損値を削除\n",
    "   \n",
    "    for index,series in para_year_0_df.iterrows():#後期のデータの中に無く、前期のデータのな中にある選手がいれば追加する。\n",
    "        if series[1] in para_year_df[\"racer_ID\"]:\n",
    "            pass\n",
    "            \n",
    "        elif series[\"racer_ID\"] in para_year_df[\"racer_ID\"]==False:\n",
    "            add_df=series\n",
    "            para_year_df=para_year_df.append(add_df,ignore_index=True)\n",
    "    to_csv_filepath=\"{0}/{1}.csv\".format(str(year),str(year))\n",
    "    para_year_df.to_csv(to_csv_filepath)"
   ]
  },
  {
   "cell_type": "code",
   "execution_count": null,
   "metadata": {},
   "outputs": [],
   "source": []
  }
 ],
 "metadata": {
  "kernelspec": {
   "display_name": "Python 3",
   "language": "python",
   "name": "python3"
  },
  "language_info": {
   "codemirror_mode": {
    "name": "ipython",
    "version": 3
   },
   "file_extension": ".py",
   "mimetype": "text/x-python",
   "name": "python",
   "nbconvert_exporter": "python",
   "pygments_lexer": "ipython3",
   "version": "3.7.4"
  }
 },
 "nbformat": 4,
 "nbformat_minor": 2
}
