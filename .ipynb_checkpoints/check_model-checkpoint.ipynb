{
 "cells": [
  {
   "cell_type": "markdown",
   "id": "gothic-richardson",
   "metadata": {},
   "source": [
    "# 保存したモデルが正常に動かせるのかチェックをする。(V3_1)"
   ]
  },
  {
   "cell_type": "code",
   "execution_count": null,
   "id": "finished-romania",
   "metadata": {},
   "outputs": [],
   "source": [
    "import pandas as pd\n",
    "import numpy as np\n",
    "from sklearn.metrics import accuracy_score\n",
    "from sklearn.model_selection import cross_val_score\n",
    "from matplotlib import pyplot as plt\n",
    "import seaborn\n",
    "from pandas import DataFrame\n",
    "from tqdm import tqdm\n",
    "from imblearn.under_sampling import RandomUnderSampler #アンダーサンプリング用\n",
    "from sklearn.model_selection import train_test_split\n",
    "import pickle\n",
    "# 機械学習用\n",
    "from sklearn.cluster import KMeans #クラスタリング用\n",
    "from sklearn.ensemble import RandomForestClassifier#ランダムフォレスト\n",
    "from copy import deepcopy as cp\n",
    "from sklearn.linear_model import LogisticRegression\n",
    "import time\n",
    "import datetime\n",
    "import os #ディレクトリ作成用\n",
    "import xgboost as xgb\n",
    "import sys\n",
    "#自作のモジュールのインポート\n",
    "sys.path.append(\"..\")\n",
    "import module.master as master\n",
    "import module.modeling_scores as modeling"
   ]
  },
  {
   "cell_type": "markdown",
   "id": "jewish-array",
   "metadata": {},
   "source": [
    "## 動作確認に関しては保存時に行われているからもう行う必要はないと今回は検証は行わない。"
   ]
  },
  {
   "cell_type": "code",
   "execution_count": null,
   "id": "worse-directory",
   "metadata": {},
   "outputs": [],
   "source": [
    "\n",
    "# #データ格納用のディレクトリ作り\n",
    "\n",
    "# version='V2_2'#バージョン\n",
    "\n",
    "\n",
    "\n",
    "# place_master=master.get_place_master()\n",
    "# for place in tqdm(place_master.items()):\n",
    "#     place_name=place[1]\n",
    "#     ################################################========================================================================================================================\n",
    "#     ################################################========================================================================================================================\n",
    "#     ################################################========================================================================================================================\n",
    "#     ################################################========================================================================================================================\n",
    "#     #各会場の成績の良かったモデルのスコアの読み込み\n",
    "#     dir_path = \"../bot_database/{place_name}/{place_name}_train/train_{place_name}.csv\".format(place_name=place_name)#学習のためのベースになるリザルトデータ\n",
    "#     result_base_df=pd.read_csv(dir_path)\n",
    "#     result_base_df=result_base_df.drop([\"Unnamed: 0\"],axis=1)\n",
    "\n",
    "#     model_dir_path = \"../bot_database/{place_name}/model_score_{place_name}/use_model/use_model_{place_name}_{V}.csv\".format(place_name=place_name,V=version)#使用するモデルのパラメータ読み込み\n",
    "#     use_model_df=pd.read_csv(model_dir_path)\n",
    "#     use_model_df=use_model_df.drop([\"Unnamed: 0\"],axis=1)\n",
    "\n",
    "#     analysis.check_model_V3_1(result_base_df,use_model_df,place_name,version)\n",
    "    \n",
    "    \n",
    "    \n",
    "    \n",
    "    \n",
    "#     #model_analysis.use_model_para(good_score_df,place_name,version)\n",
    "\n"
   ]
  },
  {
   "cell_type": "code",
   "execution_count": null,
   "id": "needed-privilege",
   "metadata": {},
   "outputs": [],
   "source": []
  },
  {
   "cell_type": "code",
   "execution_count": null,
   "id": "looking-singles",
   "metadata": {},
   "outputs": [],
   "source": []
  },
  {
   "cell_type": "code",
   "execution_count": null,
   "id": "amber-treat",
   "metadata": {},
   "outputs": [],
   "source": []
  },
  {
   "cell_type": "code",
   "execution_count": null,
   "id": "suburban-polymer",
   "metadata": {},
   "outputs": [],
   "source": []
  },
  {
   "cell_type": "code",
   "execution_count": null,
   "id": "beginning-category",
   "metadata": {},
   "outputs": [],
   "source": []
  }
 ],
 "metadata": {
  "kernelspec": {
   "display_name": "Python 3",
   "language": "python",
   "name": "python3"
  },
  "language_info": {
   "codemirror_mode": {
    "name": "ipython",
    "version": 3
   },
   "file_extension": ".py",
   "mimetype": "text/x-python",
   "name": "python",
   "nbconvert_exporter": "python",
   "pygments_lexer": "ipython3",
   "version": "3.8.7"
  },
  "varInspector": {
   "cols": {
    "lenName": 16,
    "lenType": 16,
    "lenVar": 40
   },
   "kernels_config": {
    "python": {
     "delete_cmd_postfix": "",
     "delete_cmd_prefix": "del ",
     "library": "var_list.py",
     "varRefreshCmd": "print(var_dic_list())"
    },
    "r": {
     "delete_cmd_postfix": ") ",
     "delete_cmd_prefix": "rm(",
     "library": "var_list.r",
     "varRefreshCmd": "cat(var_dic_list()) "
    }
   },
   "types_to_exclude": [
    "module",
    "function",
    "builtin_function_or_method",
    "instance",
    "_Feature"
   ],
   "window_display": false
  }
 },
 "nbformat": 4,
 "nbformat_minor": 5
}
